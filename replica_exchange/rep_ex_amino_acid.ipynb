{
 "cells": [
  {
   "cell_type": "markdown",
   "id": "51f3953b",
   "metadata": {},
   "source": [
    "# Replica Exchange Simulation to Compute Protonation Free Energy of a Lys Residue in Vacuum"
   ]
  },
  {
   "cell_type": "markdown",
   "id": "d3b93a99-5550-4b46-81ff-c16487db2efc",
   "metadata": {
    "tags": []
   },
   "source": [
    "## Introduction"
   ]
  },
  {
   "cell_type": "markdown",
   "id": "a0155b74-37c4-4f75-9312-25dc404181bb",
   "metadata": {
    "tags": []
   },
   "source": [
    "### In this tutorial, we are going to use Hamiltonian replica exchange simulation to compute protonation free energy of a Lys residue in vacuum.\n",
    "\n",
    "### Below is the Lys residue we are going to simulate. $CH_{3}CO-$ and $CH_{3}NH-$ groups are patched at the N- and C-termini, respectively. We set up a hybrid system here, where both $\\color{blue}{\\text {protonated state (state 1)}}$ and $\\color{red}{\\text{unprotonated state (state 2)}}$ are present. Potential energy of the system is as follows:\n",
    "\n",
    "$$\n",
    "U=U_{x_0,x_0}+\\lambda (U_{x_1,x_1}+U_{x_0,x_1})+(1-\\lambda)(U_{x_2,x_2}+U_{x_0,x_2})\n",
    "$$\n",
    "\n",
    "\n",
    "\n",
    "<img src=\"fig/fig2-lys.pdf\" width=300 height=300/>\n",
    "\n",
    "### In a replica exchange simulation, we have multiple <b>replicas</b> of the same system simulated under different <b>conditions</b>. Periodically, exchange will be attempted between neighboring replicas. To obtain correct distribution, the exchange ratio is determined accoriding to the Metropolois criterion. In this tutorial, different conditions correspond to different $\\lambda$ values in the above equation.\n",
    "\n",
    "\n",
    "\n",
    "<img src=\"fig/fig1-rep-ex.pdf\" width=600 height=500/>"
   ]
  },
  {
   "cell_type": "markdown",
   "id": "038accdb-bee7-4016-bca0-6406da31e7db",
   "metadata": {
    "tags": []
   },
   "source": [
    "## Prerequisite"
   ]
  },
  {
   "cell_type": "markdown",
   "id": "298d127b-6a66-49b0-8cc3-1726c85fd83f",
   "metadata": {
    "tags": []
   },
   "source": [
    "### To run this tutorial, we need to compile CHARMM $\\color {pink} {\\text {without MPI}}$ (having ```--without-mpi``` in configure). Also, this tutorial uses python module mpi4py (for replica exchange) and FastMBAR (for free energy calculations), which can be installed using pip."
   ]
  },
  {
   "cell_type": "markdown",
   "id": "c0e9f715-851b-49c5-b5d8-d82614e5e26c",
   "metadata": {
    "tags": []
   },
   "source": [
    "## How to run this script (non-interactively)"
   ]
  },
  {
   "cell_type": "markdown",
   "id": "d49dce71-5335-4fb8-a593-436335e765b9",
   "metadata": {
    "jp-MarkdownHeadingCollapsed": true,
    "tags": []
   },
   "source": [
    "### Here we are going to run 8 replicas using 8 processes\n",
    "\n",
    "```\n",
    "mpirun -np 8 --quiet python rep_ex_amino_acid.py 8\n",
    "\n",
    "```"
   ]
  },
  {
   "cell_type": "markdown",
   "id": "a7d1602f-64ad-4167-a898-2a73d60ca716",
   "metadata": {
    "tags": []
   },
   "source": [
    "## Explanation of the script"
   ]
  },
  {
   "cell_type": "markdown",
   "id": "eb484879-f3e0-4668-9de8-cb6e93803c57",
   "metadata": {},
   "source": [
    "### As always, load the following pyCHARMM modules at the beginning. For this tutorial, we also need mpi4py to perform replica exchange and FastMBAR for free energy calculations.\n",
    "\n",
    "```\n",
    "\n",
    "from mpi4py import MPI\n",
    "import FastMBAR\n",
    "\n",
    "import os\n",
    "import sys\n",
    "import subprocess\n",
    "import numpy as np\n",
    "import pandas as pd\n",
    "\n",
    "import pycharmm\n",
    "import pycharmm.read as read\n",
    "import pycharmm.lingo as lingo\n",
    "import pycharmm.generate as gen\n",
    "import pycharmm.settings as settings\n",
    "import pycharmm.write as write\n",
    "import pycharmm.nbonds as nbonds\n",
    "import pycharmm.ic as ic\n",
    "import pycharmm.coor as coor\n",
    "import pycharmm.energy as energy\n",
    "import pycharmm.dynamics as dyn\n",
    "import pycharmm.minimize as minimize\n",
    "import pycharmm.crystal as crystal\n",
    "import pycharmm.select as select\n",
    "import pycharmm.image as image\n",
    "import pycharmm.psf as psf\n",
    "import pycharmm.param as param\n",
    "import pycharmm.cons_harm as cons_harm\n",
    "import pycharmm.cons_fix as cons_fix\n",
    "import pycharmm.shake as shake\n",
    "import pycharmm.scalar as scalar\n",
    "import pycharmm.charmm_file as charmm_file\n",
    "```"
   ]
  },
  {
   "cell_type": "markdown",
   "id": "a383dac3",
   "metadata": {},
   "source": [
    "### We first define some variables used in our simulation, including number of $\\lambda$ windows/replicas, simulation temperature, number of replica exchange cycles, number of steps per cycle, etc."
   ]
  },
  {
   "cell_type": "markdown",
   "id": "b9743d50-3edc-4efe-b644-d5d0f9b257b1",
   "metadata": {
    "jp-MarkdownHeadingCollapsed": true,
    "tags": []
   },
   "source": [
    "```\n",
    "# user defined variables\n",
    "nl_chem=int(sys.argv[1]) # number of windows in lambda_chem\n",
    "tsim=298.15              # simulation temperature\n",
    "ncycles=1000             # number of cycles\n",
    "nsteps_per_cyc=1000      # number of steps per cycle \n",
    "\n",
    "# residue name and segment id specific to this system\n",
    "comp='lys'\n",
    "segid='PROT'\n",
    "\n",
    "# if we find that additional simulation time is needed after the first run, \n",
    "# we can restart/continue our simulation by chaning variable itt to 2\n",
    "itt=1                    # run index\n",
    "ittm1=itt-1              # index of previous run\n",
    "\n",
    "# for free energy calculation, we need to recompute energies for dcd trajectories.\n",
    "# if we saved dcd too frequently and would like to reduce the frequency in energy\n",
    "# calculations, we could increase variable skip_dcd.\n",
    "skip_dcd=1\n",
    "\n",
    "# boltzmann constant and inverse temperature \n",
    "kB=0.0019872042586408316 # kcal/mol/K\n",
    "beta=1/kB/tsim\n",
    "\n",
    "\n",
    "```"
   ]
  },
  {
   "cell_type": "markdown",
   "id": "dd579098-ac5c-4f7b-b663-14eb5fbd1cea",
   "metadata": {},
   "source": [
    "### The following script is for MPI setup. In this tutorial, the number of $\\lambda$ windows is equal to the number of processes.\n",
    "```\n",
    "# mpi setup\n",
    "comm=MPI.COMM_WORLD\n",
    "nproc=comm.Get_size()\n",
    "rank=comm.Get_rank()\n",
    "repl_id=rank\n",
    "\n",
    "```"
   ]
  },
  {
   "cell_type": "markdown",
   "id": "c3a34260-7771-46ea-ab96-0a626df8d3c6",
   "metadata": {},
   "source": [
    "### Set up directories for topology/parameter files, working directory, and output directory\n",
    "```\n",
    "# directories\n",
    "param_dir='toppar'\n",
    "wrk_dir='.'\n",
    "out_dir='aa'+str(rank)\n",
    "\n",
    "```"
   ]
  },
  {
   "cell_type": "markdown",
   "id": "1c6f2690-8458-4282-869e-e43935a8df09",
   "metadata": {},
   "source": [
    "### Speicify file names for input pdb, psf files, and output files\n",
    "```\n",
    "# input and output files\n",
    "inp_psf_fn=wrk_dir+'/'+comp+'.psf'\n",
    "inp_pdb_fn=wrk_dir+'/'+comp+'.pdb'\n",
    "inp_box_fn=wrk_dir+'/box_size.dat'\n",
    "dcd_fn=out_dir+'/dcd/prod'+str(itt)+'.dcd'\n",
    "rst_fn=out_dir+'/res/prod'+str(itt)+'.res'\n",
    "rpr_fn=out_dir+'/res/prod'+str(ittm1)+'.res'\n",
    "pdb_fn=out_dir+'/pdb/prod'+str(itt)+'.pdb'\n",
    "log_fn=out_dir+'/out/prod'+str(itt)+'.out'\n",
    "exc_fn=out_dir+'/exc/exch'+str(itt)+'.dat'\n",
    "his_fn=out_dir+'/his/cond_his'+str(itt)+'.dat'\n",
    "cnd_fn=out_dir+'/../cond.dat'\n",
    "exch_all_fn=out_dir+'/../exchange-all-'+str(itt)+'.dat'\n",
    "exch_all_pre_fn=out_dir+'/../exchange-all-'+str(ittm1)+'.dat'\n",
    "ratio_fn=out_dir+'/../ratio-'+str(itt)+'.dat'\n",
    "```"
   ]
  },
  {
   "cell_type": "markdown",
   "id": "82e2e870-fc4f-41ca-a51e-a9be34952cad",
   "metadata": {
    "jp-MarkdownHeadingCollapsed": true,
    "tags": []
   },
   "source": [
    "### $\\lambda$ values are linearly spaced here. We can change it to more advanced $\\lambda$ schedule here if needed.\n",
    "```\n",
    "# lambda_chem\n",
    "l_g='{0:.4f}'.format(1/(nl_chem-1)*repl_id)\n",
    "\n",
    "\n",
    "```"
   ]
  },
  {
   "cell_type": "markdown",
   "id": "b7c6c114-51da-4929-9c54-ed976b3b96c4",
   "metadata": {},
   "source": [
    "### File units of charmm log file, dcd file, and restart files\n",
    "```\n",
    "# file units\n",
    "log_unit=30\n",
    "dcd_unit=40\n",
    "rst_unit=50  # unit for current restart file\n",
    "rpr_unit=70  # unit for previous restart file\n",
    "```\n"
   ]
  },
  {
   "cell_type": "markdown",
   "id": "97477cda-ce1e-4995-90fe-600fe8f5e342",
   "metadata": {},
   "source": [
    "### Create directories for output files\n",
    "\n",
    "```\n",
    "# create directories\n",
    "os.system('mkdir -p '+out_dir+'/dcd')\n",
    "os.system('mkdir -p '+out_dir+'/res')\n",
    "os.system('mkdir -p '+out_dir+'/pdb')\n",
    "os.system('mkdir -p '+out_dir+'/out')\n",
    "os.system('mkdir -p '+out_dir+'/exc')\n",
    "os.system('mkdir -p '+out_dir+'/his')\n",
    "\n",
    "```"
   ]
  },
  {
   "cell_type": "markdown",
   "id": "590bf685-8c55-4512-bb66-b287d99ff7c6",
   "metadata": {},
   "source": [
    "### Conditions ($\\lambda$ values here) used in replica exchange\n",
    "```\n",
    "def write_cond_file():\n",
    "    ## save the conditions to a file\n",
    "    sendbuf=np.array([float(l_g)],dtype='f')\n",
    "    recvbuf=None\n",
    "    if rank==0:\n",
    "       recvbuf = np.empty([nproc, 1], dtype='f')\n",
    "    comm.Gather(sendbuf,recvbuf,root=0)\n",
    "    if rank==0:\n",
    "       np.savetxt(cnd_fn,recvbuf,fmt='%.4f')\n",
    "    comm.barrier()\n",
    "    # broadcast condition array\n",
    "    if rank==0:\n",
    "        cond_array=recvbuf\n",
    "    else:\n",
    "        cond_array=np.empty([nproc, 1], dtype='f')\n",
    "    comm.Bcast(cond_array, root=0)\n",
    "    return cond_array\n",
    "\n",
    "def get_latest_lmd(cond_arr):\n",
    "    exch_all_pre=np.loadtxt(exch_all_pre_fn,usecols=(9),dtype=int)\n",
    "    repid_new=exch_all_pre[-1*nproc:]-1\n",
    "    l='{0:.4f}'.format(cond_arr[repid_new==rank][0][0])\n",
    "    condid=np.where(repid_new==rank)[0][0]\n",
    "    #print(rank+1,intra,inter,condid)\n",
    "    return l,condid\n",
    "\n",
    "\n",
    "cond_arr=write_cond_file()\n",
    "if itt >= 2:\n",
    "       l,condid=get_latest_lmd(cond_arr)\n",
    "else:\n",
    "       condid=rank\n",
    "       l=l_g\n",
    "```"
   ]
  },
  {
   "cell_type": "markdown",
   "id": "16a86f60-ddf7-4997-a888-2ab6f481206c",
   "metadata": {
    "jp-MarkdownHeadingCollapsed": true,
    "tags": []
   },
   "source": [
    "### Specify charmm output file\n",
    "\n",
    "```\n",
    "clog=charmm_file.CharmmFile(file_name=log_fn,file_unit=log_unit,read_only=False,formatted=True)\n",
    "lingo.charmm_script('outu '+str(log_unit))\n",
    "```"
   ]
  },
  {
   "cell_type": "markdown",
   "id": "f728e253-ae63-4a16-a181-bb0746805b2c",
   "metadata": {
    "tags": []
   },
   "source": [
    "### Read topology and parameter files. The topology file is special here since we have a hybrid system, contatining both protonated and unprotonated form of Lys\n",
    "```\n",
    "read.rtf(param_dir+'/top_all36_prot_hedi_xrliu.rtf')\n",
    "read.prm(param_dir+'/par_all36m_prot.prm',flex=True)\n",
    "```\n"
   ]
  },
  {
   "cell_type": "markdown",
   "id": "d28a6ee3-c1d9-49f1-81c1-9104237a8d24",
   "metadata": {},
   "source": [
    "### Read psf and pdb file of the initial structure\n",
    "```\n",
    "read.psf_card(inp_psf_fn)\n",
    "read.pdb(inp_pdb_fn,resid=True)\n",
    "```"
   ]
  },
  {
   "cell_type": "markdown",
   "id": "65c0ca63-a606-4abc-b692-381732f63b0a",
   "metadata": {},
   "source": [
    "### Set up periodic boundary condition\n",
    "```\n",
    "size=np.loadtxt(inp_box_fn,usecols=(0))\n",
    "crystal.define_cubic(size)\n",
    "crystal.build(12)\n",
    "# shift box center to origin\n",
    "pos=coor.get_positions()\n",
    "coor.set_positions(pos-size*0.5)\n",
    "offset=0\n",
    "image.setup_segment(offset,offset,offset,segid)\n",
    "# write coordinates\n",
    "write.coor_pdb(out_dir+'/init.pdb')\n",
    "\n",
    "```"
   ]
  },
  {
   "cell_type": "markdown",
   "id": "7dcecea6-ae67-4a0b-a22a-738cab57bbf1",
   "metadata": {},
   "source": [
    "### Define substituents at a given site: here the protonated state and the unprotonated state. Then use \"BLOCK\" function in CHARMM to make them not interact with each other\n",
    "\n",
    "```\n",
    "\n",
    "def define_sub(aa,ires):\n",
    "    '''\n",
    "    define substituents\n",
    "    '''\n",
    "    resn=aa.upper()\n",
    "    resid=str(ires)\n",
    "    atom_list=titr_grp(resn)\n",
    "    sele_w=~pycharmm.SelectAtoms(select_all=True)\n",
    "    sele_m=~pycharmm.SelectAtoms(select_all=True)\n",
    "    sele_p=~pycharmm.SelectAtoms(select_all=True)\n",
    "    sele_u=~pycharmm.SelectAtoms(select_all=True)\n",
    "    for name in atom_list:\n",
    "        sele_w = sele_w | pycharmm.SelectAtoms().by_res_and_type(seg_id=segid,res_id=resid,atom_type=name+'W')\n",
    "        sele_m = sele_m | pycharmm.SelectAtoms().by_res_and_type(seg_id=segid,res_id=resid,atom_type=name+'M')\n",
    "        sele_p = sele_p | pycharmm.SelectAtoms().by_res_and_type(seg_id=segid,res_id=resid,atom_type=name+'P')\n",
    "        sele_u = sele_u | pycharmm.SelectAtoms().by_res_and_type(seg_id=segid,res_id=resid,atom_type=name+'U')\n",
    "    sele_w.store('site{}{}subW'.format(resn,resid))\n",
    "    sele_m.store('site{}{}subM'.format(resn,resid))\n",
    "    sele_p.store('site{}{}subP'.format(resn,resid))\n",
    "    sele_u.store('site{}{}subU'.format(resn,resid))\n",
    "\n",
    "class set_block:\n",
    "    '''\n",
    "    set up block for simulation\n",
    "    '''\n",
    "    def __init__(self,aa='',ires='1',nstates='2',lmd=''):\n",
    "        self.resn=aa.upper()\n",
    "        self.resid=str(ires)\n",
    "        self.nstat=int(nstates)\n",
    "        self.lmd=float(lmd)\n",
    "    def run(self):\n",
    "        self.set_name()\n",
    "        self.reset()\n",
    "        self.call()\n",
    "    def set_name(self):\n",
    "        sele_name_w='site%s%ssubW'%(self.resn,self.resid)\n",
    "        sele_name_m='site%s%ssubM'%(self.resn,self.resid)\n",
    "        sele_name_p='site%s%ssubP'%(self.resn,self.resid)\n",
    "        sele_name_u='site%s%ssubU'%(self.resn,self.resid)\n",
    "        if self.resn == 'ASP' or self.resn == 'GLU':\n",
    "           self.sele_name=[sele_name_w,sele_name_m,sele_name_p]\n",
    "        elif self.resn == 'HSD':\n",
    "           self.sele_name=[sele_name_w,sele_name_u]\n",
    "        elif self.resn == 'HSE':\n",
    "           self.sele_name=[sele_name_w,sele_name_m]\n",
    "        elif self.resn == 'LYS':\n",
    "           self.sele_name=[sele_name_w,sele_name_m]\n",
    "        elif self.resn == 'HSP':\n",
    "           self.sele_name=[sele_name_w,sele_name_u,sele_name_m]\n",
    "    def reset(self):\n",
    "        lingo.charmm_script('''\n",
    "              BLOCK %s\n",
    "                    clear \n",
    "              END\n",
    "        '''%(self.nstat+1))\n",
    "    def call(self):\n",
    "        excl_list=''\n",
    "        for i in range(0,self.nstat):\n",
    "            for j in range(i+1,self.nstat):\n",
    "                excl_list=excl_list+str(i+2)+' '+str(j+2)+' '\n",
    "        lingo.charmm_script('''\n",
    "              BLOCK {nblk}\n",
    "                    call 2 sele {sele1} end\n",
    "                    call 3 sele {sele2} end\n",
    "\n",
    "                    coef 1 1 1.0\n",
    "                    coef 1 2 {lmbd1}\n",
    "                    coef 1 3 {lmbd2}\n",
    "\n",
    "                    coef 2 2 {lmbd1}\n",
    "                    coef 2 3 0.0\n",
    "\n",
    "                    coef 3 3 {lmbd2}\n",
    "\n",
    "                    excl {excl}\n",
    "\n",
    "                    rmla bond thet impr\n",
    "                    msma\n",
    "              END\n",
    "        '''.format(nblk=self.nstat+1,\n",
    "                   sele1=self.sele_name[0],\n",
    "                   sele2=self.sele_name[1],\n",
    "                   lmbd1=self.lmd,\n",
    "                   lmbd2=1.0-self.lmd,\n",
    "                   excl=excl_list))\n",
    "    \n",
    "        \n",
    "define_sub(comp,ires=1)\n",
    "\n",
    "blk=set_block(comp,ires=1,nstates='2',lmd=l)\n",
    "blk.run()\n",
    "```"
   ]
  },
  {
   "cell_type": "markdown",
   "id": "b627b367-7909-4090-88e9-9923d2e79e11",
   "metadata": {},
   "source": [
    "### Set up nonbonded interactions\n",
    "\n",
    "```\n",
    "nbond={'elec': True,\n",
    "       'atom': True,\n",
    "       'cdie': True,\n",
    "       'fswitch': True,\n",
    "       'eps': 1,\n",
    "       'vdw': True,\n",
    "       'vatom': True,\n",
    "       'vfswitch': True,\n",
    "       'cutnb': 14,\n",
    "       'cutim': 14,\n",
    "       'ctofnb': 12,\n",
    "       'ctonnb': 10,\n",
    "       'ewald': False\n",
    "      }\n",
    "nb_nopme=pycharmm.NonBondedScript(**nbond)\n",
    "nb_nopme.run()\n",
    "```"
   ]
  },
  {
   "cell_type": "markdown",
   "id": "5bf76ab6-70ab-4f9d-b0b5-2fcc160f234e",
   "metadata": {},
   "source": [
    "### Restrain the conformations between the protonated form and unprotonated form\n",
    "\n",
    "```\n",
    "\n",
    "class resd_restrain:\n",
    "    '''\n",
    "    restrain all or heavy atoms between analogous groups of the 2 or 3 protonation states using resd restraint.\n",
    "    dynamics doesn't work if analogous atoms are on top of each other.\n",
    "    '''\n",
    "    def __init__(self,aa='',ires='',heavy=True):\n",
    "        self.heavy=heavy\n",
    "        self.resn=aa.upper()\n",
    "        self.resid=str(ires)\n",
    "    def run(self):\n",
    "        self.reset()\n",
    "        self.restrain()\n",
    "        self.show()\n",
    "    def reset(self):\n",
    "        lingo.charmm_script('RESD reset')\n",
    "    def resd(self,name):\n",
    "        sel_w=pycharmm.SelectAtoms().by_res_and_type(seg_id=segid,res_id=self.resid,atom_type=name+'W')\n",
    "        sel_m=pycharmm.SelectAtoms().by_res_and_type(seg_id=segid,res_id=self.resid,atom_type=name+'M')\n",
    "        sel_p=pycharmm.SelectAtoms().by_res_and_type(seg_id=segid,res_id=self.resid,atom_type=name+'P')\n",
    "        sel_u=pycharmm.SelectAtoms().by_res_and_type(seg_id=segid,res_id=self.resid,atom_type=name+'U')\n",
    "        w=sel_w.get_n_selected()\n",
    "        m=sel_m.get_n_selected()\n",
    "        p=sel_p.get_n_selected()\n",
    "        u=sel_u.get_n_selected()\n",
    "        if w==1 and m==1:\n",
    "           lingo.charmm_script('resd kval 100 rval 0.0 eval 2 ival 1 1.0 %s %s %s %s %s %s'%\n",
    "                               (segid,self.resid,name+'W',segid,self.resid,name+'M'))\n",
    "        if w==1 and p==1:\n",
    "           lingo.charmm_script('resd kval 100 rval 0.0 eval 2 ival 1 1.0 %s %s %s %s %s %s'%\n",
    "                               (segid,self.resid,name+'W',segid,self.resid,name+'P'))\n",
    "        if w==1 and u==1:\n",
    "           lingo.charmm_script('resd kval 100 rval 0.0 eval 2 ival 1 1.0 %s %s %s %s %s %s'%\n",
    "                               (segid,self.resid,name+'W',segid,self.resid,name+'U'))\n",
    "    def restrain(self):\n",
    "        atom_list=titr_grp(self.resn)\n",
    "        for atom_name in atom_list:\n",
    "            if self.heavy==True:  # restrain heavy atoms\n",
    "               if atom_name[0]!='H':\n",
    "                  self.resd(atom_name)\n",
    "            else:                 # restrain all atoms\n",
    "               self.resd(atom_name)\n",
    "    def show(self):\n",
    "        lingo.charmm_script('print resdistances')\n",
    "        energy.show()\n",
    "        \n",
    "        \n",
    "        \n",
    "restrain=resd_restrain(comp,ires=1)\n",
    "restrain.run()\n",
    "```"
   ]
  },
  {
   "cell_type": "markdown",
   "id": "90f260a5-db65-447d-99fb-714e1bcb5314",
   "metadata": {},
   "source": [
    "### If this the first run, do a quick energy minimization\n",
    "```\n",
    "if itt == 1:\n",
    "    minimize.run_sd(nstep=50,nprint=10,tolenr=1e-3,tolgrd=1e-3)\n",
    "    energy.show()\n",
    "    # write coordinates\n",
    "    write.coor_pdb(out_dir+'/mini.pdb')\n",
    "```"
   ]
  },
  {
   "cell_type": "markdown",
   "id": "d0adc867-81b7-4c51-89ff-3bcd5b0f4027",
   "metadata": {},
   "source": [
    "#### Set up SHAKE and fbeta before we run dynamics\n",
    "```\n",
    "lingo.charmm_script('''\n",
    "          faster on\n",
    "''')\n",
    "shake.on(bonh=True, fast=True, tol=1e-7)\n",
    "n = psf.get_natom()\n",
    "scalar.set_fbetas([1.0] * n)\n",
    "```\n",
    "\n"
   ]
  },
  {
   "cell_type": "markdown",
   "id": "6f1bb9c7-bf82-481f-b3a6-5534e23d1df7",
   "metadata": {},
   "source": [
    "### Run replica exchange simulations\n",
    "\n",
    "```\n",
    "dyn_dict={\n",
    "    'leap': True,\n",
    "    'verlet': False,\n",
    "    'cpt': False,\n",
    "    'new': False,\n",
    "    'langevin': True,\n",
    "    'omm': False,\n",
    "    'start': True,\n",
    "    'timestep': 0.002,\n",
    "    'nstep': nsteps_per_cyc,\n",
    "    'nsavc': 0,\n",
    "    'nsavv': 0,\n",
    "    'nsavl': 0,      # frequency for saving lambda values in lamda-dynamics\n",
    "    'nprint': nsteps_per_cyc, # Frequency to write to output\n",
    "    'iprfrq': nsteps_per_cyc, # Frequency to calculate averages\n",
    "    'isvfrq': nsteps_per_cyc, # Frequency to save restart file\n",
    "    'ntrfrq': 5000,\n",
    "    'inbfrq':-1,\n",
    "    'ihbfrq':0,\n",
    "    'ilbfrq':0,\n",
    "    'imgfrq':-1,\n",
    "    'iunrea':-1,\n",
    "    'iunwri':rst_unit,\n",
    "    'iuncrd':-1,\n",
    "    'iunldm':-1,\n",
    "    'firstt': tsim,\n",
    "    'finalt': tsim,\n",
    "    'tstruct': tsim,\n",
    "    'tbath': tsim,\n",
    "    'iasors': 1, # assign velocities\n",
    "    'iasvel': 1, # method for assignment of velocities during heating & equil when IASORS is nonzero.\n",
    "                 # This option also controls the initial assignment of velocities \n",
    "    'iscale': 0, # not scale velocities on a restart\n",
    "    'scale': 1,  # scaling factor for velocity scaling\n",
    "    'ichecw': 0, # not check temperature\n",
    "    'echeck': -1 # not check energy\n",
    "}\n",
    "\n",
    "\n",
    "...\n",
    "\n",
    "\n",
    "rex=rep_ex(ncycle=ncycles,condid=condid,lmd=l,conditions=cond_arr)\n",
    "rex.run()\n",
    "```"
   ]
  },
  {
   "cell_type": "markdown",
   "id": "9f4f7b93-65b0-468f-be3a-f5995250790f",
   "metadata": {},
   "source": [
    "### In the above replica exchange simulations, trajecotries are saved based on replica instead of condition. We need to unmix dcds here\n",
    "\n",
    "```\n",
    "rex.trj_unmixing()\n",
    "comm.barrier()\n",
    "```"
   ]
  },
  {
   "cell_type": "markdown",
   "id": "5a316128-8dc1-42ee-a478-5dd281c1056f",
   "metadata": {},
   "source": [
    "### To obtain exchange accpetance ratio, we can do \n",
    "\n",
    "```\n",
    "rex.trj_unmixing()\n",
    "comm.barrier()\n",
    "```\n"
   ]
  },
  {
   "cell_type": "markdown",
   "id": "e28f3640-2233-481c-a701-367d1b4b6404",
   "metadata": {},
   "source": [
    "### To compute free energy free energy profile as a function of $\\lambda$, we need to recompute energies for the unmixed trajectory and then use MBAR \n",
    "\n",
    "```\n",
    "def calc_ener(cond_array):\n",
    "    dcd_cond_fn='cond'+str(rank)+'/dcd/prod'+str(itt)+'.dcd'\n",
    "    os.system('mkdir -p cond'+str(rank)+'/ener')\n",
    "    for i in range(0,nproc):\n",
    "        l_new=cond_array[i][0]\n",
    "        blk=set_block(comp,ires=1,nstates='2',lmd=l_new)\n",
    "        blk.run()\n",
    "        #print(l_new)\n",
    "        ener_fn='cond'+str(rank)+'/ener/ener'+str(itt)+'-'+str(l_new)+'.dat'\n",
    "        dcd_cond=charmm_file.CharmmFile(file_name=dcd_cond_fn,file_unit=7,read_only=True,formatted=False)\n",
    "        lingo.charmm_script('traj query unit 7')\n",
    "        nf=lingo.get_energy_value('NFILE')\n",
    "        skip=lingo.get_energy_value('SKIP')\n",
    "        lingo.charmm_script('traj firstu 7 nunit 1 skip %s'%(skip*skip_dcd))\n",
    "        ener=open(ener_fn,'w',buffering=1)\n",
    "        settings.set_verbosity(0)\n",
    "        for iframe in range(0,int(nf/skip_dcd)):\n",
    "            lingo.charmm_script('''\n",
    "                       traj read\n",
    "                       energy\n",
    "            ''')\n",
    "            e=lingo.get_energy_value('ENER')\n",
    "            ener.write('%7i %13.4f\\n'%(iframe,e))\n",
    "        ener.close()\n",
    "        dcd_cond.close()\n",
    "\n",
    "def mbar(combine,cond_array):\n",
    "    if rank==0:\n",
    "       if combine==True:\n",
    "          excl=10\n",
    "          configs=int(itt*ncycles/skip_dcd)-excl\n",
    "          beg=1\n",
    "       else:\n",
    "          excl=10\n",
    "          configs=int(ncycles/skip_dcd)-excl\n",
    "          beg=itt\n",
    "       ener=np.zeros((nproc,configs,nproc), dtype = float)\n",
    "       for i in range(0,nproc):\n",
    "           # protein calc energies loaded in steps\n",
    "           for step in range(0,nproc):\n",
    "               l_new=cond_array[step][0]\n",
    "               #fileName = \"cond\"+str(i)+\"/ener/ener-\"+str(l_new)+\".dat\"\n",
    "               #tmp = np.loadtxt(fileName,dtype=float,usecols=(1),skiprows=0,max_rows=configs)\n",
    "               for ii in range(beg,itt+1):\n",
    "                   fileName = \"cond\"+str(i)+\"/ener/ener\"+str(ii)+\"-\"+str(l_new)+\".dat\"\n",
    "                   tmpi = np.loadtxt(fileName,dtype=float,usecols=(1),skiprows=0,max_rows=ncycles)\n",
    "                   if ii>beg:\n",
    "                      tmp=np.concatenate((tmp,tmpi))\n",
    "                   elif ii==beg:\n",
    "                      tmp=tmpi\n",
    "               if step > 0:\n",
    "                   tmp2 = np.column_stack((tmp2,tmp))\n",
    "               else:\n",
    "                   tmp2=np.copy(tmp)\n",
    "           ener[i,:,:] = tmp2[excl:,:]\n",
    "\n",
    "       # calculate free energy difference using FastMBAR\n",
    "       N_k = [configs for i in range(nproc)]\n",
    "       N_k = np.asarray(N_k)\n",
    "       tmp = ener.reshape((-1,nproc))\n",
    "       u_kn = tmp.T * beta\n",
    "       print(u_kn)\n",
    "       print(N_k)\n",
    "       mb = FastMBAR.FastMBAR(energy = u_kn, num_conf = N_k, cuda = False, bootstrap=True, verbose=True)\n",
    "       F = mb.F\n",
    "       F_std = mb.F_std\n",
    "       print(\"F is:\",F)\n",
    "       print(\"F_std is:\",F_std)\n",
    "\n",
    "       # write to disk\n",
    "       fp=open('mbar.out','w')\n",
    "       for i in range(len(F)):\n",
    "           # convert reduced energies back to regular energies\n",
    "           fp.write(\"%.6f %.6f\\n\" % (F[i]/beta,F_std[i]/beta))\n",
    "       fp.close()\n",
    "\n",
    "\n",
    "\n",
    "calc_ener(cond_arr)\n",
    "comm.barrier()\n",
    "mbar(combine=True,cond_array=cond_arr)\n",
    "comm.barrier()\n",
    "\n",
    "\n",
    "```"
   ]
  },
  {
   "cell_type": "markdown",
   "id": "2a332d4e-36c4-4799-849b-a2785a6cd5e7",
   "metadata": {
    "tags": []
   },
   "source": [
    "## Check results"
   ]
  },
  {
   "cell_type": "markdown",
   "id": "c6973845-6fb2-421c-9afc-fb68b6c5efd6",
   "metadata": {},
   "source": [
    "### File ```cnd_fn``` contains condition information (i.e., $\\lambda$ here)"
   ]
  },
  {
   "cell_type": "code",
   "execution_count": 1,
   "id": "348d8e24-2c3d-470b-a5af-711bea4e0e5c",
   "metadata": {},
   "outputs": [
    {
     "name": "stdout",
     "output_type": "stream",
     "text": [
      "cat: cond.dat: No such file or directory\n"
     ]
    }
   ],
   "source": [
    "!cat cond.dat"
   ]
  },
  {
   "cell_type": "markdown",
   "id": "a11c6b53-8e1d-48de-8192-9b230d77d83b",
   "metadata": {},
   "source": [
    "### Directories ```out_dir``` (aa* here) contain dcd files, charmm output file, etc, for each replica. \n",
    "### Directories cond* contain dcd files, recomputed energies for each condition.\n"
   ]
  },
  {
   "cell_type": "code",
   "execution_count": 2,
   "id": "7b3f3be6-3dc5-4df7-a73e-fcf1294a3401",
   "metadata": {},
   "outputs": [
    {
     "name": "stdout",
     "output_type": "stream",
     "text": [
      "box_size.dat            lys.psf                 \u001b[34mtoppar\u001b[m\u001b[m\n",
      "\u001b[34mfig\u001b[m\u001b[m                     rep_ex_amino_acid.ipynb\n",
      "lys.pdb                 \u001b[31mrep_ex_amino_acid.py\u001b[m\u001b[m\n"
     ]
    }
   ],
   "source": [
    "!ls ."
   ]
  },
  {
   "cell_type": "code",
   "execution_count": 3,
   "id": "d925428a-53a1-4800-8ac2-c4db59470a9a",
   "metadata": {},
   "outputs": [
    {
     "name": "stdout",
     "output_type": "stream",
     "text": [
      "ls: aa0: No such file or directory\n",
      "ls: cond0: No such file or directory\n"
     ]
    }
   ],
   "source": [
    "!ls aa0 cond0"
   ]
  },
  {
   "cell_type": "markdown",
   "id": "0dc932d3-3f57-4a5c-9440-8f4c992f620d",
   "metadata": {},
   "source": [
    "### File ```ratio_fn``` (ratio-1.dat here) has exchange ratio for the current run."
   ]
  },
  {
   "cell_type": "code",
   "execution_count": 4,
   "id": "bd16cc3d-35cd-4739-8391-619e43340308",
   "metadata": {},
   "outputs": [
    {
     "name": "stdout",
     "output_type": "stream",
     "text": [
      "cat: ratio-1.dat: No such file or directory\n"
     ]
    }
   ],
   "source": [
    "! cat ratio-1.dat"
   ]
  },
  {
   "cell_type": "markdown",
   "id": "e5d742e0-892c-4a4f-94ab-6c0daa9209dd",
   "metadata": {},
   "source": [
    "### Check $\\lambda$ as a function of simulation time for a given replica. From this, we can check how well replicas could perform random walk in $\\lambda$ space."
   ]
  },
  {
   "cell_type": "code",
   "execution_count": 5,
   "id": "16301cf3-1166-4369-a1fb-3b5ca45ad499",
   "metadata": {},
   "outputs": [
    {
     "ename": "ModuleNotFoundError",
     "evalue": "No module named 'numpy'",
     "output_type": "error",
     "traceback": [
      "\u001b[0;31m---------------------------------------------------------------------------\u001b[0m",
      "\u001b[0;31mModuleNotFoundError\u001b[0m                       Traceback (most recent call last)",
      "Input \u001b[0;32mIn [5]\u001b[0m, in \u001b[0;36m<cell line: 1>\u001b[0;34m()\u001b[0m\n\u001b[0;32m----> 1\u001b[0m \u001b[38;5;28;01mimport\u001b[39;00m \u001b[38;5;21;01mnumpy\u001b[39;00m \u001b[38;5;28;01mas\u001b[39;00m \u001b[38;5;21;01mnp\u001b[39;00m\n\u001b[1;32m      2\u001b[0m \u001b[38;5;28;01mimport\u001b[39;00m \u001b[38;5;21;01mmatplotlib\u001b[39;00m\u001b[38;5;21;01m.\u001b[39;00m\u001b[38;5;21;01mpyplot\u001b[39;00m \u001b[38;5;28;01mas\u001b[39;00m \u001b[38;5;21;01mplt\u001b[39;00m\n\u001b[1;32m      3\u001b[0m i\u001b[38;5;241m=\u001b[39m\u001b[38;5;241m7\u001b[39m\n",
      "\u001b[0;31mModuleNotFoundError\u001b[0m: No module named 'numpy'"
     ]
    }
   ],
   "source": [
    "import numpy as np\n",
    "import matplotlib.pyplot as plt\n",
    "i=7\n",
    "fn='aa'+str(i)+'/his/cond_his1.dat'\n",
    "l=np.loadtxt(fn)\n",
    "plt.xlabel('Cycle Index')\n",
    "plt.ylabel('$\\lambda$')\n",
    "plt.title('Replica '+str(i))\n",
    "plt.plot(l[:,0],l[:,1])\n"
   ]
  },
  {
   "cell_type": "markdown",
   "id": "707d2d93-0fbf-43f3-bcae-dd7ed2c8fa86",
   "metadata": {},
   "source": [
    "### Free energy profile ```fe_fn``` (mbar.out here): the 1st column is $\\lambda$; the 2nd column is free energy, and the 3rd column is the error bar"
   ]
  },
  {
   "cell_type": "code",
   "execution_count": null,
   "id": "e4903d04-540f-4215-9e37-fed042fd2acf",
   "metadata": {},
   "outputs": [],
   "source": [
    "!cat mbar.out"
   ]
  },
  {
   "cell_type": "code",
   "execution_count": null,
   "id": "bdca9a8d-ea2f-484c-9cd1-706760214830",
   "metadata": {},
   "outputs": [],
   "source": []
  }
 ],
 "metadata": {
  "kernelspec": {
   "display_name": "Python 3 (ipykernel)",
   "language": "python",
   "name": "python3"
  },
  "language_info": {
   "codemirror_mode": {
    "name": "ipython",
    "version": 3
   },
   "file_extension": ".py",
   "mimetype": "text/x-python",
   "name": "python",
   "nbconvert_exporter": "python",
   "pygments_lexer": "ipython3",
   "version": "3.9.12"
  }
 },
 "nbformat": 4,
 "nbformat_minor": 5
}

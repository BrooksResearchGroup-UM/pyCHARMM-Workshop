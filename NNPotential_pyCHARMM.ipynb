{
 "cells": [
  {
   "cell_type": "markdown",
   "id": "e015d2aa-ed0e-4a66-bcb4-468edbc44e94",
   "metadata": {},
   "source": [
    "# Utilize pyCHARMM *user energy* to implement a machine learned quantum mechanical potential to calculate energy and forces\n",
    "\n",
    "## Our objectives with this tutorial will be to:\n",
    "> 1. Illustrate how to use the pyCHARMM implementation of CHARMM User Energy functionality\n",
    "> 2. Integrate the torchANI ML-QM potentials to provide direct accesss to QM quality energy and forces in pyCHARMM\n",
    "> 3. Compare the torchANI-2x energy function for butane to that in CGENFF\n",
    "\n",
    "## import needed python/pyCHARMM functionality"
   ]
  },
  {
   "cell_type": "code",
   "execution_count": null,
   "id": "5b65e348-adac-4fcf-8f52-a75f5c2dd3ce",
   "metadata": {},
   "outputs": [],
   "source": [
    "import os\n",
    "import sys\n",
    "import numpy as np\n",
    "import pandas as pd\n",
    "\n",
    "import pycharmm\n",
    "import pycharmm.generate as gen\n",
    "import pycharmm.ic as ic\n",
    "import pycharmm.coor as coor\n",
    "import pycharmm.energy as energy\n",
    "import pycharmm.dynamics as dyn\n",
    "import pycharmm.nbonds as nbonds\n",
    "import pycharmm.minimize as minimize\n",
    "import pycharmm.crystal as crystal\n",
    "import pycharmm.select as select\n",
    "import pycharmm.image as image\n",
    "import pycharmm.psf as psf\n",
    "import pycharmm.param as param\n",
    "import pycharmm.read as read\n",
    "import pycharmm.write as write\n",
    "import pycharmm.settings as settings\n",
    "import pycharmm.cons_harm as cons_harm\n",
    "import pycharmm.cons_fix as cons_fix\n",
    "import pycharmm.shake as shake\n",
    "import pycharmm.scalar as scalar\n",
    "\n",
    "# include torch and torchani and set-up model\n",
    "# To begin with, let's first import the modules we will use:\n",
    "import torch\n",
    "import torchani"
   ]
  },
  {
   "cell_type": "markdown",
   "id": "725bf0f8-46c8-4681-a009-6d49e0f28859",
   "metadata": {},
   "source": [
    "## Define some functions to interface with the torchANI QM potential models\n",
    "\n",
    "### **Note** torchANI models only support some atoms, depending on model, see: https://github.com/aiqm/torchani"
   ]
  },
  {
   "cell_type": "code",
   "execution_count": null,
   "id": "ae3c3fa1-c868-4074-8d26-36dd949337ba",
   "metadata": {},
   "outputs": [],
   "source": [
    "def SetupTorchANI():\n",
    "    ###############################################################################\n",
    "    # Let's now manually specify the device we want TorchANI to run:\n",
    "    device = torch.device('cuda' if torch.cuda.is_available() else 'cpu')\n",
    "    print('Using {} for ANI energy and force calculations'.format(device))\n",
    "\n",
    "    ###############################################################################\n",
    "    # Let's now load the built-in ANI-2x models. The builtinANI2x model is an ensemble of 8 networks\n",
    "    # that was trained on the ANI-2x dataset. The target level of theory is wB97X/6-31G(d). It predicts\n",
    "    # energies on HCNOFSCl elements exclusively it shouldn’t be used with other atom types.\n",
    "    #\n",
    "    # The ``periodic_table_index`` arguments tells TorchANI to use element index\n",
    "    # in periodic table to index species. If not specified, you need to use\n",
    "    # 0, 1, 2, 3, ... to index species\n",
    "    model = torchani.models.ANI2x(periodic_table_index=True).to(device)\n",
    "    return (device,model)\n",
    "\n",
    "def iupac_2_number(iupac):\n",
    "    from mendeleev import element\n",
    "    allowed = ['H','C','N','O','F','S','CL']\n",
    "    number = []\n",
    "    for i in iupac:\n",
    "         if i[0:1] == 'CL': number.append(element(i[0:1]).atomic_number)\n",
    "         elif i[0] in allowed: number.append(element(i[0]).atomic_number)\n",
    "         else:\n",
    "             print('Element not supported by ANI2X models: atom {}'.format(i))\n",
    "             exit()\n",
    "    return number\n",
    "\n",
    "def get_EnergyDeriv(coor,species):\n",
    "    # Return the enrgy and derivative of the energy from ANI model\n",
    "    energy = model((species,coor)).energies\n",
    "    deriv = torch.autograd.grad(energy.sum(), coor)[0]\n",
    "    return (energy.item()*627.5,deriv.squeeze()*627.5) # hartree/A -> kcal/mol/A\n",
    "\n",
    "def ANI_EDX(natoms,\n",
    "         x_pos, y_pos, z_pos,\n",
    "         dx, dy, dz):\n",
    "    coor = []\n",
    "    for i in range(natoms): coor.append([x_pos[i],y_pos[i],z_pos[i]])\n",
    "    ener,deriv = get_EnergyDeriv(torch.tensor([np.asarray(coor,dtype=np.float32)],\n",
    "                                  requires_grad=True, device=device),species)\n",
    "    for i in range(natoms):\n",
    "        dx[i] = deriv[i,0] # Note, dx is the gradient of the potential\n",
    "        dy[i] = deriv[i,1]\n",
    "        dz[i] = deriv[i,2]\n",
    "    return ener\n"
   ]
  },
  {
   "cell_type": "markdown",
   "id": "6cc5c713-d250-4aed-a977-34f78834717d",
   "metadata": {},
   "source": [
    "## Set-up topology/parameter files, generate butane molecule"
   ]
  },
  {
   "cell_type": "code",
   "execution_count": null,
   "id": "86954914-5e42-4d4a-840b-fd1529f54bf2",
   "metadata": {},
   "outputs": [],
   "source": [
    "# template for f/y restraints\n",
    "Fcons = '1 c1 1 c2 1 c3 1 c4'\n",
    "read.rtf('toppar/top_all36_cgenff.rtf')\n",
    "bl =settings.set_bomb_level(-2)\n",
    "wl =settings.set_warn_level(-2)\n",
    "read.prm('toppar/par_all36_cgenff.prm')\n",
    "settings.set_bomb_level(bl)\n",
    "settings.set_warn_level(wl)\n",
    "pycharmm.lingo.charmm_script('bomlev 0')\n",
    "read.sequence_string('BUTA')  # butane\n",
    "gen.new_segment(seg_name='BUTA',\n",
    "                setup_ic=True)\n",
    "ic.prm_fill(replace_all=True)\n",
    "ic.seed(1,'C1',1,'C2',1,'C3')  \n",
    "ic.build()\n",
    "\n",
    "device,model = SetupTorchANI()\n",
    "# Get data array for atomic numbers\n",
    "species = torch.tensor([iupac_2_number(pycharmm.psf.get_atype())],device=device)\n",
    "print(species)\n",
    "\n",
    "pycharmm.NonBondedScript(**{'cutnb': 16,\n",
    "                  'ctofnb': 14,\n",
    "                  'ctonnb': 12,\n",
    "                  'atom': True,\n",
    "                  'vatom': True,\n",
    "                  'eps': 1,\n",
    "                  'fswitch': True,\n",
    "                  'vfswitch': True,\n",
    "                  'cdie': True})\n",
    "\n",
    "\n",
    "pycharmm.charmm_script('skipe incl all excl user cdih')\n",
    "\n",
    "e_func = pycharmm.EnergyFunc(ANI_EDX)\n",
    "\n",
    "# set up phi/psi grid to apply restraints and\n",
    "# compute energy\n",
    "F = np.linspace(-180,180,36)\n",
    "fmap = {'F':F,\n",
    "        'eC':[],\n",
    "        'eQ':[]}"
   ]
  },
  {
   "cell_type": "markdown",
   "id": "729dc88f-712d-46df-b04f-5ab3da59d276",
   "metadata": {},
   "source": [
    "## Loop over dihedral space to construct $\\phi$-dependent energy surface"
   ]
  },
  {
   "cell_type": "code",
   "execution_count": null,
   "id": "eac9e404-8d16-45e7-ad10-4cfb72d62038",
   "metadata": {},
   "outputs": [],
   "source": [
    "for iphi,f in enumerate(F):\n",
    "    print(f)\n",
    "    # turn off noise\n",
    "    settings.set_verbosity(0)\n",
    "    settings.set_warn_level(-5)\n",
    "    # Need to use stream here because no api for cons dihe\n",
    "    cons = 'cons dihe {} force {} min {:4.2f}'.format(Fcons,500,f)\n",
    "    pycharmm.lingo.charmm_script(cons)\n",
    "    minimize.run_abnr(**{'nstep': 1000,\n",
    "                         'tolenr': 1e-6,\n",
    "                         'tolgrd': 1e-3})\n",
    "    pycharmm.lingo.charmm_script('cons cldh')\n",
    "    pycharmm.lingo.charmm_script('skipe none')\n",
    "    settings.set_verbosity(5)\n",
    "    energy.show()\n",
    "    settings.set_verbosity(0)\n",
    "    fmap['eC'].append(pycharmm.lingo.get_energy_value('ENER')-pycharmm.lingo.get_energy_value('USER'))\n",
    "    fmap['eQ'].append(pycharmm.lingo.get_energy_value('USER'))\n",
    "    pycharmm.lingo.charmm_script('skipe all excl user cdih')\n",
    "\n",
    "fmap['eC'] = np.asarray(fmap['eC'])\n",
    "fmap['eC'] = (fmap['eC']-np.min(fmap['eC']))\n",
    "fmap['eQ'] = np.asarray(fmap['eQ'])\n",
    "fmap['eQ'] = (fmap['eQ']-np.min(fmap['eQ']))"
   ]
  },
  {
   "cell_type": "markdown",
   "id": "6b873356-d595-4e91-9bd1-6d4acecf2aac",
   "metadata": {},
   "source": [
    "## Finally plot results"
   ]
  },
  {
   "cell_type": "code",
   "execution_count": null,
   "id": "c08d4fe9-0bcf-4cc1-9155-acc3a605e02b",
   "metadata": {},
   "outputs": [],
   "source": [
    "# Plot the results\n",
    "import matplotlib.pyplot as plt\n",
    "fig,ax = plt.subplots()\n",
    "ax.plot(fmap['F'],fmap['eQ'])\n",
    "ax.plot(fmap['F'],fmap['eC'])\n",
    "plt.show()"
   ]
  },
  {
   "cell_type": "code",
   "execution_count": null,
   "id": "4cc7749c-3849-4fe5-98cc-b2c9c66a01d7",
   "metadata": {},
   "outputs": [],
   "source": []
  }
 ],
 "metadata": {
  "kernelspec": {
   "display_name": "Python 3 (ipykernel)",
   "language": "python",
   "name": "python3"
  },
  "language_info": {
   "codemirror_mode": {
    "name": "ipython",
    "version": 3
   },
   "file_extension": ".py",
   "mimetype": "text/x-python",
   "name": "python",
   "nbconvert_exporter": "python",
   "pygments_lexer": "ipython3",
   "version": "3.8.10"
  }
 },
 "nbformat": 4,
 "nbformat_minor": 5
}

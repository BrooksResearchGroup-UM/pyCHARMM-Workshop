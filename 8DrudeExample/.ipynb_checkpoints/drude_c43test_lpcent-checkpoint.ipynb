{
 "cells": [
  {
   "cell_type": "markdown",
   "id": "8086dcc0-c923-460f-9804-6f932c3ff2d1",
   "metadata": {},
   "source": [
    "# Drude Oscillator Example\n",
    "## This example simply illustrates that the Drude Oscillator polarizable force field can be utizied in pyCHARMM.\n",
    "## Example taken from c43test/lpcent.inp"
   ]
  },
  {
   "cell_type": "code",
   "execution_count": 1,
   "id": "c9feca60-5cc7-433f-907e-c8638d2c4c7f",
   "metadata": {},
   "outputs": [],
   "source": [
    "# The purpose of this script is to illustrate the use of some Drude oscillator\n",
    "# functionality in pyCHARMM. This is a redo of the test case c43test/lpcent.inp\n",
    "#  copyright C.L. Brooks III, June 20, 2022\n",
    "\n",
    "# These are general python modules needed for this  tutorial\n",
    "import os\n",
    "import sys\n",
    "\n",
    "# These are a subset of the pycharmm modules that were installed when\n",
    "# pycharmm was installed in your python environment\n",
    "import pycharmm\n",
    "import pycharmm.generate as gen\n",
    "import pycharmm.ic as ic\n",
    "import pycharmm.coor as coor\n",
    "import pycharmm.energy as energy\n",
    "import pycharmm.dynamics as dyn\n",
    "import pycharmm.nbonds as nbonds\n",
    "import pycharmm.minimize as minimize\n",
    "import pycharmm.crystal as crystal\n",
    "import pycharmm.image as image\n",
    "import pycharmm.psf as psf\n",
    "import pycharmm.read as read\n",
    "import pycharmm.write as write\n",
    "import pycharmm.settings as settings\n",
    "import pycharmm.cons_harm as cons_harm\n",
    "import pycharmm.cons_fix as cons_fix\n",
    "import pycharmm.select as select\n",
    "import pycharmm.shake as shake\n",
    "\n",
    "from pycharmm.lib import charmm as libcharmm\n"
   ]
  },
  {
   "cell_type": "code",
   "execution_count": 4,
   "id": "6437b874-0daa-4e6e-995d-f0e11c6ded38",
   "metadata": {},
   "outputs": [
    {
     "name": "stdout",
     "output_type": "stream",
     "text": [
      "  \n",
      " CHARMM>     stream ../toppar/toppar_drude.str\n",
      " VOPEN> Attempting to open::../TOPPAR/TOPPAR_DRUDE.STR::\n",
      " OPNLGU> Unit 99 opened for READONLY access to ../TOPPAR/TOPPAR_DRUDE.STR\n",
      "\n",
      "                    INPUT STREAM SWITCHING TO UNIT    99\n",
      " RDTITL> * DRUDE CATION-PI MODEL COMPOUNDS\n",
      " RDTITL> * REFERENCES:\n",
      " RDTITL> * THIS WORK:\n",
      " RDTITL> *    ORABI, LOPES, MACKERELL, AND LAMOUREUX, SUBMITTED\n",
      " RDTITL> * FOR SWM4:\n",
      " RDTITL> *    LAMOUREUX, HARDER, VOROBYOV, ROUX, AND MACKERELL, JR. CHEM. PHYS. LETT. 2006, 418, 245-249\n",
      " RDTITL> * FOR BENX AND NH4+:\n",
      " RDTITL> *    ORABI AND LAMOUREUX. J. CHEM. THEORY COMPUT. 2012, 8, 182-193\n",
      " RDTITL> * FOR NH4+ AND AROMATICS:\n",
      " RDTITL> *    WANG, ORABI, BADAY, BERNECHE, AND LAMOUREUX. J. AM. CHEM. SOC. 2012, USA 134, 10419-1042\n",
      " RDTITL> *\n",
      " Parameter: IN1 <- \"\" <empty>\n",
      "  \n",
      " CHARMM>     \n",
      "  \n",
      " CHARMM>    ioformat extended\n",
      " MISCOM> Expanded I/O format is used.\n",
      "  \n",
      " CHARMM>     \n",
      "  \n",
      " CHARMM>    bomlev -1\n",
      "  \n",
      " CHARMM>     \n",
      "  \n",
      " CHARMM>    read rtf card !append\n",
      " MAINIO> Residue topology file being read from unit  99.\n",
      " RDTITL> * TOPOLOGY FOR DRUDE CATION-PI MODEL COMPOUNDS\n",
      " RDTITL> *\n",
      "\n",
      " DRUDES PARTICLES WILL BE GENERATED AUTOMATICALLY FOR ALL ATOMS WITH NON-ZERO ALPHA\n",
      " Thole-type dipole screening, Slater-Delta shape {S(u) = 1 - (1+u/2)*exp(-u)}, default radius =  1.300000\n",
      "  \n",
      " CHARMM>     \n",
      "  \n",
      " CHARMM>    read para card !append\n",
      "\n",
      "          PARAMETER FILE BEING READ FROM UNIT 99\n",
      " RDTITL> * PARAMETERS FOR DRUDE CATION-PI MODEL COMPOUNDS\n",
      " RDTITL> *\n",
      "\n",
      " PARRDR> WARNING: ATOMS IN BOND X        DRUD      500.00000   0.00000 DONT EXIST\n",
      " PARMIO> NONBOND, HBOND lists and IMAGE atoms cleared.\n",
      "  \n",
      " VCLOSE: Closing unit   99 with status \"KEEP\"\n",
      "\n",
      "                    RETURNING TO INPUT STREAM    90\n",
      "  \n"
     ]
    }
   ],
   "source": [
    "# stream in the drude rtf/parametter files using the pycharmm.lingo module\n",
    "# equivalent to the CHARMM scripting command: stream toppar/toppar_drude.str\n",
    "read.stream('../toppar/toppar_drude.str')"
   ]
  },
  {
   "cell_type": "code",
   "execution_count": 5,
   "id": "87f05b44-70dd-4346-b3e4-7a8f293c20d9",
   "metadata": {},
   "outputs": [
    {
     "name": "stdout",
     "output_type": "stream",
     "text": [
      "\n",
      "          RESIDUE SEQUENCE --     1 RESIDUES\n",
      "          BENX    \n",
      " NO PATCHING WILL BE DONE ON THE FIRST RESIDUE\n",
      " NO PATCHING WILL BE DONE ON THE LAST  RESIDUE\n",
      " AUTGEN: Autogenerating specified angles and dihedrals.\n",
      "\n",
      " MKDRUDE generate list and setup for drude polarizability\n",
      "\n",
      " All okay for      6 added Drude particles \n",
      "\n",
      " GENPSF> Segment   1 has been generated. Its identifier is BENX.\n",
      " PSFSUM> PSF modified: NONBOND lists and IMAGE atoms cleared.\n",
      " PSFSUM> Summary of the structure file counters :\n",
      "         Number of segments      =        1   Number of residues   =        1\n",
      "         Number of atoms         =       19   Number of groups     =        1\n",
      "         Number of bonds         =       18   Number of angles     =       18\n",
      "         Number of dihedrals     =       24   Number of impropers  =        0\n",
      "         Number of cross-terms   =        0   Number of autogens   =        0\n",
      "         Number of HB acceptors  =        0   Number of HB donors  =        0\n",
      "         Number of NB exclusions =        0   Total charge =   -0.00000\n",
      "         Number of Drudes        =        6\n",
      "         Number of true-bonds    =       18   Number of zero-bonds =        0\n",
      "         Number of aniso. terms  =        0   Number of lone-pairs =        1\n",
      "testcase result: True -- reading\n"
     ]
    }
   ],
   "source": [
    "import numpy as np\n",
    "read.sequence_string('BENX')\n",
    "\n",
    "# equivalent to the CHARMM scripting command: generate ADP first ACE last CT3 setup\n",
    "gen.new_segment(seg_name='BENX', \n",
    "                setup_ic=True, warn=True,\n",
    "                drude=True, mass=0.4, angle=True, dihedral=True)\n",
    "lpbx = pycharmm.SelectAtoms(atom_type='LPBX')\n",
    "lpbx_present = np.sum(np.array(list(lpbx))) > 0\n",
    "print('testcase result: {} -- reading'.format(lpbx_present))"
   ]
  },
  {
   "cell_type": "code",
   "execution_count": 6,
   "id": "7388ddec-d496-4fdf-9cba-ee65f483c6c4",
   "metadata": {},
   "outputs": [
    {
     "name": "stdout",
     "output_type": "stream",
     "text": [
      "\n",
      "          COORDINATE FILE MODULE\n",
      " TITLE>  * EXECUTING CHARMM SCRIPT FROM PYTHON\n",
      " TITLE>  *\n",
      "        19  EXT\n",
      "         1         1  BENX      CG           9999.0000000000     9999.0000000000     9999.0000000000  BENX      1               0.0000000000\n",
      "         2         1  BENX      DCG          9999.0000000000     9999.0000000000     9999.0000000000  BENX      1               0.0000000000\n",
      "         3         1  BENX      HG           9999.0000000000     9999.0000000000     9999.0000000000  BENX      1               0.0000000000\n",
      "         4         1  BENX      CD1          9999.0000000000     9999.0000000000     9999.0000000000  BENX      1               0.0000000000\n",
      "         5         1  BENX      DCD1         9999.0000000000     9999.0000000000     9999.0000000000  BENX      1               0.0000000000\n",
      "         6         1  BENX      HD1          9999.0000000000     9999.0000000000     9999.0000000000  BENX      1               0.0000000000\n",
      "         7         1  BENX      CD2          9999.0000000000     9999.0000000000     9999.0000000000  BENX      1               0.0000000000\n",
      "         8         1  BENX      DCD2         9999.0000000000     9999.0000000000     9999.0000000000  BENX      1               0.0000000000\n",
      "         9         1  BENX      HD2          9999.0000000000     9999.0000000000     9999.0000000000  BENX      1               0.0000000000\n",
      "        10         1  BENX      CE1          9999.0000000000     9999.0000000000     9999.0000000000  BENX      1               0.0000000000\n",
      "        11         1  BENX      DCE1         9999.0000000000     9999.0000000000     9999.0000000000  BENX      1               0.0000000000\n",
      "        12         1  BENX      HE1          9999.0000000000     9999.0000000000     9999.0000000000  BENX      1               0.0000000000\n",
      "        13         1  BENX      CE2          9999.0000000000     9999.0000000000     9999.0000000000  BENX      1               0.0000000000\n",
      "        14         1  BENX      DCE2         9999.0000000000     9999.0000000000     9999.0000000000  BENX      1               0.0000000000\n",
      "        15         1  BENX      HE2          9999.0000000000     9999.0000000000     9999.0000000000  BENX      1               0.0000000000\n",
      "        16         1  BENX      CZ           9999.0000000000     9999.0000000000     9999.0000000000  BENX      1               0.0000000000\n",
      "        17         1  BENX      DCZ          9999.0000000000     9999.0000000000     9999.0000000000  BENX      1               0.0000000000\n",
      "        18         1  BENX      HZ           9999.0000000000     9999.0000000000     9999.0000000000  BENX      1               0.0000000000\n",
      "        19         1  BENX      LPBX         9999.0000000000     9999.0000000000     9999.0000000000  BENX      1               0.0000000000\n",
      " ****  WARNING  ****    7 COORDINATES ARE STILL UNDEFINED\n",
      "  \n",
      " CHARMM>     coor sdrude\n",
      "  \n",
      "  \n",
      " CHARMM>     coor shake\n",
      " SELECTED COORDINATES CONSTRAINED IN THE MAIN SET.\n",
      "\n",
      "  \n",
      "\n",
      "          COORDINATE FILE MODULE\n",
      " TITLE>  * EXECUTING CHARMM SCRIPT FROM PYTHON\n",
      " TITLE>  *\n",
      "        19  EXT\n",
      "         1         1  BENX      CG             -0.6875000000        1.1907849302        0.0000000000  BENX      1               0.0000000000\n",
      "         2         1  BENX      DCG            -0.6875000000        1.1907849302        0.0000000000  BENX      1               0.0000000000\n",
      "         3         1  BENX      HG             -1.7675000000        1.1907849302        0.0000000000  BENX      1               0.0000000000\n",
      "         4         1  BENX      CD1             0.0000000000        0.0000000000        0.0000000000  BENX      1               0.0000000000\n",
      "         5         1  BENX      DCD1            0.0000000000        0.0000000000        0.0000000000  BENX      1               0.0000000000\n",
      "         6         1  BENX      HD1            -0.5400000000       -0.9353074361        0.0000000000  BENX      1               0.0000000000\n",
      "         7         1  BENX      CD2            -0.0000000000        2.3815698604        0.0000000000  BENX      1               0.0000000000\n",
      "         8         1  BENX      DCD2           -0.0000000000        2.3815698604        0.0000000000  BENX      1               0.0000000000\n",
      "         9         1  BENX      HD2            -0.5400000000        3.3168772965       -0.0000000000  BENX      1               0.0000000000\n",
      "        10         1  BENX      CE1             1.3750000000        0.0000000000        0.0000000000  BENX      1               0.0000000000\n",
      "        11         1  BENX      DCE1            1.3750000000        0.0000000000        0.0000000000  BENX      1               0.0000000000\n",
      "        12         1  BENX      HE1             1.9150000000       -0.9353074361        0.0000000000  BENX      1               0.0000000000\n",
      "        13         1  BENX      CE2             1.3750000000        2.3815698604        0.0000000000  BENX      1               0.0000000000\n",
      "        14         1  BENX      DCE2            1.3750000000        2.3815698604        0.0000000000  BENX      1               0.0000000000\n",
      "        15         1  BENX      HE2             1.9150000000        3.3168772965       -0.0000000000  BENX      1               0.0000000000\n",
      "        16         1  BENX      CZ              2.0625000000        1.1907849302        0.0000000000  BENX      1               0.0000000000\n",
      "        17         1  BENX      DCZ             2.0625000000        1.1907849302        0.0000000000  BENX      1               0.0000000000\n",
      "        18         1  BENX      HZ              3.1425000000        1.1907849302       -0.0000000000  BENX      1               0.0000000000\n",
      "        19         1  BENX      LPBX            0.6875000000        1.1907849302        0.0000000000  BENX      1               0.0000000000\n"
     ]
    },
    {
     "data": {
      "text/plain": [
       "1"
      ]
     },
     "execution_count": 6,
     "metadata": {},
     "output_type": "execute_result"
    }
   ],
   "source": [
    "coor.show()\n",
    "ic.prm_fill(replace_all=True)\n",
    "ic.seed(res1=1, atom1='CD1', res2=1, atom2='CE1', res3=1, atom3='CZ')\n",
    "ic.build()\n",
    "pycharmm.lingo.charmm_script('coor sdrude')\n",
    "pycharmm.lingo.charmm_script('coor shake')\n",
    "coor.show()"
   ]
  },
  {
   "cell_type": "code",
   "execution_count": 7,
   "id": "bcc0e041-c825-4770-9e2a-68455c2e6f78",
   "metadata": {},
   "outputs": [
    {
     "name": "stdout",
     "output_type": "stream",
     "text": [
      "  \n",
      " CHARMM>     write name pdb/lpcent.pdb -\n",
      " CHARMM>     coor pdb\n",
      " VOPEN> Attempting to open::pdb/lpcent.pdb::\n",
      " RDTITL>  \n",
      " RDTITL> No title read.\n",
      "  Write CHARMM-pdb format\n",
      " VCLOSE: Closing unit   91 with status \"KEEP\"\n",
      "  \n",
      " CHARMM>     \n",
      "  \n",
      "  \n",
      " CHARMM>     write name pdb/lpcent.psf -\n",
      " CHARMM>     psf card\n",
      " VOPEN> Attempting to open::pdb/lpcent.psf::\n",
      " RDTITL>  \n",
      " RDTITL> No title read.\n",
      " VCLOSE: Closing unit   91 with status \"KEEP\"\n",
      " VCLOSE: Closing unit   91 with status \"KEEP\"\n",
      "  \n",
      " CHARMM>     \n",
      "  \n",
      "\n",
      " Message from MAPIC: Atom numbers are changed.\n",
      " LONEPRD:    1 lonepair atoms deleted\n",
      "\n",
      " Message from MAPIC:          1 residues deleted.\n",
      "\n",
      " Message from MAPIC:          1 segments deleted.\n",
      " DELTIC:        18 bonds deleted\n",
      " DELTIC:        18 angles deleted\n",
      " DELTIC:        24 dihedrals deleted\n"
     ]
    },
    {
     "data": {
      "text/plain": [
       "True"
      ]
     },
     "execution_count": 7,
     "metadata": {},
     "output_type": "execute_result"
    }
   ],
   "source": [
    "if not os.path.isdir('pdb'): os.system('mkdir pdb')\n",
    "write.coor_pdb('pdb/lpcent.pdb')\n",
    "write.psf_card('pdb/lpcent.psf')\n",
    "psf.delete_atoms(pycharmm.SelectAtoms().all_atoms())"
   ]
  },
  {
   "cell_type": "code",
   "execution_count": 8,
   "id": "e387287c-330e-42b2-9ae9-f661f81f678d",
   "metadata": {},
   "outputs": [
    {
     "name": "stdout",
     "output_type": "stream",
     "text": [
      "  \n",
      " CHARMM>     read psf card -\n",
      " CHARMM>     name pdb/lpcent.psf\n",
      " VOPEN> Attempting to open::PDB/LPCENT.PSF::\n",
      " MAINIO> Protein structure file being read from unit  91.\n",
      " psf_read_formatted: Reading PSF in the expanded format.\n",
      " TITLE>  * EXECUTING CHARMM SCRIPT FROM PYTHON\n",
      " TITLE>  *  DATE:     1/ 8/23     19:13:44      CREATED BY USER: brookscl\n",
      " TITLE>  *\n",
      " PSFSUM> PSF modified: NONBOND lists and IMAGE atoms cleared.\n",
      " PSFSUM> Summary of the structure file counters :\n",
      "         Number of segments      =        1   Number of residues   =        1\n",
      "         Number of atoms         =       19   Number of groups     =        1\n",
      "         Number of bonds         =       18   Number of angles     =       18\n",
      "         Number of dihedrals     =       24   Number of impropers  =        0\n",
      "         Number of cross-terms   =        0   Number of autogens   =        0\n",
      "         Number of HB acceptors  =        0   Number of HB donors  =        0\n",
      "         Number of NB exclusions =        0   Total charge =   -0.00000\n",
      "         Number of Drudes        =        6\n",
      "         Number of true-bonds    =       18   Number of zero-bonds =        0\n",
      "         Number of aniso. terms  =        0   Number of lone-pairs =        1\n",
      " VCLOSE: Closing unit   91 with status \"KEEP\"\n",
      "  \n",
      " CHARMM>     \n",
      "  \n",
      "  \n",
      " CHARMM>     read coor pdb -\n",
      " CHARMM>     name pdb/lpcent.pdb\n",
      " VOPEN> Attempting to open::PDB/LPCENT.PDB::\n",
      "  read CHARMM-pdb format\n",
      "          SPATIAL COORDINATES BEING READ FROM UNIT 91\n",
      " TITLE>   EXECUTING CHARMM SCRIPT FROM PYTHON\n",
      " TITLE>    DATE:     1/ 8/23     19:13:44      CREATED BY USER: BROOKSCL\n",
      " TITLE>  *\n",
      " VCLOSE: Closing unit   91 with status \"KEEP\"\n",
      "  \n",
      " CHARMM>     \n",
      "  \n",
      "testcase result: True -- writing\n"
     ]
    }
   ],
   "source": [
    "read.psf_card('pdb/lpcent.psf')\n",
    "read.pdb('pdb/lpcent.pdb')\n",
    "lpbx = pycharmm.SelectAtoms(atom_type='LPBX')\n",
    "lpbx_present = np.sum(np.array(list(lpbx))) > 0\n",
    "print('testcase result: {} -- writing'.format(lpbx_present))"
   ]
  }
 ],
 "metadata": {
  "kernelspec": {
   "display_name": "Python 3 (ipykernel)",
   "language": "python",
   "name": "python3"
  },
  "language_info": {
   "codemirror_mode": {
    "name": "ipython",
    "version": 3
   },
   "file_extension": ".py",
   "mimetype": "text/x-python",
   "name": "python",
   "nbconvert_exporter": "python",
   "pygments_lexer": "ipython3",
   "version": "3.8.13"
  }
 },
 "nbformat": 4,
 "nbformat_minor": 5
}

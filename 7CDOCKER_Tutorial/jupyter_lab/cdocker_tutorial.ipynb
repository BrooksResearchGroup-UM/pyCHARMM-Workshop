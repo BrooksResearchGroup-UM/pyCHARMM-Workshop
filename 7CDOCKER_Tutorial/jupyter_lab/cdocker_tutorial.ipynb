{
 "cells": [
  {
   "cell_type": "markdown",
   "id": "b358af9c",
   "metadata": {
    "jp-MarkdownHeadingCollapsed": true,
    "tags": []
   },
   "source": [
    "# Introduction to Docking"
   ]
  },
  {
   "cell_type": "markdown",
   "id": "c66384e0",
   "metadata": {
    "tags": []
   },
   "source": [
    "## What is docking?\n",
    "\n",
    "    1. Predict the orientation and conformation of a small molecule (ligand) in the binding site of the target protein \n",
    "    \n",
    "    2. Estimate its binding affinity. "
   ]
  },
  {
   "cell_type": "markdown",
   "id": "25aca090",
   "metadata": {},
   "source": [
    "## Application scenario of different docking methods"
   ]
  },
  {
   "cell_type": "markdown",
   "id": "34957d83",
   "metadata": {
    "tags": []
   },
   "source": [
    "<img src='figure/model_comp.png' width=80%></img>"
   ]
  },
  {
   "cell_type": "markdown",
   "id": "9f855293",
   "metadata": {
    "tags": []
   },
   "source": [
    "    1. In small-scale (i.e., dozens of) docking experiments, it is always a good idea to use sophisticated docking methods, such as Flexible CDOCKER\n",
    "    \n",
    "    2. However, in large-scale docking experiments, such as virtual screening for lead compound identification, direct application of such methods might not be appropriate or realistic because of its relative large computational cost. \n",
    "    \n",
    "        1. This leads to the development of rigid receptor -- rigid ligand docking method (FFT docking).\n",
    "        \n",
    "        2. This also motivates us to development hierarchical docking methods. "
   ]
  },
  {
   "cell_type": "markdown",
   "id": "e1794ba6",
   "metadata": {
    "tags": []
   },
   "source": [
    "<img src=\"figure/hierarchical_model.png\" width=\"65%\"/></img>"
   ]
  },
  {
   "cell_type": "markdown",
   "id": "2129545d",
   "metadata": {
    "jp-MarkdownHeadingCollapsed": true,
    "tags": []
   },
   "source": [
    "# Introduction to CDOCKER"
   ]
  },
  {
   "cell_type": "markdown",
   "id": "30e85c01",
   "metadata": {
    "tags": []
   },
   "source": [
    "## CDOCKER is a CHARMM based docking algorithm\n",
    "\n",
    "> ###  1. Grid based docking method\n",
    "    \n",
    "> ###  2. Uses physics based scoring function"
   ]
  },
  {
   "cell_type": "markdown",
   "id": "5107b665",
   "metadata": {
    "tags": []
   },
   "source": [
    "<img src=\"figure/cdocker.png\" width=\"80%\"/>"
   ]
  },
  {
   "cell_type": "markdown",
   "id": "89432209",
   "metadata": {},
   "source": [
    "## Motivation for pyCHARMM CDOCKER\n",
    "\n",
    "> ### 1. Docking is a powerful computational tool and has been applied for various structure-based structure- function explorations. However, the scripting languages of these docking methods are relatively complicated for ones with little knowledge of docking. \n",
    "    \n",
    "> ### 2. On the other hand, to perform a successful docking experiment one typically would need various cheminformatics tools either for pre-processing data or for post analysis."
   ]
  },
  {
   "cell_type": "markdown",
   "id": "ad0e9ec2",
   "metadata": {},
   "source": [
    "## Typical performance for CHARMM CDOCKER\n",
    "<div class='alert alert-block alert-info'>\n",
    "    <b>From:</b>\n",
    "X Ding, Y Wu, Y Wang, JZ Vilseck and CL Brooks III. Accelerated CDOCKER with GPUs, Parallel Simulated Annealing, and Fast Fourier Transforms. <i>J Chem Theor Comput</i>, 2020, <b>16</b>:3910-3919. \n",
    "</div>\n",
    "<img src=\"figure/SB2012.png\" width=\"65%\"/>"
   ]
  },
  {
   "cell_type": "markdown",
   "id": "b12de7eb",
   "metadata": {
    "jp-MarkdownHeadingCollapsed": true,
    "tags": []
   },
   "source": [
    "# General Set Up for pyCHARMM CDOCKER"
   ]
  },
  {
   "cell_type": "markdown",
   "id": "cf14751f",
   "metadata": {},
   "source": [
    "### Step 1. Import essential python libraries and create a test directory to run this part of the tutorial."
   ]
  },
  {
   "cell_type": "code",
   "execution_count": null,
   "id": "ad70aa80",
   "metadata": {},
   "outputs": [],
   "source": [
    "import os\n",
    "if os.getenv('CHARMM_LIB_DIR') == None:\n",
    "    # set path to CHARMM_LIB_DIR\n",
    "    pyCHARMM_LIB = '/home/brookscl/charmm/c47-dev-release/install-pycharmm-c1201-52/lib/'\n",
    "    os.environ['CHARMM_LIB_DIR'] = pyCHARMM_LIB\n",
    "import pycharmm\n",
    "import pycharmm.lib as lib\n",
    "import pycharmm.read as read\n",
    "import pycharmm.lingo as lingo\n",
    "import pycharmm.settings as settings\n",
    "home = os.getcwd()\n",
    "# test directory for rigid docking\n",
    "if not os.path.exists('../test_rigid'): os.mkdir('../test_rigid')\n",
    "os.chdir('../test_rigid')\n",
    "rigid = os.getcwd()\n",
    "print(home,rigid)"
   ]
  },
  {
   "cell_type": "markdown",
   "id": "0c5dc3d2",
   "metadata": {},
   "source": [
    "### Step 2. read in topology and parameter files\n",
    "> 1. In the following example, only protein and CGENFF topology and paramter files are read.\n",
    "> 2. If you want to dock against non-protein target, you should read in the corresponding topology and parameter files\n",
    "> 3. Alternatively, you could read in all topology and parameter files. Then you don't need to set bomblev. \n",
    "#### In this tutorial example we first move the needed files for protein and ligand and docking grids to the woking directory"
   ]
  },
  {
   "cell_type": "code",
   "execution_count": null,
   "id": "b46e7192",
   "metadata": {},
   "outputs": [],
   "source": [
    "# Move ligand.pdb, ligandrtf, protein.pdb and protein.psf to working directory\n",
    "os.system(f'cp ../rigid/ligand* {rigid}/')\n",
    "os.system(f'cp ../rigid/protein* {rigid}/')\n",
    "# Finally, move the pre-compiuted grid files to the working directory\n",
    "os.system(f'cp {home}/grid/rigid/* {rigid}/')"
   ]
  },
  {
   "cell_type": "markdown",
   "id": "9b51fa01",
   "metadata": {},
   "source": [
    "#### Now read in topology and parameter files"
   ]
  },
  {
   "cell_type": "code",
   "execution_count": null,
   "id": "98947fc0",
   "metadata": {
    "scrolled": true,
    "tags": []
   },
   "outputs": [],
   "source": [
    "settings.set_bomb_level(-1)\n",
    "owl = settings.set_warn_level(-5)\n",
    "read.rtf('\"../Toppar/top_all36_prot.rtf\"')\n",
    "read.rtf('\"../Toppar/top_all36_cgenff.rtf\"', append = True)\n",
    "read.prm('\"../Toppar/par_all36m_prot.prm\"', flex = True)\n",
    "read.prm('\"../Toppar/par_all36_cgenff.prm\"', append = True, flex = True)\n",
    "settings.set_bomb_level(0)\n",
    "read.stream('ligandrtf')\n",
    "settings.set_warn_level(owl)"
   ]
  },
  {
   "cell_type": "markdown",
   "id": "fefe4575",
   "metadata": {},
   "source": [
    "### Step 3. define grid box information\n",
    "\n",
    "> 1. grid box center (xyz-coordinates): xcen, ycen, zcen\n",
    "> > - this is general the center of your targeted binding site\n",
    "> > - values for this system are stored in the files `xcen, ycen, zcen` in the subdirectory `rigid`\n",
    "> 2. size of grid box: maxlen\n",
    "> > - this is this size of the grid volume to dock in, generally several A greater than the maximum dimension of the ligand\n",
    "> > - the value for this system is stored in the file `maxlen` in the subdirectory `rigid`\n",
    "\n",
    "<div class='alert alert-block alert-info'>\n",
    "<b>Note: If we weren't using pre-computed grids we would set flag_grid = True in the Rigid_CDOCKER call below.</b>\n",
    "</div>"
   ]
  },
  {
   "cell_type": "markdown",
   "id": "dabf2cd5",
   "metadata": {},
   "source": [
    "### Step 4. general parameters for the pyCHARMM CDOCKER"
   ]
  },
  {
   "cell_type": "markdown",
   "id": "e5c45944",
   "metadata": {
    "jp-MarkdownHeadingCollapsed": true,
    "tags": []
   },
   "source": [
    "# pyCHARMM Rigid CDOCKER"
   ]
  },
  {
   "cell_type": "markdown",
   "id": "be509ab8",
   "metadata": {
    "jp-MarkdownHeadingCollapsed": true,
    "tags": []
   },
   "source": [
    "## Helper function"
   ]
  },
  {
   "cell_type": "code",
   "execution_count": null,
   "id": "ba28e664",
   "metadata": {},
   "outputs": [],
   "source": [
    "from pycharmm.cdocker import Rigid_CDOCKER\n",
    "help(Rigid_CDOCKER)"
   ]
  },
  {
   "cell_type": "markdown",
   "id": "3d9fa751",
   "metadata": {},
   "source": [
    "## pyCHARMM Rigid CDOCKER Docking and Analysis\n",
    "### Running Rigid CDOCKER with Default Input\n",
    "> 1. ligand file: <font color='red'>ligand.pdb</font>\n",
    "> 2. ligand segment ID: <font color='red'>LIGA</font>\n",
    "> 3. receptor file : <font color='red'>protein.pdb</font> and <font color='red'>protein.psf</font>\n",
    "> 4. For docking with Rigid CDOCKER, the user needs to provide a pre-computed ligand conformer library. \n",
    "> > - This is generally created by operating on <font color='red'>`ligand.pdb`</font> with `obrotamer`, part of `openbabel`. \n",
    "> > - Default folder name: <font color='red'>conformer/</font>\n",
    "> 5. Default docking trials: <font color='red'>100</font> docking trials per conformer"
   ]
  },
  {
   "cell_type": "markdown",
   "id": "a2dc65b5",
   "metadata": {},
   "source": [
    "## Generate 10 rotomeric states of `ligand.pdb` with obrotamer"
   ]
  },
  {
   "cell_type": "code",
   "execution_count": null,
   "id": "76f4fa30",
   "metadata": {},
   "outputs": [],
   "source": [
    "if not os.path.exists('conformer'): os.mkdir('conformer')\n",
    "for r in range(1,11):\n",
    "    os.system(f'obrotamer ligand.pdb > conformer/{r}.pdb')"
   ]
  },
  {
   "cell_type": "markdown",
   "id": "f3e44a32",
   "metadata": {},
   "source": [
    "With default input the user only needs to provide <font color='red'>grid box information</font> (see example below).\n",
    "\n",
    "```Rigid_CDOCKER(xcen = 1, ycen = 1, zcen = 1, maxlen = 10)```"
   ]
  },
  {
   "cell_type": "markdown",
   "id": "38129ca0",
   "metadata": {
    "jp-MarkdownHeadingCollapsed": true,
    "tags": []
   },
   "source": [
    "### pyCHARMM Rigid CDOCKER Example"
   ]
  },
  {
   "cell_type": "markdown",
   "id": "656c6e1c",
   "metadata": {},
   "source": [
    "We have shown some basic requirments for Rigid CDOCKER. Below is a practical example of perform pyCHARMM Rigid CDOCKER docking experiments.\n",
    "    \n",
    "<div class='alert alert-block alert-info'>\n",
    "<b>Note:</b>\n",
    "    \n",
    "> 1. In this example, we specified the <font color='red'>file location</font> of the ligand and receptor (i.e., they are not at their default location).\n",
    "> 2. We also change the number of docking trials per conformer to <font color='red'>20</font> to reduce the computational cost.\n",
    "    \n",
    "</div>"
   ]
  },
  {
   "cell_type": "markdown",
   "id": "8f44be4a",
   "metadata": {},
   "source": [
    "## Now carry-out flexible ligand rigid receptor docking with the `Rigid_CDOCKER` module"
   ]
  },
  {
   "cell_type": "code",
   "execution_count": null,
   "id": "57107e0d",
   "metadata": {
    "jupyter": {
     "outputs_hidden": true
    },
    "tags": []
   },
   "outputs": [],
   "source": [
    "## Import module\n",
    "from pycharmm.cdocker import Rigid_CDOCKER\n",
    "\n",
    "## File name and pathway\n",
    "ligPDB = \"ligand.pdb\"\n",
    "ligandrtf = \"ligandrtf\"\n",
    "confDir = \"conformer/\"\n",
    "receptorPDB = \"protein.pdb\"\n",
    "receptorPSF = \"protein.psf\"\n",
    "\n",
    "## Rigid CDOCKER standard docking protocol\n",
    "clusterResult, dockResult = Rigid_CDOCKER(xcen = 12.33, ycen = 33.48, zcen = 19.70,\n",
    "                                        maxlen = 25.762, ligPDB = ligPDB, receptorPDB = receptorPDB,\n",
    "                                        receptorPSF = receptorPSF, confDir = confDir, flag_grid = True,\n",
    "                                        flag_delete_conformer = False, numPlace = 5)\n",
    "\n",
    "print(clusterResult)\n",
    "print(dockResult)"
   ]
  },
  {
   "cell_type": "markdown",
   "id": "46b91ef0",
   "metadata": {
    "jp-MarkdownHeadingCollapsed": true,
    "tags": []
   },
   "source": [
    "### pyCHARMM Rigid CDOCKER Default Output"
   ]
  },
  {
   "cell_type": "markdown",
   "id": "def07af6",
   "metadata": {},
   "source": [
    "By default, pyCHARMM Rigid CDOCKER will create a folder (<font color='red'>dockresult</font>) and save all the outputs to this folder."
   ]
  },
  {
   "cell_type": "markdown",
   "id": "aae2c08f",
   "metadata": {},
   "source": [
    "TSV files\n",
    "1. <font color='red'>clusterResult.tsv</font> contains docking result for the clustered poses.\n",
    "2. <font color='red'>explicitCluster.tsv</font> contains docking result for the clustered poses after explicit all atom minimization. \n",
    "3. <font color='red'>dockResult.tsv</font> contains docking result for all docked poses. \n",
    "4. <font color='red'>explicitTop10.tsv</font> contains docking result for the top 10 poses after explicit all atom minimization. \n",
    "\n",
    "Folders:\n",
    "1. Folder <font color='red'>allPose/</font> contains all docked poses.\n",
    "2. Folder <font color='red'>cluster/</font> contains all clustered poses.\n",
    "3. Folder <font color='red'>top_ener/</font> contains the top 10 poses.\n"
   ]
  },
  {
   "cell_type": "code",
   "execution_count": null,
   "id": "874768f8",
   "metadata": {},
   "outputs": [],
   "source": [
    "!ls dockresult"
   ]
  },
  {
   "cell_type": "code",
   "execution_count": null,
   "id": "e4be5389",
   "metadata": {},
   "outputs": [],
   "source": [
    "!ls dockresult/allPose dockresult/cluster dockresult/top_ener"
   ]
  },
  {
   "cell_type": "markdown",
   "id": "ceda72c7",
   "metadata": {},
   "source": [
    "1. In the folder <font color='red'>allPose/</font>, the nomenclature of the pdb files is \\{conformer_id\\}_\\{placement_id\\}\n",
    "2. In the folder <font color='red'>cluster/</font> and <font color='red'>top_ener</font>, the docked poses are sorted (i.e., top_1.pdb to top_n.pdb). The sorting method will be discussed later."
   ]
  },
  {
   "cell_type": "markdown",
   "id": "5ad12c70",
   "metadata": {
    "tags": []
   },
   "source": [
    "#### Lets look at the docked pose first"
   ]
  },
  {
   "cell_type": "code",
   "execution_count": null,
   "id": "3c1518e4",
   "metadata": {
    "scrolled": false
   },
   "outputs": [],
   "source": [
    "import py3Dmol\n",
    "view = py3Dmol.view(width=500, height=400)\n",
    "view.setBackgroundColor('grey')\n",
    "for i,struct in enumerate(['ligand.pdb','protein.pdb','dockresult/cluster/top_1.pdb',\n",
    "                          'dockresult/top_ener/top_1.pdb']):\n",
    "    view.addModel(open(struct,'r').read(),'pdb')\n",
    "    if i > 1: \n",
    "        view.setStyle({'model':i},{'stick':{'colorscheme':'greenCarbon'}})\n",
    "    elif i == 0:\n",
    "        view.setStyle({'model':i},{'stick':{'colorscheme':'yellowCarbon' }})\n",
    "        view.addSurface(py3Dmol.VDW,{'opacity': 0.7},{'model':i})\n",
    "    elif i == 1:\n",
    "        view.setStyle({'model':i},{'cartoon':{'color': 'lightblue'}})\n",
    "        view.addSurface(py3Dmol.SES,{'opacity': 0.8,'color': 'white'},{'model':i})\n",
    "view.zoomTo()\n",
    "view"
   ]
  },
  {
   "cell_type": "markdown",
   "id": "76cd3c8d",
   "metadata": {},
   "source": [
    "#### Now lets look at these tsv files. "
   ]
  },
  {
   "cell_type": "code",
   "execution_count": null,
   "id": "1648c788",
   "metadata": {},
   "outputs": [],
   "source": [
    "import pandas as pd"
   ]
  },
  {
   "cell_type": "markdown",
   "id": "d0d4fd3e",
   "metadata": {},
   "source": [
    "1. dockResult.tsv will always be created. It contains the docking results for all docked poses and is sorted by <font color='red'>total energy</font>. "
   ]
  },
  {
   "cell_type": "code",
   "execution_count": null,
   "id": "193d124d",
   "metadata": {
    "scrolled": true
   },
   "outputs": [],
   "source": [
    "print(pd.read_csv(\"dockresult/dockResult.tsv\", sep ='\\t').drop(\"Unnamed: 0\", axis = 1))"
   ]
  },
  {
   "cell_type": "markdown",
   "id": "e04f9ff1",
   "metadata": {},
   "source": [
    "2. clusterResult.tsv will always be created. It contains the docking results for the clustered poses and is sorted by <font color='red'>total energy</font>"
   ]
  },
  {
   "cell_type": "code",
   "execution_count": null,
   "id": "849f2809",
   "metadata": {},
   "outputs": [],
   "source": [
    "print(pd.read_csv(\"dockresult/clusterResult.tsv\", sep = '\\t').drop(\"Unnamed: 0\", axis = 1))"
   ]
  },
  {
   "cell_type": "markdown",
   "id": "46679828",
   "metadata": {},
   "source": [
    "3. By default, cluster representatives and top 10 poses will be rescored with explicit receptor atoms.\n",
    "The user can decide how they want to sort these two dataframes with the parameter <font color='red'>sort_energy</font>.\n",
    "The default sorting is based on total energy. \n"
   ]
  },
  {
   "cell_type": "code",
   "execution_count": null,
   "id": "05bba58a",
   "metadata": {
    "tags": []
   },
   "outputs": [],
   "source": [
    "explicitTop10 = pd.read_csv(\"dockresult/explicitTop10.tsv\", sep = '\\t').drop(\"Unnamed: 0\", axis = 1)\n",
    "explicitCluster = pd.read_csv(\"dockresult/explicitCluster.tsv\", sep = '\\t').drop(\"Unnamed: 0\", axis = 1)\n",
    "print(\"Top 10 lowest energy poses with explicit all atom minimization. \\n \\n\", explicitTop10, \"\\n \\n\")\n",
    "print(\"Cluster poses with explicit all atom minimization. \\n \\n\", explicitCluster)"
   ]
  },
  {
   "cell_type": "markdown",
   "id": "d00bca1f",
   "metadata": {
    "jp-MarkdownHeadingCollapsed": true,
    "tags": []
   },
   "source": [
    "## pyCHARMM Rigid CDOCKER Parameter for Controlling Input Information. "
   ]
  },
  {
   "cell_type": "markdown",
   "id": "cb132206",
   "metadata": {},
   "source": [
    "1. Parameters that require user input"
   ]
  },
  {
   "cell_type": "markdown",
   "id": "0ebfd4bd",
   "metadata": {},
   "source": [
    "| Parameters | Default value | Meaning|\n",
    "| :-- | :-- | :-- |\n",
    "| xcen | 0 | x coordinate of the center of the grid box | \n",
    "| ycen | 0 | y coordinate of the center of the grid box | \n",
    "| zcen | 0 | z coordinate of the center of the grid box | \n",
    "| maxlen | 10 | size of the grid box | "
   ]
  },
  {
   "cell_type": "markdown",
   "id": "b1f93750",
   "metadata": {},
   "source": [
    "2. Parameters that are miscellaneous. "
   ]
  },
  {
   "cell_type": "markdown",
   "id": "850ccd87",
   "metadata": {},
   "source": [
    "| Parameters | Default value | Meaning|\n",
    "| :-- | :-- | :-- |\n",
    "| ligPDB | 'ligand.pdb' | ligand PDB file | \n",
    "| ligSeg | 'LIGA' | Segment ID in the ligand PDB file | \n",
    "| receptorPDB | 'protein.pdb' | receptor PDB file | \n",
    "| receptorPSF | 'protein.psf' | receptor PSF file | \n",
    "| numPlace | 100 | number of placement per conformer | \n",
    "| sort_energy | 'total_energy' | sorting method of the explicit all atom minimization result |\n",
    "| saveDir | './dockresult/' | folder name of the final result directory |\n",
    "| confDir | './conformer/' | folder name of the conformer library |\n",
    "| flag_center_ligand | Ture | whether or not center the ligand in the binding pocket | \n",
    "| flag_grid | False | whether or not grid need to be generated before docking |\n",
    "| flag_delete_grid | True | whether or not delete grid after docking |\n",
    "| flag_delete_conformer | True | whether or not delete conformer after docking |\n",
    "| flag_delete_placement | True | whether or not delete ligand initial placement after docking| \n",
    "| flag_save_all | Ture | whether or not save all docked pose after docking |\n",
    "| flag_save_cluster | True | whether or not save clustered results after docking |\n",
    "| flag_save_top | Ture | whether or not save top 10 ranking poses after docking |"
   ]
  },
  {
   "cell_type": "markdown",
   "id": "1f4f6d0a",
   "metadata": {},
   "source": [
    "3. Parameters that are not recommended to be changed and the default values are applicable for most use cases."
   ]
  },
  {
   "cell_type": "markdown",
   "id": "118a98cc",
   "metadata": {},
   "source": [
    "| Parameters | Default value | Meaning|\n",
    "| :-- | :-- | :-- |\n",
    "| dielec | 3.0 | dielectric constant | \n",
    "| flag_rdie | True | True for rdie, False for cdie | \n",
    "| flag_form | False | whether or not grid form is formatted | \n",
    "| probeFile | \"../Toppar/fftdock_c36prot_cgenff_probes.txt\" | probe file for gpu grid generation| \n",
    "| softGridFile | 'grid-emax-0.6-mine--0.4-maxe-0.4.bin' | soft grid file name |\n",
    "| hardGridFile | 'grid-emax-3-mine--30-maxe-30.bin' | hard grid file name |\n",
    "| nativeGridFile | 'grid-emax-100-mine--100-maxe-100.bin' | native grid file name |\n",
    "| placementDir | './placement/' | ligand placement folder name |\n",
    "| flag_fast_placement | True | True for using fast placement, False for using original Rigid CDOCKER placement method |\n",
    "| exhaustiveness | 'high' | exhaustiveness for fast placement, high, medium, low |\n",
    "| threshold | 2500 | cutoff threshold for original Rigid CDOCKER placement method |\n",
    "| numCopy | 1000 | maximum number of copy for OpenMM parallel simulated annealing |\n",
    "| flag_suppress_print | True | whether or not suppress warning message during docking |\n",
    "| flag_fast_grid | False | True for using grid minimization, False for explicit atom minimization |"
   ]
  },
  {
   "cell_type": "markdown",
   "id": "0706a1ae",
   "metadata": {},
   "source": [
    "# End of rigid CDOCKER example - return home"
   ]
  },
  {
   "cell_type": "code",
   "execution_count": null,
   "id": "ef89dc23",
   "metadata": {},
   "outputs": [],
   "source": [
    "os.chdir(home)\n",
    "os.getcwd()"
   ]
  },
  {
   "cell_type": "markdown",
   "id": "58f7ca39",
   "metadata": {
    "jp-MarkdownHeadingCollapsed": true,
    "tags": []
   },
   "source": [
    "# pyCHARMM Rigid CDOCKER Covalent Docking"
   ]
  },
  {
   "cell_type": "markdown",
   "id": "f75c5f72",
   "metadata": {},
   "source": [
    "The major difference between the covalent docking and non-covalent docking in the pyCHARMM Rigid CDOCKER is that the user needs to <font color=red>specify the well-depth and cutoffs</font> of the covalent bond grid potential. Below shows the customizable covalent (hydrogen bond) grid potential.\n",
    "\n",
    "***Note***\n",
    "1. User needs to specifiy the sets of ligand and receptor atoms that are interested. \n",
    "2. The corresponding parameter files need to be updated\n",
    "3. CHARMM selection script: \n",
    "       1. acceptor set select *** end\n",
    "       2. donor set select *** end"
   ]
  },
  {
   "cell_type": "markdown",
   "id": "4fb6f7e8",
   "metadata": {},
   "source": [
    "<img src=\"figure/ener.png\" width=\"80%\"/>"
   ]
  },
  {
   "cell_type": "markdown",
   "id": "02172ec3",
   "metadata": {},
   "source": [
    "And the corrsponding parameters in the Rigid_CDOCKER are :"
   ]
  },
  {
   "cell_type": "markdown",
   "id": "80e9cbe1",
   "metadata": {},
   "source": [
    "| Parameters | Default value | Meaning|\n",
    "| :-- | :-- | :-- |\n",
    "| rcta | 0 | customizable grid left cutoff | \n",
    "| rctb | 0 | customizable grid right cutoff |\n",
    "| hmax | 0 | customizable grid well-depth |\n",
    "| flag_use_hbond | False | whether or not use hydrogen/covalent bond grid potential in Rigid CDOCKER | "
   ]
  },
  {
   "cell_type": "markdown",
   "id": "b04429f5",
   "metadata": {
    "jp-MarkdownHeadingCollapsed": true,
    "tags": []
   },
   "source": [
    "# pyCHARMM Flexible CDOCKER"
   ]
  },
  {
   "cell_type": "markdown",
   "id": "adb35ac0",
   "metadata": {
    "jp-MarkdownHeadingCollapsed": true,
    "tags": []
   },
   "source": [
    "## Helper function"
   ]
  },
  {
   "cell_type": "code",
   "execution_count": null,
   "id": "9a2cf600",
   "metadata": {},
   "outputs": [],
   "source": [
    "from pycharmm.cdocker import Flexible_CDOCKER\n",
    "help(Flexible_CDOCKER)"
   ]
  },
  {
   "cell_type": "markdown",
   "id": "6f89b26a",
   "metadata": {
    "jp-MarkdownHeadingCollapsed": true,
    "tags": []
   },
   "source": [
    "## pyCHARMM Flexible CDOCKER Docking and Analysis"
   ]
  },
  {
   "cell_type": "markdown",
   "id": "301671f6",
   "metadata": {
    "tags": []
   },
   "source": [
    "### Running Flexible CDOCKER with Default Input"
   ]
  },
  {
   "cell_type": "markdown",
   "id": "7cdb6f31",
   "metadata": {},
   "source": [
    "1. ligand file: <font color='red'>ligand.pdb</font>\n",
    "2. ligand segment ID: <font color='red'>LIGA</font>\n",
    "3. receptor file : <font color='red'>protein.pdb</font> and <font color='red'>protein.psf</font>\n",
    "4. Default docking trials: <font color='red'>20</font> conformers generated by Open Babel and <font color='red'>25</font> copies each conformer. (i.e., Open Babel is essential for Flexible CDOCKER)"
   ]
  },
  {
   "cell_type": "markdown",
   "id": "6d50e697",
   "metadata": {},
   "source": [
    "With default input, the user only needs to provide <font color='red'>grid box information</font> and <font color='red'>flexible amino acid side chain selection</font> (see example below).\n",
    "\n",
    "***Note***\n",
    "1. Currently, pyCHARMM Flexible CDOCKER only works with protein receptor.\n",
    "2. The flexible side chain selection needs to be a pandas dataframe. "
   ]
  },
  {
   "cell_type": "code",
   "execution_count": null,
   "id": "cc88985d",
   "metadata": {},
   "outputs": [],
   "source": [
    "import pandas as pd\n",
    "flexchain = pd.read_csv('../flex/flexchain.csv', sep = '\\t', index_col = 0)\n",
    "print(flexchain)"
   ]
  },
  {
   "cell_type": "markdown",
   "id": "cadc8335",
   "metadata": {},
   "source": [
    "With default input, the user only need to provide <font color='red'>grid box information</font> and <font color='red'>flexible side chain selection</font> (see example below).\n",
    "\n",
    "```Flexible_CDOCKER(xcen = 1, ycen = 1, zcen = 1, maxlen = 10, flexchain = flexchain)```"
   ]
  },
  {
   "cell_type": "markdown",
   "id": "fd076aba",
   "metadata": {
    "jp-MarkdownHeadingCollapsed": true,
    "tags": []
   },
   "source": [
    "### pyCHARMM Flexible CDOCKER Example"
   ]
  },
  {
   "cell_type": "markdown",
   "id": "297104ce",
   "metadata": {},
   "source": [
    "We have shown some basic requirments for Flexible CDOCKER. Below is a practical example of perform pyCHARMM Flexible CDOCKER docking experiments.\n",
    "    \n",
    "***Note***\n",
    "1. In this example, we specified the <font color='red'>file location</font> of the ligand, receptor and flexible side chain selection (i.e., they are not at their default location).\n",
    "2. We also change the number of conformers to <font color='red'>5</font> and the number of docking trials per conformer to <font color='red'>5</font> to reduce the computational cost. "
   ]
  },
  {
   "cell_type": "code",
   "execution_count": null,
   "id": "1bf43b28",
   "metadata": {},
   "outputs": [],
   "source": [
    "# reset the kernel to run another system\n",
    "%reset -f\n",
    "import os\n",
    "os.chdir('../jupyter_lab')\n",
    "home = os.getcwd()\n",
    "if not os.path.exists('../test_flex'): os.mkdir('../test_flex')\n",
    "os.chdir('../test_flex')\n",
    "flex = os.getcwd()\n",
    "print(home,flex)\n",
    "# Move ligand.pdb, ligandrtf, protein.pdb and protein.psf to working directory\n",
    "os.system(f'cp ../flex/ligand.* {flex}/')\n",
    "os.system(f'cp ../flex/ligandrtf {flex}/')\n",
    "os.system(f'cp ../flex/protein* {flex}/')\n",
    "os.system(f'cp ../flex/flexchain.csv {flex}/')\n",
    "# Finally, move the pre-compiuted grid files to the working directory\n",
    "os.system(f'cp {home}/grid/flex/* {flex}/')"
   ]
  },
  {
   "cell_type": "code",
   "execution_count": null,
   "id": "a7524606",
   "metadata": {
    "tags": []
   },
   "outputs": [],
   "source": [
    "os.environ['CHARMM_LIB_DIR'] = '/home/brookscl/charmm/c47-dev-release/install-pycharmm-c1201-52/lib/'\n",
    "## Import module\n",
    "import pandas as pd\n",
    "import pycharmm\n",
    "import pycharmm.lib as lib\n",
    "import pycharmm.read as read\n",
    "import pycharmm.lingo as lingo\n",
    "import pycharmm.settings as settings\n",
    "from pycharmm.cdocker import Flexible_CDOCKER\n",
    "\n",
    "## File name and pathway\n",
    "ligPDB = \"ligand.pdb\"\n",
    "ligandrtf = \"ligandrtf\"\n",
    "receptorPDB = \"protein.pdb\"\n",
    "receptorPSF = \"protein.psf\"\n",
    "topdir = \"../Toppar/\"\n",
    "\n",
    "settings.set_bomb_level(-1)\n",
    "owl = settings.set_warn_level(-5)\n",
    "read.rtf('\"../Toppar/top_all36_prot.rtf\"')\n",
    "read.rtf('\"../Toppar/top_all36_cgenff.rtf\"', append = True)\n",
    "read.prm('\"../Toppar/par_all36m_prot.prm\"', flex = True)\n",
    "read.prm('\"../Toppar/par_all36_cgenff.prm\"', append = True, flex = True)\n",
    "settings.set_bomb_level(0)\n",
    "read.stream('ligandrtf')\n",
    "settings.set_warn_level(owl)\n",
    "\n",
    "## Read in the receptor flexible side chain selection\n",
    "flexchain = pd.read_csv('flexchain.csv', sep = '\\t', index_col = 0)\n",
    "\n",
    "## Flexible CDOCKER standard docking protocol\n",
    "clusterResult, dockResult = Flexible_CDOCKER(xcen = 26.911, ycen = 6.126, zcen = 4.178,\n",
    "                            maxlen = 14.492, ligPDB = ligPDB, receptorPDB = receptorPDB,\n",
    "                            receptorPSF = receptorPSF, num = 5, copy = 5,\n",
    "                            flag_grid = True, flexchain = flexchain)\n",
    "\n",
    "print(clusterResult)\n",
    "print(dockResult)"
   ]
  },
  {
   "cell_type": "markdown",
   "id": "f090dc22",
   "metadata": {
    "jp-MarkdownHeadingCollapsed": true,
    "tags": []
   },
   "source": [
    "### pyCHARMM Flexible CDOCKER Default Output"
   ]
  },
  {
   "cell_type": "markdown",
   "id": "4256801b",
   "metadata": {},
   "source": [
    "By default, pyCHARMM Rigid CDOCKER will create a folder (<font color='red'>dockresult</font>) and save all the outputs to this folder.\n",
    "\n",
    "TSV files\n",
    "1. <font color='red'>clusterResult.tsv</font> contains docking result for the clustered poses.\n",
    "2. <font color='red'>explicitResult.tsv</font> contains docking result for all docked poses after explicit all atom minimization. \n",
    "3. <font color='red'>dockResult.tsv</font> contains docking result for all docked poses. \n",
    "\n",
    "Folders:\n",
    "1. Folder <font color='red'>cluster/</font> contains all clustered poses."
   ]
  },
  {
   "cell_type": "code",
   "execution_count": null,
   "id": "c67237d8",
   "metadata": {},
   "outputs": [],
   "source": [
    "!ls dockresult"
   ]
  },
  {
   "cell_type": "code",
   "execution_count": null,
   "id": "a4c5da32",
   "metadata": {},
   "outputs": [],
   "source": [
    "!ls dockresult/cluster/*"
   ]
  },
  {
   "cell_type": "markdown",
   "id": "70e2182b",
   "metadata": {},
   "source": [
    "In the folder <font color='red'>cluster/</font>, the ligand and the corresponding protein docked poses are sorted (i.e., top_1.pdb to top_n.pdb). The sorting method will be introduced later."
   ]
  },
  {
   "cell_type": "markdown",
   "id": "320bfdba",
   "metadata": {
    "tags": []
   },
   "source": [
    "#### Lets look at the docked pose first"
   ]
  },
  {
   "cell_type": "code",
   "execution_count": null,
   "id": "72700085",
   "metadata": {},
   "outputs": [],
   "source": [
    "import os\n",
    "os.chdir(flex)\n",
    "!pwd"
   ]
  },
  {
   "cell_type": "code",
   "execution_count": null,
   "id": "353a866a",
   "metadata": {
    "tags": []
   },
   "outputs": [],
   "source": [
    "import py3Dmol\n",
    "view = py3Dmol.view(width=500, height=400)\n",
    "view.setBackgroundColor('grey')\n",
    "for i,struct in enumerate(['ligand.pdb','dockresult/cluster/ligand/top_1.pdb',\n",
    "                           'protein.pdb']):\n",
    "    view.addModel(open(struct,'r').read(),'pdb')\n",
    "    if i == 1: \n",
    "        view.setStyle({'model':i},{'stick':{'colorscheme':'greenCarbon'}})\n",
    "    elif i == 0:\n",
    "        view.setStyle({'model':i},{'stick':{'colorscheme':'yellowCarbon' }})\n",
    "        view.addSurface(py3Dmol.VDW,{'opacity': 0.7},{'model':i})\n",
    "    elif i == 2:\n",
    "        view.setStyle({'model':i},{'cartoon':{'color': 'lightblue'}})\n",
    "        #view.addSurface(py3Dmol.SES,{'opacity': 0.8,'color': 'white'},{'model':i})\n",
    "view.zoomTo()\n",
    "view"
   ]
  },
  {
   "cell_type": "markdown",
   "id": "5c6e7182",
   "metadata": {},
   "source": [
    "#### Now lets look at these tsv files. "
   ]
  },
  {
   "cell_type": "code",
   "execution_count": null,
   "id": "332dda66",
   "metadata": {},
   "outputs": [],
   "source": [
    "import pandas as pd"
   ]
  },
  {
   "cell_type": "markdown",
   "id": "01cdee54",
   "metadata": {},
   "source": [
    "1. dockResult.tsv will always be created. It contains the docking results for all docked poses and is sorted by <font color='red'>total energy</font>. "
   ]
  },
  {
   "cell_type": "code",
   "execution_count": null,
   "id": "6a1e0a34",
   "metadata": {},
   "outputs": [],
   "source": [
    "print(pd.read_csv(\"dockresult/dockResult.tsv\", sep ='\\t').drop(\"Unnamed: 0\", axis = 1))"
   ]
  },
  {
   "cell_type": "markdown",
   "id": "ce6b854f",
   "metadata": {},
   "source": [
    "2. clusterResult.tsv will always be created. It contains the docking representatives for the clustered poses and is sorted by <font color='red'>total energy</font>. By default, these poses will be rescored with explicit receptor atoms.The user can decide how they want to sort the dataframe with the parameter <font color='red'>sort_energy</font>. The default sorting is based on total energy. "
   ]
  },
  {
   "cell_type": "code",
   "execution_count": null,
   "id": "d683d65d",
   "metadata": {},
   "outputs": [],
   "source": [
    "print(pd.read_csv(\"dockresult/clusterResult.tsv\", sep = '\\t').drop(\"Unnamed: 0\", axis = 1))"
   ]
  },
  {
   "cell_type": "markdown",
   "id": "5af2c7da",
   "metadata": {},
   "source": [
    "3. By default, all docked poses will be rescored with explicit receptor atoms. The result is sorted by <font color='red'>total energy</font> and saved in the file explicitResult.tsv. The user can decide how they want to sort the dataframe with the parameter <font color='red'>sort_energy</font>. The default sorting is based on total energy. "
   ]
  },
  {
   "cell_type": "code",
   "execution_count": null,
   "id": "58b82891",
   "metadata": {
    "tags": []
   },
   "outputs": [],
   "source": [
    "print(pd.read_csv(\"dockresult/explicitResult.tsv\", sep = '\\t').drop(\"Unnamed: 0\", axis = 1))"
   ]
  },
  {
   "cell_type": "markdown",
   "id": "0c6eb349",
   "metadata": {
    "jp-MarkdownHeadingCollapsed": true,
    "tags": []
   },
   "source": [
    "## pyCHARMM Flexible CDOCKER Parameter for Controlling Input Information. "
   ]
  },
  {
   "cell_type": "markdown",
   "id": "54b726b2",
   "metadata": {},
   "source": [
    "1. Parameters that require user input"
   ]
  },
  {
   "cell_type": "markdown",
   "id": "7ea8a043",
   "metadata": {},
   "source": [
    "| Parameters | Default value | Meaning|\n",
    "| :-- | :-- | :-- |\n",
    "| xcen | 0 | x coordinate of the center of the grid box | \n",
    "| ycen | 0 | y coordinate of the center of the grid box | \n",
    "| zcen | 0 | z coordinate of the center of the grid box | \n",
    "| maxlen | 10 | size of the grid box | \n",
    "| flexchain | None | flexible side chain selection (pandas dataframe)|"
   ]
  },
  {
   "cell_type": "markdown",
   "id": "4d9e5ad6",
   "metadata": {},
   "source": [
    "2. Parameters that are miscellaneous. "
   ]
  },
  {
   "cell_type": "markdown",
   "id": "cc11bb06",
   "metadata": {},
   "source": [
    "| Parameters | Default value | Meaning|\n",
    "| :-- | :-- | :-- |\n",
    "| ligPDB | 'ligand.pdb' | ligand PDB file | \n",
    "| ligSeg | 'LIGA' | Segment ID in the ligand PDB file | \n",
    "| receptorPDB | 'protein.pdb' | receptor PDB file | \n",
    "| receptorPSF | 'protein.psf' | receptor PSF file | \n",
    "| num | 20 | number of conformers | \n",
    "| copy | 25 | number of copies per conformer |\n",
    "| generation | 2 | number of generations in the genetic algorithm |\n",
    "| sort_energy | 'total_energy' | sorting method of the explicit all atom minimization result |\n",
    "| saveDir | './dockresult/' | folder name of the final result directory |\n",
    "| flag_center_ligand | Ture | whether or not center the ligand in the binding pocket | \n",
    "| flag_grid | False | whether or not grid need to be generated before docking |\n",
    "| flag_delete_grid | True | whether or not delete grid after docking |\n",
    "| flag_save_placement | True | whether or not save ligand initial placement after docking| \n",
    "| flag_save_crossover | False | whether or not save crossover after docking| \n",
    "| flag_save_all | False | whether or not save all docked pose after docking |\n",
    "| flag_save_cluster | True | whether or not save clustered results after docking |\n",
    "| flag_save_top | Ture | whether or not save top 10 ranking poses after docking |\n",
    "| top_N_result | 10 | number of top N largest clusters, final generation uses top N + 5 clusters | "
   ]
  },
  {
   "cell_type": "markdown",
   "id": "0df8fb2b",
   "metadata": {},
   "source": [
    "3. Parameters that are not recommended to be changed and the default values are applicable for most use cases."
   ]
  },
  {
   "cell_type": "markdown",
   "id": "b236d8ad",
   "metadata": {},
   "source": [
    "| Parameters | Default value | Meaning|\n",
    "| :-- | :-- | :-- |\n",
    "| flag_form | False | whether or not grid form is formatted | \n",
    "| probeFile | \"../Toppar/fftdock_c36prot_cgenff_probes.txt\" | probe file for gpu grid generation| \n",
    "| softGridFile | 'grid-emax-0.6-mine--0.4-maxe-0.4.bin' | soft grid file name |\n",
    "| hardGridFile | 'grid-emax-3-mine--30-maxe-30.bin' | hard grid file name |\n",
    "| nativeGridFile | 'grid-emax-100-mine--100-maxe-100.bin' | native grid file name |\n",
    "| receptorCard | '\"./flexchain.crd\"' | receptor flexible side chain coordinate card |\n",
    "| saveLig | './ligand/' | folder name for all ligand docked poses |\n",
    "| saveProt | './protein/' | folder name for all protein docked poses |\n",
    "| saveLigFinal | './ligand_final/' | folder name for ligand final cluster representatives |\n",
    "| saveProtFinal | './protein_final/' | folder name for protein final cluster representatives |\n",
    "| crossoverLig | './crossover_ligand/' | folder name for ligand crossover |\n",
    "| crossoverProt | './crossover_protein/' | folder name for protein crossover |\n",
    "| placementDir | './placement/' | ligand placement folder name |\n",
    "| threshold_init | 2500 | energy threshold for initial placement |\n",
    "| threshold_mutate | 100 | energy threshold for mutation |\n",
    "| flag_fast_grid | False | True for using grid minimization, False for explicit atom minimization |\n",
    "| flag_fast_placement | False | True for using fast placement, False for using original Flexible CDOCKER placement method |\n",
    "| exhaustiveness | 'high' | exhaustiveness for fast placement, high, medium, low |\n",
    "| flag_suppress_print | True | whether or not suppress warning message during docking | "
   ]
  },
  {
   "cell_type": "markdown",
   "id": "2514c352",
   "metadata": {
    "jp-MarkdownHeadingCollapsed": true,
    "tags": []
   },
   "source": [
    "# PyCHARMM CDOCKER Docking Summary"
   ]
  },
  {
   "cell_type": "markdown",
   "id": "69c4b46c",
   "metadata": {
    "jp-MarkdownHeadingCollapsed": true,
    "tags": []
   },
   "source": [
    "## Docking Speed"
   ]
  },
  {
   "cell_type": "markdown",
   "id": "18e4d181",
   "metadata": {},
   "source": [
    "1. Slightly improve Rigid CDOCKER docking speed.\n",
    "2. Significantly improved Flexible CDOCKER docking speed by at least 2 folds. "
   ]
  },
  {
   "cell_type": "markdown",
   "id": "956201e7",
   "metadata": {},
   "source": [
    "<img src='figure/fig_pycharmm_time.png' width=50%></img>"
   ]
  },
  {
   "cell_type": "markdown",
   "id": "6831a989",
   "metadata": {
    "jp-MarkdownHeadingCollapsed": true,
    "tags": []
   },
   "source": [
    "## Docking Accuracy"
   ]
  },
  {
   "cell_type": "markdown",
   "id": "d2b953f0",
   "metadata": {},
   "source": [
    "Because we improved the searching efficiency, we could perform more exhaustive searching. And hence we observe improved pose prediction performance. \n",
    "\n",
    "    1. We compared the Rigid CDOCKER docking performance with the benchmark dataset SB2012.\n",
    "    2. We compared the Flexible CDOCKER docking preformance with the cross-docking benchmark dataset. "
   ]
  },
  {
   "cell_type": "markdown",
   "id": "7630d2a2",
   "metadata": {},
   "source": [
    "<img src='figure/fig_pycdocker.png' width=80%></img>"
   ]
  },
  {
   "cell_type": "markdown",
   "id": "098bc0cf",
   "metadata": {
    "jp-MarkdownHeadingCollapsed": true,
    "tags": []
   },
   "source": [
    "## Summary"
   ]
  },
  {
   "cell_type": "markdown",
   "id": "85352442",
   "metadata": {},
   "source": [
    "    1. Reduce the complexity\n",
    "    2. Accelerate CDOCKER family\n",
    "    3. Improve docking accuracy\n",
    "    4. Easy to integrate with other python packages"
   ]
  },
  {
   "cell_type": "markdown",
   "id": "c914be6f",
   "metadata": {
    "jp-MarkdownHeadingCollapsed": true,
    "tags": []
   },
   "source": [
    "## Future work"
   ]
  },
  {
   "cell_type": "markdown",
   "id": "d63c91fa",
   "metadata": {},
   "source": [
    "    1. pyCHARMM Flexible CDOCKER atom selection\n",
    "    2. FFT docking in pyCHARMM\n",
    "    3. One liner code for virtual screening"
   ]
  }
 ],
 "metadata": {
  "kernelspec": {
   "display_name": "Python 3 (ipykernel)",
   "language": "python",
   "name": "python3"
  },
  "language_info": {
   "codemirror_mode": {
    "name": "ipython",
    "version": 3
   },
   "file_extension": ".py",
   "mimetype": "text/x-python",
   "name": "python",
   "nbconvert_exporter": "python",
   "pygments_lexer": "ipython3",
   "version": "3.11.4"
  }
 },
 "nbformat": 4,
 "nbformat_minor": 5
}

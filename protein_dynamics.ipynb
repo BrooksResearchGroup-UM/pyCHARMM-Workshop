{
 "cells": [
  {
   "cell_type": "markdown",
   "id": "c28e9364-7b3a-4268-96c2-3d4755b79228",
   "metadata": {},
   "source": [
    "# Run protein dynamics with PBCs using PME\n",
    "## This notebook builds on the previous protein_setup.ipynb and sets up a molecular dynamics simulation using Particle-Mesh Ewald running on CHARMM/OpenMM or CHARMM/BLaDE."
   ]
  },
  {
   "cell_type": "code",
   "execution_count": null,
   "id": "956065e9-3ee9-4bda-b56b-999748cee949",
   "metadata": {},
   "outputs": [],
   "source": [
    "# This script provides a simple example of running molecular dynamics of \n",
    "# a solvated protein structure created in an earlier notebook tutorial\n",
    "# further illustrating the functionality exposed in pyCHARMM.\n",
    "#  copyright C.L. Brooks III, June 20, 2022\n",
    "\n",
    "# These are general python modules needed for this  tutorial\n",
    "import os\n",
    "import sys\n",
    "import numpy as np\n",
    "\n",
    "# These are a subset of the pycharmm modules that were installed when\n",
    "# pycharmm was installed in your python environment\n",
    "import pycharmm\n",
    "import pycharmm.generate as gen\n",
    "import pycharmm.ic as ic\n",
    "import pycharmm.coor as coor\n",
    "import pycharmm.energy as energy\n",
    "import pycharmm.dynamics as dyn\n",
    "import pycharmm.nbonds as nbonds\n",
    "import pycharmm.minimize as minimize\n",
    "import pycharmm.crystal as crystal\n",
    "import pycharmm.image as image\n",
    "import pycharmm.psf as psf\n",
    "import pycharmm.read as read\n",
    "import pycharmm.write as write\n",
    "import pycharmm.settings as settings\n",
    "import pycharmm.cons_harm as cons_harm\n",
    "import pycharmm.cons_fix as cons_fix\n",
    "import pycharmm.select as select\n",
    "import pycharmm.shake as shake\n",
    "\n",
    "from pycharmm.lib import charmm as libcharmm"
   ]
  },
  {
   "cell_type": "markdown",
   "id": "ae88b60e-ca65-421d-ab9e-145af6af5f1e",
   "metadata": {},
   "source": [
    "## The following are some helper functions for setting-up and running the dynamics"
   ]
  },
  {
   "cell_type": "code",
   "execution_count": null,
   "id": "bdc999f3-8b48-4270-adee-99367b560336",
   "metadata": {},
   "outputs": [],
   "source": [
    "################################\n",
    "# Ensure that FFT grid is product of small primes 2, 3, 5\n",
    "def is_factor(n):\n",
    "    if (n % 2 != 0): return False  # favors even number\n",
    "    while n:\n",
    "        flag = False\n",
    "        for x in (2,3,5):\n",
    "            if n % x == 0:\n",
    "               n = n / x\n",
    "               flag = True\n",
    "               break\n",
    "\n",
    "        if flag: continue\n",
    "        break\n",
    "\n",
    "    if n == 1: return True\n",
    "    return False\n",
    "\n",
    "def checkfft(n, margin = 5):\n",
    "    n = int(n) + margin\n",
    "    while 1:\n",
    "        if is_factor(n): break\n",
    "        else: n += 1\n",
    "    return n"
   ]
  },
  {
   "cell_type": "code",
   "execution_count": null,
   "id": "57e2bc79-7d3d-4ca1-a824-aa24459ca23f",
   "metadata": {
    "tags": []
   },
   "outputs": [],
   "source": [
    "#################################\n",
    "def setup_PBC(boxhalf=0.0, protein_segments=[],solvent_resname='TIP3',ions=[],blade=False):\n",
    "    \"\"\"input: boxhalf [0.0]\n",
    "              solute  []\n",
    "              solvent_resname ['']\n",
    "              ions []\n",
    "              blade [False]\n",
    "    defines the periodic boundary conditions for a cubic volume of boxsize. \n",
    "    Uses: crystal_define_cubic(), crystal.build(), image.setup_residue,\n",
    "    image.setup_segment to construct symmetry operations. \n",
    "\n",
    "    If global variable openmm is true\n",
    "    the image centering is at [boxhalf,boxhalf,boxhalf] otherwise at [0,0,0].\n",
    "    \"\"\"\n",
    "    crystal.define_cubic(boxhalf*2)\n",
    "    crystal.build(boxhalf)\n",
    "\n",
    "    if blade: boxhalf = 0.0 # center at origin for blade\n",
    "    for segment in protein_segments:\n",
    "        image.setup_segment(boxhalf,boxhalf, boxhalf, segment)\n",
    "    if len(solvent_resname)>0: image.setup_residue(boxhalf,boxhalf, boxhalf, solvent_resname)\n",
    "    for ion in ions:\n",
    "        image.setup_residue(boxhalf, boxhalf, boxhalf, ion)\n",
    "\n",
    "    return"
   ]
  },
  {
   "cell_type": "markdown",
   "id": "b6e1164b-8aac-45c1-bd5f-13caf84b311b",
   "metadata": {},
   "source": [
    "## Set-up system - topology and parameter files"
   ]
  },
  {
   "cell_type": "code",
   "execution_count": null,
   "id": "2b89cd24-ebaf-4c7d-aa71-328ae175cc12",
   "metadata": {},
   "outputs": [],
   "source": [
    "# Read in the topology (rtf) and parameter file (prm) for proteins\n",
    "# equivalent to the CHARMM scripting command: read rtf card name toppar/top_all36_prot.rtf\n",
    "read.rtf('toppar/top_all36_prot.rtf')\n",
    "# equivalent to the CHARMM scripting command: read param card flexible name toppar/par_all36m_prot.prm\n",
    "read.prm('toppar/par_all36m_prot.prm', flex=True)\n",
    "\n",
    "# stream in the water/ions parameter using the pycharmm.lingo module\n",
    "# equivalent to the CHARMM scripting command: stream toppar/toppar_water_ions.str\n",
    "pycharmm.lingo.charmm_script('stream toppar/toppar_water_ions.str')"
   ]
  },
  {
   "cell_type": "markdown",
   "id": "d5246576-c1bf-4269-8714-8e6eae499196",
   "metadata": {},
   "source": [
    "## Read in psf and coordinates of solvated systems\n",
    "## Find the segment names for the solute (first n-2 segments assumed), solvent (penultimate segment assumed) and ions (last segment)"
   ]
  },
  {
   "cell_type": "code",
   "execution_count": null,
   "id": "86a42fec-fdef-41fd-a6c2-3e26a0600833",
   "metadata": {},
   "outputs": [],
   "source": [
    "# Some choices for pdbids\n",
    "pdbid = '4pti'  # bovine pancreatic trypsin inhibitor - an x-ray structuture\n",
    "#pdbid = '6pti'  # bovine pancreatic trypsin inhibitor - an x-ray structuture\n",
    "#pdbid = '5wyo'  # HDEA a dimeric (two chain) protein - an NMR structure\n",
    "\n",
    "# Read the psf and coordinates for the solvated peptide\n",
    "# Read psf card name pdb/adp+wat.psf\n",
    "read.psf_card('pdb/{}+wat.psf'.format(pdbid))\n",
    "# read coor pdb name pdb/adp+wat_min.pdb\n",
    "read.pdb('pdb/{}+wat_min.pdb'.format(pdbid),resid=True)"
   ]
  },
  {
   "cell_type": "code",
   "execution_count": null,
   "id": "397b08e7-e038-44e2-a200-a93fdd24e696",
   "metadata": {
    "tags": []
   },
   "outputs": [],
   "source": [
    "# Now setup periodic boundaries\n",
    "# boxsize\n",
    "stats = coor.stat()\n",
    "xsize = stats['xmax'] - stats['xmin']\n",
    "ysize = stats['ymax'] - stats['ymin']\n",
    "zsize = stats['zmax'] - stats['zmin']\n",
    "boxsize = max(xsize, ysize, zsize)\n",
    "\n",
    "# half box size\n",
    "boxhalf = boxsize / 2.0\n",
    "setup_PBC(boxhalf=boxhalf, protein_segments=['PROA'],\n",
    "          solvent_resname='TIP3',ions=['CLA', 'SOD', 'POT'],blade=False)"
   ]
  },
  {
   "cell_type": "code",
   "execution_count": null,
   "id": "84b7f2d4-d527-41a6-9a8b-4750471b28f8",
   "metadata": {
    "tags": []
   },
   "outputs": [],
   "source": [
    "# Set-up non-bonded parameters\n",
    "ctofnb = 12\n",
    "cutnb = ctofnb + 2.0\n",
    "cutim = cutnb\n",
    "ctonnb = ctofnb - 2.0\n",
    "fft = checkfft(n=np.ceil(boxhalf)*2,margin=0)\n",
    "nb_wPME = pycharmm.NonBondedScript(cutnb=cutnb, cutim=cutim,\n",
    "                                    ctonnb=ctonnb, ctofnb=ctofnb,\n",
    "                                    eps=1.0,\n",
    "                                    cdie=True,\n",
    "                                    atom=True, vatom=True,\n",
    "                                    switch=True, vfswitch=False, vswitch=True,\n",
    "                                    inbfrq=-1, imgfrq=-1,\n",
    "                                    ewald=True,pmewald=True,kappa=0.32,\n",
    "                                    fftx=fft,ffty=fft,fftz=fft,order=4)\n",
    "nb_wPME.run()\n",
    "energy.show()"
   ]
  },
  {
   "cell_type": "code",
   "execution_count": null,
   "id": "5680bf9d-6fcd-49ba-81dd-cca61a9e1a77",
   "metadata": {},
   "outputs": [],
   "source": [
    "# Set-up short dynamics\n",
    "os.system('mkdir res dcd')\n",
    "leap = True\n",
    "lang = True\n",
    "solres = '4pti'\n",
    "i = 0\n",
    "nequil = 1000\n",
    "imgfrq = -1\n",
    "nsavc = 100\n",
    "useblade = False\n",
    "useomm = 'gamma 2 prmc pref 1 iprsfrq 100'\n",
    "dyn.set_fbetas(np.full((psf.get_natom()),1.0,dtype=float))\n",
    "   \n",
    "res_file = pycharmm.CharmmFile(file_name='res/{}_{}.res'.format(solres,i), file_unit=2,\n",
    "                               formatted=True,read_only=False)\n",
    "lam_file = pycharmm.CharmmFile(file_name='res/{}_{}.lam'.format(solres,i), file_unit=3,\n",
    "                               formatted=False,read_only=False)\n",
    "my_dyn = pycharmm.DynamicsScript(leap=leap, lang=lang, start=True,\n",
    "                                 nstep=nequil, timest=0.002,\n",
    "                                 firstt=298.0, finalt=298.0, tbath=298.0,\n",
    "                                 tstruc=298.0,\n",
    "                                 teminc=0.0, twindh=0.0, twindl=0.0,\n",
    "                                 iunwri=res_file.file_unit,\n",
    "                                 iunlam=lam_file.file_unit,\n",
    "                                 inbfrq=-1, imgfrq=imgfrq,\n",
    "                                 iasors=0, iasvel=1, ichecw=0, iscale=0,\n",
    "                                 iscvel=0,echeck=-1, nsavc=0, nsavv=0, nsavl=0, ntrfrq=0,\n",
    "                                 isvfrq=nsavc,\n",
    "                                 iprfrq=2*nsavc, nprint=nsavc, ihtfrq=0, ieqfrq=0,\n",
    "                                 ilbfrq=0,ihbfrq=0,\n",
    "                                 blade=useblade,omm=useomm)\n",
    "my_dyn.run()\n",
    "\n",
    "res_file.close()\n",
    "lam_file.close()\n"
   ]
  },
  {
   "cell_type": "code",
   "execution_count": null,
   "id": "972ba17a-ef8e-447b-ad6a-66840d6fdd7f",
   "metadata": {},
   "outputs": [],
   "source": []
  }
 ],
 "metadata": {
  "kernelspec": {
   "display_name": "Python 3 (ipykernel)",
   "language": "python",
   "name": "python3"
  },
  "language_info": {
   "codemirror_mode": {
    "name": "ipython",
    "version": 3
   },
   "file_extension": ".py",
   "mimetype": "text/x-python",
   "name": "python",
   "nbconvert_exporter": "python",
   "pygments_lexer": "ipython3",
   "version": "3.8.10"
  }
 },
 "nbformat": 4,
 "nbformat_minor": 5
}

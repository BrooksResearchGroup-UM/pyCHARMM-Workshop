{
 "cells": [
  {
   "cell_type": "markdown",
   "id": "c28e9364-7b3a-4268-96c2-3d4755b79228",
   "metadata": {},
   "source": [
    "# Run protein dynamics with PBCs using PME\n",
    "## This notebook builds on the previous protein_setup.ipynb and sets up a molecular dynamics simulation using Particle-Mesh Ewald running on CHARMM/OpenMM or CHARMM/BLaDE.\n",
    "## Note you need to have run the previous notebook and have created the solvated psf and pdb to use this notebook and you need to specify which protein you prepared in the cell below."
   ]
  },
  {
   "cell_type": "code",
   "execution_count": null,
   "id": "1f3c499e",
   "metadata": {},
   "outputs": [],
   "source": [
    "# Some choices for pdbids\n",
    "pdbid = '4pti'  # bovine pancreatic trypsin inhibitor - an x-ray structuture\n",
    "#pdbid = '6pti'  # bovine pancreatic trypsin inhibitor - an x-ray structuture\n",
    "#pdbid = '5wyo'  # HDEA a dimeric (two chain) protein - an NMR structure"
   ]
  },
  {
   "cell_type": "code",
   "execution_count": null,
   "id": "956065e9-3ee9-4bda-b56b-999748cee949",
   "metadata": {
    "tags": []
   },
   "outputs": [],
   "source": [
    "# This script provides a simple example of running molecular dynamics of \n",
    "# a solvated protein structure created in an earlier notebook tutorial\n",
    "# further illustrating the functionality exposed in pyCHARMM.\n",
    "#  copyright C.L. Brooks III, June 20, 2022\n",
    "\n",
    "# These are general python modules needed for this  tutorial\n",
    "import os\n",
    "import sys\n",
    "import numpy as np\n",
    "\n",
    "# These are a subset of the pycharmm modules that were installed when\n",
    "# pycharmm was installed in your python environment\n",
    "import pycharmm\n",
    "import pycharmm.generate as gen\n",
    "import pycharmm.ic as ic\n",
    "import pycharmm.coor as coor\n",
    "import pycharmm.energy as energy\n",
    "import pycharmm.dynamics as dyn\n",
    "import pycharmm.nbonds as nbonds\n",
    "import pycharmm.minimize as minimize\n",
    "import pycharmm.crystal as crystal\n",
    "import pycharmm.image as image\n",
    "import pycharmm.psf as psf\n",
    "import pycharmm.read as read\n",
    "import pycharmm.write as write\n",
    "import pycharmm.settings as settings\n",
    "import pycharmm.cons_harm as cons_harm\n",
    "import pycharmm.cons_fix as cons_fix\n",
    "import pycharmm.select as select\n",
    "import pycharmm.shake as shake\n",
    "\n",
    "from pycharmm.lib import charmm as libcharmm"
   ]
  },
  {
   "cell_type": "markdown",
   "id": "ae88b60e-ca65-421d-ab9e-145af6af5f1e",
   "metadata": {},
   "source": [
    "## The following are some helper functions for setting-up and running the dynamics"
   ]
  },
  {
   "cell_type": "code",
   "execution_count": null,
   "id": "bdc999f3-8b48-4270-adee-99367b560336",
   "metadata": {
    "tags": []
   },
   "outputs": [],
   "source": [
    "################################\n",
    "# Ensure that FFT grid is product of small primes 2, 3, 5\n",
    "def is_factor(n):\n",
    "    if (n % 2 != 0): return False  # favors even number\n",
    "    while n:\n",
    "        flag = False\n",
    "        for x in (2,3,5):\n",
    "            if n % x == 0:\n",
    "               n = n / x\n",
    "               flag = True\n",
    "               break\n",
    "\n",
    "        if flag: continue\n",
    "        break\n",
    "\n",
    "    if n == 1: return True\n",
    "    return False\n",
    "\n",
    "def checkfft(n, margin = 5):\n",
    "    n = int(n) + margin\n",
    "    while 1:\n",
    "        if is_factor(n): break\n",
    "        else: n += 1\n",
    "    return n"
   ]
  },
  {
   "cell_type": "code",
   "execution_count": null,
   "id": "57e2bc79-7d3d-4ca1-a824-aa24459ca23f",
   "metadata": {
    "tags": []
   },
   "outputs": [],
   "source": [
    "#################################\n",
    "def setup_PBC(boxhalf=0.0, protein_segments=[],solvent_resname='TIP3',ions=[],blade=False):\n",
    "    \"\"\"input: boxhalf [0.0]\n",
    "              solute  []\n",
    "              solvent_resname ['']\n",
    "              ions []\n",
    "              blade [False]\n",
    "    defines the periodic boundary conditions for a cubic volume of boxsize. \n",
    "    Uses: crystal_define_cubic(), crystal.build(), image.setup_residue,\n",
    "    image.setup_segment to construct symmetry operations. \n",
    "\n",
    "    If global variable openmm is true\n",
    "    the image centering is at [boxhalf,boxhalf,boxhalf] otherwise at [0,0,0].\n",
    "    \"\"\"\n",
    "    crystal.define_cubic(boxhalf*2)\n",
    "    crystal.build(boxhalf)\n",
    "\n",
    "    if blade: boxhalf = 0.0 # center at origin for blade\n",
    "    for segment in protein_segments:\n",
    "        image.setup_segment(boxhalf,boxhalf, boxhalf, segment)\n",
    "    if len(solvent_resname)>0: image.setup_residue(boxhalf,boxhalf, boxhalf, solvent_resname)\n",
    "    for ion in ions:\n",
    "        image.setup_residue(boxhalf, boxhalf, boxhalf, ion)\n",
    "    # for systems using centering not at origin, translate coordinates by halfbox\n",
    "    xyz = coor.get_positions()\n",
    "    xyz += boxhalf\n",
    "    coor.set_positions(xyz)\n",
    "    print(f'Coordinates translated by {boxhalf} A in each dimension to be consistent with image centering')\n",
    "\n",
    "    return"
   ]
  },
  {
   "cell_type": "markdown",
   "id": "b6e1164b-8aac-45c1-bd5f-13caf84b311b",
   "metadata": {},
   "source": [
    "## Set-up system - topology and parameter files"
   ]
  },
  {
   "cell_type": "code",
   "execution_count": null,
   "id": "2b89cd24-ebaf-4c7d-aa71-328ae175cc12",
   "metadata": {
    "tags": []
   },
   "outputs": [],
   "source": [
    "# Read in the topology (rtf) and parameter file (prm) for proteins\n",
    "# equivalent to the CHARMM scripting command: read rtf card name toppar/top_all36_prot.rtf\n",
    "read.rtf('../toppar/top_all36_prot.rtf')\n",
    "# equivalent to the CHARMM scripting command: read param card flexible name toppar/par_all36m_prot.prm\n",
    "read.prm('../toppar/par_all36m_prot.prm', flex=True)\n",
    "\n",
    "# stream in the water/ions parameter using the pycharmm.lingo module\n",
    "# equivalent to the CHARMM scripting command: stream toppar/toppar_water_ions.str\n",
    "#pycharmm.lingo.charmm_script('stream ../toppar/toppar_water_ions.str')\n",
    "read.stream('../toppar/toppar_water_ions.str')"
   ]
  },
  {
   "cell_type": "markdown",
   "id": "d5246576-c1bf-4269-8714-8e6eae499196",
   "metadata": {},
   "source": [
    "## Read in psf and coordinates of solvated systems\n",
    "## Find the segment names for the solute (first n-2 segments assumed), solvent (penultimate segment assumed) and ions (last segment)"
   ]
  },
  {
   "cell_type": "code",
   "execution_count": null,
   "id": "86a42fec-fdef-41fd-a6c2-3e26a0600833",
   "metadata": {
    "tags": []
   },
   "outputs": [],
   "source": [
    "# Read the psf and coordinates for the solvated peptide\n",
    "# Read psf card name pdb/adp+wat.psf\n",
    "read.psf_card(f'pdb/{pdbid}+wat.psf')\n",
    "# read coor pdb name pdb/adp+wat_min.pdb\n",
    "read.pdb(f'pdb/{pdbid}+wat_min.pdb',resid=True)"
   ]
  },
  {
   "cell_type": "markdown",
   "id": "019c15f2-dc75-400a-a008-4b7130e4362f",
   "metadata": {},
   "source": [
    "## Set-up box size and periodic boundary conditions using the python function setup_PBC"
   ]
  },
  {
   "cell_type": "code",
   "execution_count": null,
   "id": "397b08e7-e038-44e2-a200-a93fdd24e696",
   "metadata": {
    "tags": []
   },
   "outputs": [],
   "source": [
    "# Now setup periodic boundaries\n",
    "# boxsize\n",
    "stats = coor.stat()\n",
    "xsize = stats['xmax'] - stats['xmin']\n",
    "ysize = stats['ymax'] - stats['ymin']\n",
    "zsize = stats['zmax'] - stats['zmin']\n",
    "boxsize = max(xsize, ysize, zsize)\n",
    "\n",
    "# half box size\n",
    "boxhalf = boxsize / 2.0\n",
    "# Note we could probably do something to extract the information passed to setup_PPC using pyCHARMM functions\n",
    "# but I didn't have the time so I just made some generic thing\n",
    "setup_PBC(boxhalf=boxhalf, protein_segments=['PROA', 'PROB', 'PROC'],\n",
    "          solvent_resname='TIP3',ions=['CLA', 'SOD', 'POT'],blade=False)"
   ]
  },
  {
   "cell_type": "markdown",
   "id": "fc2638d2-6ba8-4aa2-b1ae-680ce2964de0",
   "metadata": {},
   "source": [
    "## In this section we set-up our nonbonded parameters with cutoff schemes, etc.\n",
    "## We illustrate two ways to input non-bonded parameters as well as the use of the pyCHARMM _settings.set_warn_level(wrnlev)_ command to alter the warning levels and reduce the output. \n",
    "## Note we use two different cutoff schemes (vswitch and vfswitch)"
   ]
  },
  {
   "cell_type": "code",
   "execution_count": null,
   "id": "84b7f2d4-d527-41a6-9a8b-4750471b28f8",
   "metadata": {
    "tags": []
   },
   "outputs": [],
   "source": [
    "# Set-up non-bonded parameters\n",
    "# Now specify nonbonded cutoffs for solvated box\n",
    "cutnb = min(boxhalf,12)\n",
    "cutim = cutnb\n",
    "ctofnb = cutnb - 1.0\n",
    "ctonnb = cutnb - 3.0\n",
    "# Determine the appropriate cubic fft grid for this boxsize\n",
    "fft = checkfft(n=np.ceil(boxhalf)*2,margin=0)\n",
    "# Set-up the parameters\n",
    "nb_wPME_vsw = pycharmm.NonBondedScript(cutnb=cutnb, cutim=cutim,\n",
    "                                       ctonnb=ctonnb, ctofnb=ctofnb,\n",
    "                                       cdie=True, eps=1,\n",
    "                                       atom=True, vatom=True,\n",
    "                                       switch=True, vfswitch=False, vswitch=True,\n",
    "                                       inbfrq=-1, imgfrq=-1,\n",
    "                                       ewald=True,pmewald=True,kappa=0.32,\n",
    "                                       fftx=fft,ffty=fft,fftz=fft,order=4)\n",
    "# Let's set the wrnlev to 0 to avoid the large output\n",
    "old_wrnlev = settings.set_warn_level(0)\n",
    "nb_wPME_vsw.run()\n",
    "settings.set_warn_level(old_wrnlev)\n",
    "energy.show()\n",
    "# Let's also set-up a set of nonbonded parameters using vfswitch instead of vswitch\n",
    "nb_wPME_vfsw_dict = {'cutnb':cutnb, \n",
    "                     'cutim':cutim,\n",
    "                     'ctonnb':ctonnb, \n",
    "                     'ctofnb':ctofnb,\n",
    "                     'cdie':True,\n",
    "                     'eps':1,\n",
    "                     'atom':True, 'vatom':True,\n",
    "                     'switch':True, 'vfswitch':True, 'vswitch':False,\n",
    "                     'inbfrq':-1, 'imgfrq':-1,\n",
    "                     'ewald':True,'pmewald':True,'kappa':0.32,\n",
    "                     'fftx':fft,'ffty':fft,'fftz':fft,'order':4}\n",
    "# Let's set the wrnlev to 0 to avoid the large output\n",
    "old_wrnlev = settings.set_warn_level(0)\n",
    "pycharmm.NonBondedScript(**nb_wPME_vfsw_dict).run()\n",
    "settings.set_warn_level(old_wrnlev)\n",
    "energy.show()\n",
    "# Now go back to the original nonbonded parameters\n",
    "# Let's set the wrnlev to 0 to avoid the large output\n",
    "old_wrnlev = settings.set_warn_level(0)\n",
    "nb_wPME_vsw.run()\n",
    "settings.set_warn_level(old_wrnlev)\n",
    "energy.show()"
   ]
  },
  {
   "cell_type": "markdown",
   "id": "7e95a150-df27-411b-9588-33ff4972ca42",
   "metadata": {},
   "source": [
    "## This function will run a short md start and restart using either CHARMM/OpenMM interface or the CHARMM/BLaDE interface in pyCHARMM"
   ]
  },
  {
   "cell_type": "code",
   "execution_count": null,
   "id": "88b1a85f-e0a4-493c-9bba-419f29197853",
   "metadata": {
    "tags": []
   },
   "outputs": [],
   "source": [
    "def run_md(useomm=False,useblade=False,nequil=1000,nsteps=5000,nsavc=100,leap=True,lang=True):\n",
    "    if useomm: append='omm'\n",
    "    elif useblade: append='blade'\n",
    "    dyn.set_fbetas(np.full((psf.get_natom()),1.0,dtype=float))\n",
    "   \n",
    "    res_file = pycharmm.CharmmFile(file_name=f'res/{pdbid}.res', \n",
    "                                   file_unit=2,\n",
    "                                   formatted=True,read_only=False)\n",
    "    lam_file = pycharmm.CharmmFile(file_name=f'res/{pdbid}.lam', \n",
    "                                   file_unit=3,\n",
    "                                   formatted=False,read_only=False)\n",
    "    my_dyn = pycharmm.DynamicsScript(leap=leap, lang=lang, start=True,\n",
    "                                     nstep=nequil, timest=0.002,\n",
    "                                     firstt=298.0, finalt=298.0, tbath=298.0,\n",
    "                                     tstruc=298.0,\n",
    "                                     teminc=0.0, twindh=0.0, twindl=0.0,\n",
    "                                     iunwri=res_file.file_unit,\n",
    "                                     iunlam=lam_file.file_unit,\n",
    "                                     inbfrq=-1, imgfrq=-1,\n",
    "                                     iasors=0, iasvel=1, ichecw=0, iscale=0,\n",
    "                                     iscvel=0,echeck=-1, nsavc=0, nsavv=0, nsavl=0, ntrfrq=0,\n",
    "                                     isvfrq=nsavc,\n",
    "                                     iprfrq=2*nsavc, nprint=nsavc, ihtfrq=0, ieqfrq=0,\n",
    "                                     ilbfrq=0,ihbfrq=0,\n",
    "                                     omm=useomm, blade=useblade)\n",
    "    my_dyn.run()\n",
    "\n",
    "    res_file.close()\n",
    "    lam_file.close()\n",
    "    # open unit 2 write form name res/{}.res\n",
    "    res_file = pycharmm.CharmmFile(file_name=f'res/{pdbid}.res', \n",
    "                                   file_unit=2,\n",
    "                                   formatted=True,read_only=False)\n",
    "    lam_file = pycharmm.CharmmFile(file_name=f'res/{pdbid}.lam', \n",
    "                                   file_unit=3,\n",
    "                                   formatted=False,read_only=False)\n",
    "    # open unit 1 write file name dcd/{}.dcd\n",
    "    dcd_file = pycharmm.CharmmFile(file_name=f'dcd/{pdbid}_{append}.dcd'\n",
    "                                   ,file_unit=1,\n",
    "                                   formatted=False,read_only=False)\n",
    "\n",
    "    my_dyn = pycharmm.DynamicsScript(leap=leap, lang=lang, start=False, restart = True,\n",
    "                                     nstep=nsteps, timest=0.002,\n",
    "                                     firstt=298.0, finalt=298.0, tbath=298.0,\n",
    "                                     tstruc=298.0,\n",
    "                                     teminc=0.0, twindh=0.0, twindl=0.0,\n",
    "                                     iunwri=res_file.file_unit,\n",
    "                                     iunrea=res_file.file_unit,\n",
    "                                     iuncrd=dcd_file.file_unit,\n",
    "                                     iunlam=lam_file.file_unit,\n",
    "                                     inbfrq=-1, imgfrq=-1,\n",
    "                                     iasors=0, iasvel=1, ichecw=0, iscale=0,\n",
    "                                     iscvel=0,echeck=-1, nsavc=nsavc, nsavv=0, nsavl=0, ntrfrq=0,\n",
    "                                     isvfrq=nsavc,\n",
    "                                     iprfrq=2*nsavc, nprint=nsavc, ihtfrq=0, ieqfrq=0,\n",
    "                                     ilbfrq=0,ihbfrq=0,\n",
    "                                     omm=useomm, blade=useblade)\n",
    "    my_dyn.run()\n",
    "\n",
    "    res_file.close()\n",
    "    lam_file.close()\n",
    "    dcd_file.close()\n",
    "    return"
   ]
  },
  {
   "cell_type": "markdown",
   "id": "0184e619-b5f3-4897-8c12-2e4335eadfd0",
   "metadata": {},
   "source": [
    "# Using CHARMM/BLaDE interface through pyCHARMM\n",
    "## In this section we set-up a short dynamics run equilibration and production using the CHARMM/BLaDE gpu accelerated engine in CHARMM (if a gpu isn't present this should be skipped - we use torch functions to check whether gpu is present)."
   ]
  },
  {
   "cell_type": "code",
   "execution_count": null,
   "id": "0426a203-fc61-4ca8-9441-595f65ee41e7",
   "metadata": {},
   "outputs": [],
   "source": [
    "# Set-up short dynamics\n",
    "if not os.path.isdir('res'): os.system('mkdir res')\n",
    "if not os.path.isdir('dcd'): os.system('mkdir dcd')\n",
    "# Check to see if cuda is available to run BLaDE\n",
    "import torch\n",
    "cuda  = torch.cuda.is_available()\n",
    "num_devices = torch.cuda.device_count()\n",
    "usedBLaDe = False\n",
    "if cuda:\n",
    "    print(f'Running CHARMM/BLaDE MD example on computer with {num_devices} CUDA devices')\n",
    "    print(f'Running on device {torch.cuda.current_device()} which is a {torch.cuda.get_device_name(torch.cuda.current_device())}')\n",
    "    run_md(useblade = 'prmc pref 1 iprs 100 prdv 100')\n",
    "    usedBLaDe = True\n",
    "else: print('Example not run, no CUDA devices available')"
   ]
  },
  {
   "cell_type": "markdown",
   "id": "022574f1-c846-444a-9274-19f644c39364",
   "metadata": {},
   "source": [
    "# View your trajectory\n",
    "## Using vmd in your terminal window issue the following command:\n",
    "> *vmd pdb/4pti+wat.psf dcd/4pti_blade.dcd*"
   ]
  },
  {
   "cell_type": "markdown",
   "id": "541ca5d3-f1b2-4992-abf8-fde0ebab9483",
   "metadata": {},
   "source": [
    "# Using CHARMM/OpenMM interface through pyCHARMM\n",
    "## In this section we set-up a short dynamics run equilibration using the CHARMM/OpenMM gpu accelerated engine in CHARMM (if a gpu isn't present this should choose the platform _'cpu'_ and run there."
   ]
  },
  {
   "cell_type": "code",
   "execution_count": null,
   "id": "82649f8a-e980-483c-8642-7427dd245336",
   "metadata": {
    "tags": []
   },
   "outputs": [],
   "source": [
    "# Set-up short dynamics\n",
    "if not os.path.isdir('res'): os.system('mkdir res')\n",
    "if not os.path.isdir('dcd'): os.system('mkdir dcd')\n",
    "# Check to see if cuda is available to run OpenMM\n",
    "import torch\n",
    "cuda  = torch.cuda.is_available()\n",
    "num_devices = torch.cuda.device_count()\n",
    "usedOpenMM = False\n",
    "if cuda and not usedBLaDe:\n",
    "    print(f'Running CHARMM/OpenMM MD example on computer with {num_devices} CUDA devices')\n",
    "    print(f'Running on device {torch.cuda.current_device()} which is a {torch.cuda.get_device_name(torch.cuda.current_device())}')\n",
    "else: print('No CUDA devices available, using either CPU or OpenCL')\n",
    "if not usedBLaDe: \n",
    "    usedOpenMM = True\n",
    "    run_md(useomm = 'gamma 2 prmc pref 1 iprsfrq 100')"
   ]
  },
  {
   "cell_type": "markdown",
   "id": "4a8b5a08-511e-4bdd-a401-02bb4ff0e505",
   "metadata": {},
   "source": [
    "# View your trajectory\n",
    "## Here we use NGLView and mdtraj"
   ]
  },
  {
   "cell_type": "code",
   "execution_count": null,
   "id": "19a5b0c4",
   "metadata": {},
   "outputs": [],
   "source": [
    "import nglview as nv\n",
    "import mdtraj as md\n",
    "view = nv.NGLWidget()\n",
    "if usedBLaDe: trajectory = f'dcd/{pdbid}_blade.dcd'\n",
    "if usedOpenMM: trajectory = f'dcd/{pdbid}_omm.dcd'\n",
    "if (usedBLaDe or usedOpenMM):\n",
    "    traj = md.load(trajectory,top=f'pdb/{pdbid}+wat.psf')\n",
    "    t = nv.adaptor.MDTrajTrajectory(traj)\n",
    "    view = nv.NGLWidget(t)\n",
    "    view.clear_representations()\n",
    "    view.add_representation('ball+stick',selection='protein')\n",
    "    view.add_representation('cartoon',selection='protein',color_scheme='resname')\n",
    "    view.add_representation('licorice',selection='water',opacity=0.4)\n",
    "    view.add_representation('spacefill',selection='CLA',color='green')\n",
    "view"
   ]
  }
 ],
 "metadata": {
  "kernelspec": {
   "display_name": "Python 3 (ipykernel)",
   "language": "python",
   "name": "python3"
  },
  "language_info": {
   "codemirror_mode": {
    "name": "ipython",
    "version": 3
   },
   "file_extension": ".py",
   "mimetype": "text/x-python",
   "name": "python",
   "nbconvert_exporter": "python",
   "pygments_lexer": "ipython3",
   "version": "3.8.16"
  }
 },
 "nbformat": 4,
 "nbformat_minor": 5
}

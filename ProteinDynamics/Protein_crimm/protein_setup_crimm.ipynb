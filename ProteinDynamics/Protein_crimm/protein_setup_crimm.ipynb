{
 "cells": [
  {
   "cell_type": "markdown",
   "id": "4307689e",
   "metadata": {},
   "source": [
    "# Structure Preparation for `CHARMM` or `pyCHARMM` with `crimm`\n",
    "## In this example, we are going to fetch a structure directly from RCSB by PDB ID. Use crimm to build any missing loops, set the protonation state on the protein residues, and load the structure into CHARMM directly.\n",
    "\n",
    "### We will use one of the two pdb ids `4pti` or `5wyo` as examples, as is done in the ProteinDynamics folder. This tutorial will illistrate how the `crimm` interface can be used to run `PropKa` to determine the protonation states of ionizable residues and create the necessary patches as well as identifying disulfide bonds and creating the appropriate patches.\n",
    "\n",
    "### We will use the MMTSB Toolset tool `convpdb.pl` to add solvent and counter ions to each of these two structures.\n",
    "\n",
    "### Following this, we will illustrate `crimm`'s  loop building capabilities using pdb id `7zap`,  a structure with both protein and RNA present but with missing loop regions. `Crimm` will add the missing loop regions and prepare a complete `CHARMM` psf and pdb for simulation."
   ]
  },
  {
   "cell_type": "markdown",
   "id": "5aecfd3d",
   "metadata": {},
   "source": [
    "### Import basic `crimm` and `pyCHARMM` functionality. Note `pyCHARMM` used through the adaptor is given the prefix `pcm_`."
   ]
  },
  {
   "cell_type": "code",
   "execution_count": null,
   "id": "4d04fd61",
   "metadata": {},
   "outputs": [],
   "source": [
    "from crimm.Fetchers import fetch_rcsb\n",
    "from crimm.Modeller import ParameterLoader, TopologyLoader\n",
    "from crimm.Modeller.LoopBuilder import ChainLoopBuilder\n",
    "from crimm.Modeller.TopoFixer import fix_chain\n",
    "from crimm.StructEntities import Model\n",
    "import crimm.Adaptors.pyCHARMMAdaptors as pcm_interface\n",
    "from crimm.Adaptors.PropKaAdaptors import PropKaProtonator\n",
    "\n",
    "from pycharmm.psf import delete_atoms as pcm_del_atoms\n",
    "from pycharmm.psf import get_natom as pcm_get_natom\n",
    "from pycharmm.generate import patch as pcm_patch\n",
    "from pycharmm.settings import set_verbosity as pcm_set_verbosity"
   ]
  },
  {
   "cell_type": "markdown",
   "id": "c0b3a4e9",
   "metadata": {},
   "source": [
    "## Parameters\n",
    "### Specify first system and the patches to use at the `NTER` and `CTER` positions.\n",
    "### We'll do 5wyo first since it has two chains."
   ]
  },
  {
   "cell_type": "code",
   "execution_count": null,
   "id": "d2159bad",
   "metadata": {},
   "outputs": [],
   "source": [
    "pdb_id = '5wyo'\n",
    "prot_first_patch = 'ACE'\n",
    "prot_last_patch = 'CT3'\n",
    "na_first_patch = '5TER'\n",
    "na_last_patch = '3PHO'\n",
    "sd_nstep = 300\n",
    "abnr_nstep = 0\n",
    "charmm_verbosity_level = 0\n",
    "pH = 3.5  # Set pH to low value here since we want to test propKa and protonator"
   ]
  },
  {
   "cell_type": "markdown",
   "id": "fb3e67ed",
   "metadata": {},
   "source": [
    "## Add some basic functionality to enable `pyCHARMM` minimization in `crimm` and to label special CTER and NTER patching."
   ]
  },
  {
   "cell_type": "code",
   "execution_count": null,
   "id": "95f61deb",
   "metadata": {},
   "outputs": [],
   "source": [
    "def minimize_chain(chain, sd_nstep, abnr_nstep):\n",
    "    # load into CHARMM to minimize the structure\n",
    "    if pcm_get_natom() > 0:\n",
    "        pcm_del_atoms()\n",
    "    pcm_interface.load_chain(chain)\n",
    "    pcm_interface.minimize(sd_nstep=sd_nstep, abnr_nstep=abnr_nstep)\n",
    "    # Uodate the coordinate in crimm structure\n",
    "    pcm_interface.sync_coords(chain)\n",
    "\n",
    "def correct_prot_first_patch(chain, default):\n",
    "    # PRO and GLY need special treatment when patched at the N-terminus \n",
    "    first_resname = chain.residues[0].resname\n",
    "    if first_resname == 'PRO':\n",
    "        first_patch = 'PROP'\n",
    "    elif first_resname == 'GLY':\n",
    "        first_patch = 'GLYP'\n",
    "    else:\n",
    "        first_patch = default\n",
    "    return first_patch"
   ]
  },
  {
   "cell_type": "markdown",
   "id": "24af1d6c",
   "metadata": {},
   "source": [
    "## This is a `crimm` function constructed to build missing loops in protein structures"
   ]
  },
  {
   "cell_type": "code",
   "execution_count": null,
   "id": "b1acb2c6",
   "metadata": {},
   "outputs": [],
   "source": [
    "## Separate Chains by Chain Type\n",
    "### First we need to separate the chain types. Although in this example, we do not have RNA chain, but this routine is built to accommodate both types.\n",
    "\n",
    "def build_loops(structure,\n",
    "                prot_first_patch,prot_last_patch,\n",
    "                na_first_patch,na_last_patch,\n",
    "                sd_nstep,abnr_nstep,charmm_verbosity_level):\n",
    "    prot_chains = {}\n",
    "    na_chains = {}\n",
    "    # get the first model's id\n",
    "    model_id = structure.models[0].id\n",
    "    # create a new empty model to store chains of interests\n",
    "    new_model = Model(model_id)\n",
    "    for chain in structure[model_id].chains:\n",
    "        if chain.chain_type == 'Polypeptide(L)':\n",
    "            prot_chains[chain.id] = chain\n",
    "        elif chain.chain_type  in ('Polyribonucleotide', 'Polydeoxyribonucleotide'):\n",
    "            na_chains[chain.id] = chain\n",
    "\n",
    "    ## Generate Topology and Loop Building with crimm First\n",
    "    ### Protein Chains\n",
    "\n",
    "    for chain_id, chain in prot_chains.items():\n",
    "        need_minimization = False\n",
    "        # Missing loop in the chain\n",
    "        if not chain.is_continuous():\n",
    "            loop_builder = ChainLoopBuilder(chain)\n",
    "            # Coordinates of the missing residues will be copied from\n",
    "            # Alphafold structures\n",
    "            # only build the loop not the termini\n",
    "            loop_builder.build_from_alphafold(include_terminal = False)\n",
    "            chain = loop_builder.get_chain()\n",
    "            prot_chains[chain_id] = chain\n",
    "            need_minimization = True\n",
    "        prot_first_patch = correct_prot_first_patch(chain, default = prot_first_patch)\n",
    "        rtf_loader['prot'].generate_chain_topology(\n",
    "            chain,\n",
    "            first_patch=prot_first_patch, \n",
    "            last_patch=prot_last_patch,\n",
    "            # Coerce any modified residue to canonical residue that it is based on\n",
    "            coerce=True\n",
    "        )\n",
    "        param_loader['prot'].fill_ic(rtf_loader['prot'])\n",
    "        param_loader['prot'].apply(chain.topo_elements)\n",
    "        fix_chain(chain)\n",
    "        if need_minimization:\n",
    "            # load into CHARMM to minimize the structure\n",
    "            prev_level = pcm_set_verbosity(charmm_verbosity_level)\n",
    "            minimize_chain(chain, sd_nstep, abnr_nstep)\n",
    "            pcm_set_verbosity(prev_level)\n",
    "        new_model.add(chain)\n",
    "\n",
    "    ## RNA Chains\n",
    "    ### DNA chains are not yet supported but will be implemented soon\n",
    "\n",
    "    for chain_id, chain in na_chains.items():\n",
    "        # Missing loop is very unlikely in nucleotide chains on PDB\n",
    "        # but if it exsits, an error will be raise\n",
    "        if not chain.is_continuous():\n",
    "            raise ValueError(\n",
    "                f'Nucleotide chain {chain.id} is not continuous, '\n",
    "                'topology cannot be generated.'\n",
    "            )\n",
    "        rtf_loader['na'].generate_chain_topology(\n",
    "            chain, \n",
    "            first_patch=na_first_patch,\n",
    "            last_patch=na_last_patch,\n",
    "            coerce=True\n",
    "        )\n",
    "        param_loader['na'].fill_ic(rtf_loader['na'])\n",
    "        param_loader['na'].apply(chain.topo_elements)\n",
    "        fix_chain(chain)\n",
    "        new_model.add(chain)\n",
    "\n",
    "    ## Finally, replace the model with the new model in the structure\n",
    "\n",
    "    new_model.set_connect(structure.models[0].connect_dict)\n",
    "    structure.detach_child(model_id)\n",
    "    structure.add(new_model)\n",
    "    return new_model"
   ]
  },
  {
   "cell_type": "markdown",
   "id": "9e015dd0",
   "metadata": {},
   "source": [
    "## Parameter and Topology Loaders\n",
    "### Choose the relevant `rtf` and `prm` loader for protein and RNA. The respective topology and parameter files will also be streamed into `CHARMM`"
   ]
  },
  {
   "cell_type": "code",
   "execution_count": null,
   "id": "96183a7e",
   "metadata": {},
   "outputs": [],
   "source": [
    "rtf_loader = {\n",
    "    'prot': TopologyLoader('protein'),\n",
    "    'na': TopologyLoader('nucleic')\n",
    "}\n",
    "param_loader = {\n",
    "    'prot': ParameterLoader('protein'),\n",
    "    'na': ParameterLoader('nucleic')\n",
    "}\n",
    "\n",
    "# fill the missing ic table values in the respective rtf\n",
    "for i, (chain_type, cur_rtf) in enumerate(rtf_loader.items()):\n",
    "    cur_param = param_loader[chain_type]\n",
    "    cur_param.fill_ic(cur_rtf)\n",
    "    # load the respective files into CHARMM as well\n",
    "    prev_level = pcm_set_verbosity(0)\n",
    "    pcm_interface.load_topology(cur_rtf, append=bool(i))\n",
    "    pcm_interface.load_parameters(cur_param, append=bool(i))\n",
    "    pcm_set_verbosity(prev_level)"
   ]
  },
  {
   "cell_type": "markdown",
   "id": "42d6419a",
   "metadata": {},
   "source": [
    "## Fetch structure from RCSB and visualize it."
   ]
  },
  {
   "cell_type": "code",
   "execution_count": null,
   "id": "a704afaf",
   "metadata": {},
   "outputs": [],
   "source": [
    "structure = fetch_rcsb(\n",
    "    pdb_id,\n",
    "    include_solvent=False,\n",
    "    # any existing hydrogen will be removed and rebuilt later\n",
    "    include_hydrogens=False,\n",
    "    first_model_only=True\n",
    ")\n",
    "# Show the structure\n",
    "structure"
   ]
  },
  {
   "cell_type": "markdown",
   "id": "827a451d",
   "metadata": {},
   "source": [
    "### As we can see below in the sequence, this structure has no missing loops (they would be shown in red if there were."
   ]
  },
  {
   "cell_type": "code",
   "execution_count": null,
   "id": "9871593c",
   "metadata": {},
   "outputs": [],
   "source": [
    "structure.models[0].chains[0].masked_seq.show()"
   ]
  },
  {
   "cell_type": "markdown",
   "id": "ed7aba4c",
   "metadata": {},
   "source": [
    "## The loops are built, and now it is ready for protonation state calculation."
   ]
  },
  {
   "cell_type": "code",
   "execution_count": null,
   "id": "c3469b21",
   "metadata": {},
   "outputs": [],
   "source": [
    "new_model = build_loops(structure,\n",
    "                prot_first_patch,prot_last_patch,\n",
    "                na_first_patch,na_last_patch,\n",
    "                sd_nstep,abnr_nstep,charmm_verbosity_level)\n",
    "structure"
   ]
  },
  {
   "cell_type": "markdown",
   "id": "59aff2b4",
   "metadata": {},
   "source": [
    "## Get Protonation State from the specified pH Value\n",
    "### Note that the protonator accepts Model level entity not the structure itself"
   ]
  },
  {
   "cell_type": "code",
   "execution_count": null,
   "id": "868b66b2",
   "metadata": {
    "scrolled": false
   },
   "outputs": [],
   "source": [
    "protonator = PropKaProtonator(rtf_loader['prot'], param_loader['prot'], pH = pH)\n",
    "protonator.load_model(new_model)\n",
    "protonator.apply_patches()\n",
    "if pcm_get_natom() > 0:\n",
    "    pcm_del_atoms()\n",
    "for chain in new_model:\n",
    "    if len(protonator.patches[chain.id]) > 0:\n",
    "        built_atoms = fix_chain(chain)\n",
    "    # Also load the chain into CHARMM\n",
    "    pcm_interface.load_chain(chain)"
   ]
  },
  {
   "cell_type": "markdown",
   "id": "e3e9b49d",
   "metadata": {},
   "source": [
    "## These protonation patches are identified but not yet loaded into `CHARMM`"
   ]
  },
  {
   "cell_type": "code",
   "execution_count": null,
   "id": "95ca464e",
   "metadata": {},
   "outputs": [],
   "source": [
    "# Construct list of protonated residues to highlight\n",
    "residues = ''\n",
    "for i,chainid in enumerate(protonator.patches):\n",
    "    for j,resid in enumerate(protonator.patches[chainid]):\n",
    "        if i==0 and j==0: \n",
    "            residues += f'{resid}:{chainid} '\n",
    "        else: \n",
    "            residues += f'or {resid}:{chainid} '"
   ]
  },
  {
   "cell_type": "markdown",
   "id": "991951dd",
   "metadata": {},
   "source": [
    "## List the computed $pK_A$ values for titratable residues"
   ]
  },
  {
   "cell_type": "code",
   "execution_count": null,
   "id": "bb6af968",
   "metadata": {},
   "outputs": [],
   "source": [
    "df = protonator.to_dataframe()\n",
    "for i in df.index:\n",
    "    if i == 0:\n",
    "        titratable = f'{df.resseq.iloc[i]}:{df.chain_id.iloc[i]}'\n",
    "    else:\n",
    "        titratable += f' or {df.resseq.iloc[i]}:{df.chain_id.iloc[i]}'\n",
    "df"
   ]
  },
  {
   "cell_type": "markdown",
   "id": "d5383f52",
   "metadata": {},
   "source": [
    "## List of residues being patched"
   ]
  },
  {
   "cell_type": "code",
   "execution_count": null,
   "id": "6b572662",
   "metadata": {},
   "outputs": [],
   "source": [
    "# Residues being protonated(patched)\n",
    "import pandas as pd\n",
    "pd.DataFrame.from_dict(protonator.patches).fillna('-')"
   ]
  },
  {
   "cell_type": "markdown",
   "id": "78d01e7b",
   "metadata": {},
   "source": [
    "## Visualize the structure\n",
    "> - <h3>Titratable residues are shown as licorice</h3>\n",
    "> - <h3>Protonation-patched residues are shown as vdW surfaces</h3>"
   ]
  },
  {
   "cell_type": "code",
   "execution_count": null,
   "id": "24db6504",
   "metadata": {},
   "outputs": [],
   "source": [
    "from crimm.Visualization import View"
   ]
  },
  {
   "cell_type": "code",
   "execution_count": null,
   "id": "cc713b29",
   "metadata": {},
   "outputs": [],
   "source": [
    "view = View()\n",
    "view.load_entity(new_model)\n",
    "view.add_representation('licorice',selection=titratable,component=0)\n",
    "view.add_representation('surface',surfaceType='vws',selection=residues,opacity=0.4,color='lightblue',component=0)\n",
    "view.add_representation('licorice',selection=titratable,component=1)\n",
    "view.add_representation('surface',surfaceType='vws',selection=residues,opacity=0.4,color='lightgreen',component=1)\n",
    "view"
   ]
  },
  {
   "cell_type": "markdown",
   "id": "51b93ff2",
   "metadata": {},
   "source": [
    "## Update `CHARMM` Residues with `pyCHARMM` patch Command"
   ]
  },
  {
   "cell_type": "code",
   "execution_count": null,
   "id": "a2ec919e",
   "metadata": {},
   "outputs": [],
   "source": [
    "for chain_id, patch_dict in protonator.patches.items():\n",
    "    for resid, patch_name in patch_dict.items():\n",
    "        pcm_patch(patch_name, f'PRO{chain_id} {resid}')"
   ]
  },
  {
   "cell_type": "markdown",
   "id": "73dc5153",
   "metadata": {},
   "source": [
    "## Check the generated bonds, angle, dihedrals, etc. They should match between `CHARMM` and `crimm`"
   ]
  },
  {
   "cell_type": "code",
   "execution_count": null,
   "id": "c90356d9",
   "metadata": {},
   "outputs": [],
   "source": [
    "new_model.chains[0].topo_elements"
   ]
  },
  {
   "cell_type": "markdown",
   "id": "61f79570",
   "metadata": {},
   "source": [
    "## Patch Disulfide Bond\n",
    "### If any disulfide bond exists in the structure, we will patch them in the `CHARMM` structure. However, disulfide bonds have not been fully implemented in `crimm`."
   ]
  },
  {
   "cell_type": "code",
   "execution_count": null,
   "id": "3c6aaac3",
   "metadata": {},
   "outputs": [],
   "source": [
    "if 'disulf' in structure.models[0].connect_dict:\n",
    "    for res1, res2 in structure.models[0].connect_dict['disulf']:\n",
    "        seg1, seg2 = res1['chain'], res2['chain']\n",
    "        seq1, seq2 = res1['resseq'], res2['resseq']\n",
    "        patch_arg = f'PRO{seg1} {seq1} PRO{seg2} {seq2}'\n",
    "        print('DISU', patch_arg)\n",
    "        pcm_patch('DISU', patch_arg)"
   ]
  },
  {
   "cell_type": "markdown",
   "id": "424eb7c6",
   "metadata": {},
   "source": [
    "## Finally, save the structure as PDB and PSF files"
   ]
  },
  {
   "cell_type": "code",
   "execution_count": null,
   "id": "da1c9382",
   "metadata": {},
   "outputs": [],
   "source": [
    "from pycharmm import write\n",
    "from pycharmm import lingo\n",
    "import os\n",
    "lingo.charmm_script('print coor select .not. initialized end')\n",
    "lingo.charmm_script('hbuild')\n",
    "lingo.charmm_script('print coor select .not. initialized end')\n",
    "if not os.path.isdir('pdb'): os.system('mkdir pdb')\n",
    "write.coor_pdb(f'pdb/{pdb_id}.pdb')\n",
    "write.psf_card(f'pdb/{pdb_id}.psf')"
   ]
  },
  {
   "cell_type": "markdown",
   "id": "ec52015a",
   "metadata": {},
   "source": [
    "# Solvate the protein in TIP3P water\n",
    "## In the following we will use the MMTSB toolset to solvate the blocked alanine residue in a cubic box of TIP3P water using the convpdb.pl commands noted below."
   ]
  },
  {
   "cell_type": "code",
   "execution_count": null,
   "id": "bb1fbeba",
   "metadata": {},
   "outputs": [],
   "source": [
    "def get_assigned_segid(file=None):\n",
    "    # read the pdb to get the assigned segid for each chain\n",
    "    fpdb = open(file,'r')\n",
    "    for l in fpdb:\n",
    "        if l.split()[0] == 'ATOM':\n",
    "            segid=l.strip().split()[-1]\n",
    "            break\n",
    "    fpdb.close()\n",
    "    return segid\n",
    "\n",
    "def solvate_and_addions(pdbid=None):\n",
    "    import numpy as np\n",
    "    import os\n",
    "    import pycharmm.psf as psf\n",
    "\n",
    "    # find the overall charge so we can add neutralizing ions\n",
    "    q = psf.get_charges()\n",
    "    Ntot = round((np.sum(q)))\n",
    "    if Ntot > 0: ion_type = 'CLA'\n",
    "    if Ntot < 0: ion_type = 'SOD'\n",
    "    ions = '-ions {}:{}'.format(ion_type,np.abs(Ntot))\n",
    "    if np.abs(Ntot) < 1e-2: ions = ''\n",
    "    print(f'Number of ions {np.abs(Ntot)} of type {ion_type}')\n",
    "    solvate_command = 'convpdb.pl -solvate -cutoff 10 {} -cubic -out charmm22 pdb/{}.pdb > pdb/w.pdb;'\\\n",
    "        .format(ions,pdbid)\n",
    "    solvate_command +='convpdb.pl -segnames -nsel TIP3 pdb/w.pdb | '\n",
    "    solvate_command +=f'sed \"s/WT0[1,2,3,4,5]/WT00/g\" > pdb/{pdbid}_wt00.pdb;'\n",
    "    solvate_command +='convpdb.pl -segnames -nsel ion pdb/w.pdb > pdb/ions.pdb'\n",
    "    # run the command as a system subprocess\n",
    "    os.system(solvate_command)\n",
    "    # replace HETATM by ATOM in ions\n",
    "    fpdb = open('pdb/ions.pdb','r')\n",
    "    opdb = open(f'pdb/{pdbid}_ions.pdb','w')\n",
    "    for l in fpdb:\n",
    "        print(l.strip().replace('HETATM','ATOM  '),file=opdb)\n",
    "    fpdb.close()\n",
    "    opdb.close()\n",
    "    # clean-up non-specific files\n",
    "    os.system('rm pdb/ions.pdb')\n",
    "    print('Returning')\n",
    "    return ion_type, ions"
   ]
  },
  {
   "cell_type": "code",
   "execution_count": null,
   "id": "ec4d9334",
   "metadata": {
    "scrolled": true
   },
   "outputs": [],
   "source": [
    "ion_type, ions = solvate_and_addions(pdbid=pdb_id)"
   ]
  },
  {
   "cell_type": "code",
   "execution_count": null,
   "id": "f00a6e2f",
   "metadata": {
    "scrolled": true
   },
   "outputs": [],
   "source": [
    "print(ion_type)"
   ]
  },
  {
   "cell_type": "code",
   "execution_count": null,
   "id": "76b654a0",
   "metadata": {},
   "outputs": [],
   "source": [
    "def generate_water_ions(pdbid=None, ions=None):\n",
    "    '''Generate water segment and minimize the system, protein + solvent + ions, finally save the psf and coordinates\n",
    "    Note that in \"conditioning\" the system I first fix the protein atoms and then minimize the water. \n",
    "    I am using the steepest descents algorithm because it works best for large systems and/or when you \n",
    "    may have bad contacts.\n",
    "\n",
    "    Input:    pdbid string\n",
    "              ions string\n",
    "\n",
    "    Output:   water_segment, ion_segment\n",
    "    '''\n",
    "    from pycharmm import read\n",
    "    from pycharmm import generate as gen\n",
    "    from pycharmm import settings\n",
    "    \n",
    "    read.rtf('../toppar/top_all36_prot.rtf')\n",
    "    read.prm('../toppar/par_all36m_prot.prm', flex=True)\n",
    "\n",
    "    read.stream('../toppar/toppar_water_ions.str')\n",
    "    # 1) **build the water and ion segments**\n",
    "    water_segment = get_assigned_segid(file=f'pdb/{pdbid}_wt00.pdb')\n",
    "    # Let's set the wrnlev to 0 to avoid the large output\n",
    "    old_wrnlev = settings.set_warn_level(0)\n",
    "    read.sequence_pdb(f'pdb/{pdbid}_wt00.pdb')\n",
    "    # Now reset back to default wrnlev\n",
    "    settings.set_warn_level(old_wrnlev)\n",
    "    # Another example of the generate command\n",
    "    # generate wt00 noangle nodihedral\n",
    "    gen.new_segment(water_segment, angle=False, dihedral=False)\n",
    "\n",
    "    # read coor pdb name pdb/pdbid_wt00.pdb resid\n",
    "    read.pdb(f'pdb/{pdbid}_wt00.pdb', resid=True)\n",
    "\n",
    "    # Here is an alternative means of reading a sequence\n",
    "    # read sequ pdb name pdb/{}_ions.pdb\n",
    "    # get ion sequence name\n",
    "    ion_segment = get_assigned_segid(file=f'pdb/{pdbid}_ions.pdb'.format(pdbid))\n",
    "    read.sequence_pdb(f'pdb/{pdbid}_ions.pdb')\n",
    "\n",
    "    # Another example of the generate command\n",
    "    # generate wt00 noangle nodihedral\n",
    "    gen.new_segment(ion_segment, angle=False, dihedral=False)\n",
    "\n",
    "    # read coor pdb name pdb/adp.pdb resid\n",
    "    read.pdb(f'pdb/{pdbid}_ions.pdb', resid=True)\n",
    "\n",
    "    return (water_segment,ion_segment)"
   ]
  },
  {
   "cell_type": "code",
   "execution_count": null,
   "id": "2645ca50",
   "metadata": {
    "scrolled": false
   },
   "outputs": [],
   "source": [
    "water_segment, ion_segment = generate_water_ions(pdbid=pdb_id,ions=ions)\n",
    "print(water_segment,ion_segment)"
   ]
  },
  {
   "cell_type": "code",
   "execution_count": null,
   "id": "7bedd7a6",
   "metadata": {},
   "outputs": [],
   "source": [
    "def minimize_periodic(pdbid=None):\n",
    "    '''\n",
    "    2) **Figure out the boxsize**\n",
    "    3) **add periodic boundary conditions**\n",
    "    4) **minimize**\n",
    "    5) **write psf and final minimized coordinates, ready for simulations**\n",
    "\n",
    "    Input: pdbid   string\n",
    "    '''\n",
    "    import pycharmm\n",
    "    import pycharmm.energy as energy\n",
    "    import pycharmm.nbonds as nbonds\n",
    "    import pycharmm.minimize as minimize\n",
    "    import pycharmm.crystal as crystal\n",
    "    import pycharmm.image as image\n",
    "    import pycharmm.psf as psf\n",
    "    import pycharmm.read as read\n",
    "    import pycharmm.write as write\n",
    "    import pycharmm.cons_fix as cons_fix\n",
    "    import pycharmm.coor as coor\n",
    "    import pycharmm.select as select\n",
    "    \n",
    "    stats = coor.stat()\n",
    "    # boxsize\n",
    "    xsize = stats['xmax'] - stats['xmin']\n",
    "    ysize = stats['ymax'] - stats['ymin']\n",
    "    zsize = stats['zmax'] - stats['zmin']\n",
    "    boxsize = max(xsize, ysize, zsize)\n",
    "\n",
    "    # half box size\n",
    "    boxhalf = boxsize / 2.0\n",
    "\n",
    "    # CHARMM scripting: crystal define cubic @boxsize @boxsize @boxsize 90 90 90\n",
    "    crystal.define_cubic(boxsize)\n",
    "    # CHARMM scripting: crystal build cutoff @boxhalf noper 0\n",
    "    crystal.build(boxhalf)\n",
    "\n",
    "    # Turn on image centering - bysegment for protein, by residue for solvent and ions\n",
    "    segids = []\n",
    "    for segid in psf.get_segid():\n",
    "        if segid not in [water_segment,ion_segment]:\n",
    "            segids.append(segid)\n",
    "            image.setup_segment(0.0, 0.0, 0.0, segid)\n",
    "    image.setup_residue(0.0, 0.0, 0.0, 'TIP3')\n",
    "    image.setup_residue(0.0, 0.0, 0.0, ion_type)\n",
    "\n",
    "    # Now specify nonbonded cutoffs for solvated box\n",
    "    cutnb = min(boxhalf,12)\n",
    "    cutim = cutnb\n",
    "    ctofnb = cutnb - 1.0\n",
    "    ctonnb = cutnb - 3.0\n",
    "\n",
    "    # Another nbonds example\n",
    "    # CHARMM scripting: nbonds cutnb @cutnb cutim @cutim ctofnb @ctofnb ctonnb @ctonnb -\n",
    "    #        inbfrq -1 imgfrq -1\n",
    "    pycharmm.NonBondedScript(\n",
    "        cutnb=cutnb, cutim=cutim, ctonnb=ctonnb, ctofnb=ctofnb,\n",
    "        eps=1.0,\n",
    "        cdie=True,\n",
    "        atom=True, vatom=True,\n",
    "        fswitch=True, vfswitch=True,\n",
    "        inbfrq=-1, imgfrq=-1).run()\n",
    "\n",
    "    # Fix the peptide and minimize the solvent to \"fit\"\n",
    "    # CHARMM scripting: cons fix select segid adp end\n",
    "    cons_fix.setup(pycharmm.SelectAtoms(seg_id=segids))\n",
    "\n",
    "    # Minimize the solvent positions with periodic boundary conditions using steepest descents\n",
    "    # CHARMM scripting: mini sd nstep 200 tole 1e-3 tolgrd 1e-3\n",
    "    minimize.run_sd(nstep=200, tolenr=1e-3, tolgrd=1e-3)\n",
    "\n",
    "    # Turn off fixed atoms\n",
    "    # CHARMM scripting: cons fix select none end\n",
    "    cons_fix.turn_off()\n",
    "\n",
    "    # Write the psf and coordinates for the solvated peptide\n",
    "    # write psf card name pdb/adp+wat.psf\n",
    "    write.psf_card(f'pdb/{pdbid}+wat.psf')\n",
    "    # write coor pdb name pdb/adp+wat_min.pdb\n",
    "    write.coor_pdb(f'pdb/{pdbid}+wat_min.pdb')\n",
    "    return"
   ]
  },
  {
   "cell_type": "code",
   "execution_count": null,
   "id": "4d4ba6c1",
   "metadata": {},
   "outputs": [],
   "source": [
    "minimize_periodic(pdbid=pdb_id)"
   ]
  },
  {
   "cell_type": "markdown",
   "id": "f10e84c4-87a2-43a9-b2a6-dbf4c250ae4c",
   "metadata": {},
   "source": [
    "## Finally, let's visualize the system and see what things look like!"
   ]
  },
  {
   "cell_type": "code",
   "execution_count": null,
   "id": "8906fee5",
   "metadata": {},
   "outputs": [],
   "source": [
    "import nglview as nv\n",
    "solvated = nv.NGLWidget()\n",
    "solvated.add_component(f'pdb/{pdb_id}+wat_min.pdb')\n",
    "solvated.clear_representations()\n",
    "solvated.add_representation('cartoon',selection='protein', color_scheme='resname')\n",
    "solvated.add_representation('surface',surfaceType='ms',opacity=0.5,selection='protein', color='lightblue')\n",
    "solvated.add_representation('spacefill',selection='CLA', color='green')\n",
    "solvated.add_representation('spacefill',selection='SOD or POT', color='red')\n",
    "solvated.add_representation('licorice',selection='water',opacity=0.6)\n",
    "solvated.center()\n",
    "solvated"
   ]
  },
  {
   "cell_type": "code",
   "execution_count": null,
   "id": "3ebf1eaf",
   "metadata": {},
   "outputs": [],
   "source": []
  }
 ],
 "metadata": {
  "kernelspec": {
   "display_name": "Python 3 (ipykernel)",
   "language": "python",
   "name": "python3"
  },
  "language_info": {
   "codemirror_mode": {
    "name": "ipython",
    "version": 3
   },
   "file_extension": ".py",
   "mimetype": "text/x-python",
   "name": "python",
   "nbconvert_exporter": "python",
   "pygments_lexer": "ipython3",
   "version": "3.11.0"
  }
 },
 "nbformat": 4,
 "nbformat_minor": 5
}

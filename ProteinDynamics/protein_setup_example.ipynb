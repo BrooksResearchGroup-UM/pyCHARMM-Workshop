{
 "cells": [
  {
   "cell_type": "markdown",
   "id": "9c289541",
   "metadata": {
    "tags": []
   },
   "source": [
    "# Protein preparation and solvation pyCHARMM example.\n",
    "## Retreive protein molecule from RCSB (PDB)\n",
    "## Build protein molecule (may be multiple chains) minimize, visualize\n",
    "## Solvate in a box of water using MMTSB Toolset\n",
    "## Proteins already available for this tutorial are PTI (pancreatic trypsin inhibitor), PDBIDs: 4pti and 6pti and HDEA, a bacterial pH stress protein, that is a dimer (two identical chains), PDBID: 5wyo.\n",
    "\n",
    "### Note we use some specific integration of processing to retreive information about segnames used by MMTSB in spltting files and preparing pdb, searching for SSBONDs, determining the number of chains. While these work in the test cases here, they may not work for all proteins in the pdb.\n",
    "\n",
    "### Note that the environment variable CHARMM_LIB_DIR must be defined. (Note: CHARMM_LIB_DIR should point to `<charmm_install_path>/lib`)\n",
    "\n",
    "# pyCHARMM header files plus some of the necessary functionality"
   ]
  },
  {
   "cell_type": "code",
   "execution_count": null,
   "id": "8451b66f",
   "metadata": {
    "tags": []
   },
   "outputs": [],
   "source": [
    "# This script provides a simple example of building a\n",
    "# protein and minimizing the structure and then\n",
    "# calculating the energy to illustrate functionality to be\n",
    "# exposed in pyCHARMM.\n",
    "#  copyright C.L. Brooks III, June 1, 2022\n",
    "\n",
    "# These are general python modules needed for this  tutorial\n",
    "import os\n",
    "import sys\n",
    "import numpy as np\n",
    "\n",
    "# These are a subset of the pycharmm modules that were installed when\n",
    "# pycharmm was installed in your python environment\n",
    "import pycharmm\n",
    "import pycharmm.generate as gen\n",
    "import pycharmm.ic as ic\n",
    "import pycharmm.coor as coor\n",
    "import pycharmm.energy as energy\n",
    "import pycharmm.dynamics as dyn\n",
    "import pycharmm.nbonds as nbonds\n",
    "import pycharmm.minimize as minimize\n",
    "import pycharmm.crystal as crystal\n",
    "import pycharmm.image as image\n",
    "import pycharmm.psf as psf\n",
    "import pycharmm.read as read\n",
    "import pycharmm.write as write\n",
    "import pycharmm.settings as settings\n",
    "import pycharmm.cons_harm as cons_harm\n",
    "import pycharmm.cons_fix as cons_fix\n",
    "import pycharmm.select as select\n",
    "import pycharmm.shake as shake\n",
    "\n",
    "from pycharmm.lib import charmm as libcharmm\n"
   ]
  },
  {
   "cell_type": "markdown",
   "id": "38ea1f69-a173-4910-8325-30c10c007846",
   "metadata": {},
   "source": [
    "## Since this is a protein, let's run mmtsb.pl -info to check how many chains, then gather info on SSBONDs and use convpdb.pl to get separate pdb files for each chain and finally display the structure in pymol, including cystein residues."
   ]
  },
  {
   "cell_type": "code",
   "execution_count": null,
   "id": "fead2b3c-9f4f-4100-b0ab-6aba2814e7e6",
   "metadata": {
    "tags": []
   },
   "outputs": [],
   "source": [
    "def get_assigned_segid(file=None):\n",
    "    # read the pdb to get the assigned segid for each chain\n",
    "    fpdb = open(file,'r')\n",
    "    for l in fpdb:\n",
    "        if l.split()[0] == 'ATOM':\n",
    "            segid=l.strip().split()[-1]\n",
    "            break\n",
    "    fpdb.close()\n",
    "    return segid\n",
    "\n",
    "pdbid = '4pti'  # bovine pancreatic trypsin inhibitor - an x-ray structuture\n",
    "#pdbid = '6pti'  # bovine pancreatic trypsin inhibitor - an x-ray structuture\n",
    "#pdbid = '5wyo'  # HDEA a dimeric (two chain) protein - an NMR structure\n",
    "# Check to see whether pdb directory needed below exists, if not, create it.\n",
    "if not os.path.isdir('pdb'): os.system('mkdir pdb')\n",
    "# Fetch the file from RCSB\n",
    "!wget https://files.rcsb.org/download/'{pdbid}'.pdb -O pdb/'{pdbid}'.pdb\n",
    "os.system(f'convpdb.pl -info pdb/{pdbid}.pdb > pdb/info')\n",
    "os.system(f'grep SSBOND pdb/{pdbid}.pdb >> pdb/info')\n",
    "fr = open('pdb/info', 'r')\n",
    "chains = []\n",
    "segids = []\n",
    "disu = {}\n",
    "for l in fr:\n",
    "    if 'chains total' in l:\n",
    "        nchains = l.split()[0]\n",
    "    if l.split()[0]=='==':\n",
    "        chains.append(l.split()[2])\n",
    "    if l.split()[0]=='SSBOND':\n",
    "        num = l.split()[1]\n",
    "        res1 = l.split()[2]\n",
    "        ch1 = l.split()[3]\n",
    "        rn1 = l.split()[4]\n",
    "        res2 = l.split()[5]\n",
    "        ch2 = l.split()[6]\n",
    "        rn2 = l.split()[7]\n",
    "        disu[num] ={'residues':[res1,res2],\n",
    "                    'chains':[ch1,ch2],\n",
    "                    'resnums':[rn1,rn2]}\n",
    "fr.close()\n",
    "# Let's look at what was produced in the info file that we parsed\n",
    "!cat info\n",
    "os.system('rm pdb/info') # clean-up\n",
    "for chain in chains:\n",
    "    # 5wyo is an NMR structure w/ multiple models, we can probably deduce that from the pdb automatically, but here\n",
    "    # we just do it by hand, pick the first model.\n",
    "    if pdbid == '5wyo': \n",
    "        os.system(f'convpdb.pl -out charmm22 -nsel {chain}: -model 1 -segnames pdb/{pdbid}.pdb > pdb/{pdbid}_{chain.lower()}.pdb') # Note .lower() to fix filenames\n",
    "    else: \n",
    "        os.system(f'convpdb.pl -out charmm22 -nsel {\"protein\"} -segnames pdb/{pdbid}.pdb > pdb/{pdbid}_{chain.lower()}.pdb')  # Note .lower() to fix filenames\n",
    "    segids.append(get_assigned_segid(file=f'pdb/{pdbid}_{chain.lower()}.pdb'))"
   ]
  },
  {
   "cell_type": "markdown",
   "id": "7a49e1d7",
   "metadata": {
    "tags": []
   },
   "source": [
    "##  Read in the topology and parameter files\n",
    "### The topology file contains the information pertinent to building molecular systems, either as independent molecules or as \"residues\" linked together to form more complex structures, i.e., proteins and nucleic acids. The parameter file contains the parameters that provide the information for the force field based calculations. CHARMM has topology and parameter files that are non-overlapping representations of different \"regions\" of chemical space, e.g., proteins (\"_prot\"), nucleic acids (\"_na\"), ethers, lipids, small drug-like molecules (\"_cgenff\"), etc. Here we will utilize the protein, water and ion topology and parameter files. These files are required to \"generate\" (see below) a psf that is necessary preceeding any molecular mechanics calculation."
   ]
  },
  {
   "cell_type": "code",
   "execution_count": null,
   "id": "19b56530",
   "metadata": {
    "tags": []
   },
   "outputs": [],
   "source": [
    "# Read in the topology (rtf) and parameter file (prm) for proteins\n",
    "# equivalent to the CHARMM scripting command: read rtf card name toppar/top_all36_prot.rtf\n",
    "read.rtf('../toppar/top_all36_prot.rtf')\n",
    "# equivalent to the CHARMM scripting command: read param card flexible name toppar/par_all36m_prot.prm\n",
    "read.prm('../toppar/par_all36m_prot.prm', flex=True)\n",
    "\n",
    "# stream in the water/ions parameter using the pycharmm.lingo module\n",
    "# equivalent to the CHARMM scripting command: stream toppar/toppar_water_ions.str\n",
    "read.stream('../toppar/toppar_water_ions.str')\n",
    "#pycharmm.lingo.charmm_script('stream toppar/toppar_water_ions.str')\n",
    "# end toppar/toppar_water_ions.str\n"
   ]
  },
  {
   "cell_type": "markdown",
   "id": "fc74801d",
   "metadata": {},
   "source": [
    "## Specify the sequence of residues, generate them and build them.\n",
    "### To do this we need to input the sequence of \"residues\" we wish to do calculations on, generate the particlar sequence with any blocking groups needed, here we will terminate the sequence with an acetyl N-terminal \"patch\" and an N-methyl amide C-terminal \"patch\". Note we will use the segids just collected to construct the \"segment\" of structure for generation of the psf data structures in CHARMM we will setup the ic (internal coordinate) tables that will allow us to build the missing atoms in the structure from the known bond distances, angles and dihedrals."
   ]
  },
  {
   "cell_type": "code",
   "execution_count": null,
   "id": "0e282976",
   "metadata": {
    "tags": []
   },
   "outputs": [],
   "source": [
    "# Loop over the segments identified in the pdb files\n",
    "for ichain,segid in enumerate(segids):\n",
    "    # read in the sequence of the protein to be generated\n",
    "    # only useful for the same residue\n",
    "    # equivalent to the CHARMM scripting command:\n",
    "    # read sequ pdb name pdb/{}_{}.pdb\n",
    "    read.sequence_pdb(f'pdb/{pdbid}_{chains[ichain].lower()}.pdb') # Note .lower() to fix filenames\n",
    "\n",
    "    # equivalent to the CHARMM scripting command: generate ADP first ACE last CT3 setup\n",
    "    gen.new_segment(seg_name=segid, first_patch='ACE', last_patch='CT3', setup_ic=True)\n",
    "    # equivalent to read coor pdb name pdb/{}_{}.pdb resid\n",
    "    read.pdb(f'pdb/{pdbid}_{chains[ichain].lower()}.pdb',resid=True) # Note .lower() to fix filenames\n",
    "    # equivalent to the CHARMM scripting command: ic param\n",
    "    ic.prm_fill(replace_all=False)\n",
    "    # equivalent to the CHARMM scripting command: ic build\n",
    "    ic.build()\n",
    "# add disulfide bonds in present\n",
    "# note, we do this after we generate the sequences since there may be inter-chain disulfides\n",
    "if len(disu.keys())>0:\n",
    "    for ssbond in disu.keys():\n",
    "        #pycharmm.lingo.charmm_script('patch disu pro{} {} pro{} {}'\\\n",
    "        #                             .format(disu[ssbond]['chains'][0],disu[ssbond]['resnums'][0],\n",
    "        #                                     disu[ssbond]['chains'][1],disu[ssbond]['resnums'][1]))\n",
    "        gen.patch('disu',\n",
    "                  f'pro{disu[ssbond][\"chains\"][0]} {disu[ssbond][\"resnums\"][0]} pro{disu[ssbond][\"chains\"][1]} {disu[ssbond][\"resnums\"][1]}',\n",
    "                  warn=True)\n",
    "# The coor orie command is useful to expose since it allows one to\n",
    "# orient the system in preparation for other calculations\n",
    "# equivalent to the CHARMM scripting command: coor orient\n",
    "coor.orient(by_rms=False,by_mass=False,by_noro=False)\n",
    "# equivalent to the CHARMM scripting command: print coor\n",
    "coor.show()\n",
    "# If pdb directory doesn't already exist make it here.\n",
    "if not os.path.isdir('pdb'): os.system('mkdir pdb')\n",
    "# equivalent to the CHARMM scripting command: write coor pdb name pdb/pdbid_initial.pdb\n",
    "write.coor_pdb(f'pdb/{pdbid}_initial.pdb')"
   ]
  },
  {
   "cell_type": "markdown",
   "id": "ea858892-289e-400e-9090-6668a3f45d98",
   "metadata": {},
   "source": [
    "## Visualize our initial structure to make sure it looks reasonable."
   ]
  },
  {
   "cell_type": "code",
   "execution_count": null,
   "id": "b433e6c9",
   "metadata": {},
   "outputs": [],
   "source": [
    "import nglview as nv\n",
    "view = nv.NGLWidget()\n",
    "view.add_component(f'pdb/{pdbid}_initial.pdb')\n",
    "view.clear_representations()\n",
    "view.add_representation('cartoon',selection='not (water or ion)',color_scheme='resname')\n",
    "atom_pair = []\n",
    "if len(disu.keys())>0:\n",
    "    view.add_representation('licorice',selection='CYS')\n",
    "view.center()\n",
    "view"
   ]
  },
  {
   "cell_type": "markdown",
   "id": "15544032",
   "metadata": {},
   "source": [
    "## Now lets minimize the structure and view the minimized structure \n",
    "### To do this we will first specify the non-bonded parameters we want to use for these molecular mechanics calculations. Note we are spcifying that we will use the fswitch and vfswitch force-switching functions to truncate the electrostatic and vdW interactions. The switching will occur between ctonnb and ctofnb. We will build a non-bonded list to process pairs of interacting atoms using a cutoff radius of cutnb. We will use atom-based electrostatic (atom) and vdW (vatom) non-bonded list generaton schemes and will repreent the Coulomb electrostatic interactions with a constant dielectric constant (versus an r-dependent dielectric constant) of 1 (cdie=1.0). There are multiple ways of inputting the nonbonded parameters, here we create a python object my_nbonds which has a .run() attribute. \n",
    "### We set harmonic restraints on the CA atoms and allow the backbone to relax.\n",
    "### Next we will use CHARMM's sd (steepest descents) minimizer to minimize the structure we just built using the non-bonded methods we just specified. The minimizer is set-up to run 300 steps of minimization unless the energy change falls below 0.001 or the gradient of the energy falls below 0.001, in which case minimization will stop. The purpose is to just get any \"vdW bumps\" cleaned-up and bond lengths/angles adjusted to our potential function. Finally we print out the final energy."
   ]
  },
  {
   "cell_type": "code",
   "execution_count": null,
   "id": "8ecffd83",
   "metadata": {
    "tags": []
   },
   "outputs": [],
   "source": [
    "# Specify nonbonded python object called my_nbonds - this just sets it up\n",
    "# equivalant CHARMM scripting command: nbonds cutnb 18 ctonnb 13 ctofnb 17 cdie eps 1 atom vatom fswitch vfswitch\n",
    "my_nbonds = pycharmm.NonBondedScript(\n",
    "    cutnb=18.0, ctonnb=13.0, ctofnb=17.0,\n",
    "    eps=1.0,\n",
    "    cdie=True,\n",
    "    atom=True, vatom=True,\n",
    "    fswitch=True, vfswitch=True)\n",
    "\n",
    "# Implement these non-bonded parameters by \"running\" them.\n",
    "my_nbonds.run()\n",
    "# equivalent to: cons harm force 20 select type ca end\n",
    "cons_harm.setup_absolute(selection=pycharmm.SelectAtoms(atom_type='CA'),force_constant=20)\n",
    "# equivalent CHARMM scripting command: minimize abnr nstep 1000 tole 1e-3 tolgr 1e-3\n",
    "minimize.run_sd(nstep=300, tolenr=1e-3, tolgrd=1e-3)\n",
    "# equivalent CHARMM scripting command: energy\n",
    "energy.show()\n",
    "# equivalent to the CHARMM scripting command: write coor pdb name pdb/initial.pdb\n",
    "write.coor_pdb(f'pdb/{pdbid}_minimized.pdb'.format(pdbid))\n",
    "write.psf_card(f'pdb/{pdbid}.psf')"
   ]
  },
  {
   "cell_type": "markdown",
   "id": "ec3ca387-db61-44f7-a52d-abb7873d9f8e",
   "metadata": {},
   "source": [
    "## Visually compare the minimized and initial structure? Do they look different?"
   ]
  },
  {
   "cell_type": "code",
   "execution_count": null,
   "id": "345b5e93",
   "metadata": {
    "tags": []
   },
   "outputs": [],
   "source": [
    "view_1 = nv.NGLWidget()\n",
    "view_1.add_component(f'pdb/{pdbid}_initial.pdb')\n",
    "view_1.clear_representations()\n",
    "view_1.add_representation('cartoon',selection='not (water or ion)',color_scheme='resname')\n",
    "view_1.add_representation('licorice',selection='not (water or ion)',color='lightgreen')\n",
    "view_1.add_component(f'pdb/{pdbid}_minimized.pdb')\n",
    "view_1.add_representation('licorice',selection='not (water or ion)',color='lightblue',component=1)\n",
    "if len(disu.keys())>0:\n",
    "    view_1.add_representation('licorice',selection='CYS',component=1,color='lightblue')\n",
    "view_1.center()\n",
    "view_1"
   ]
  },
  {
   "cell_type": "markdown",
   "id": "eb7bd007-7ac6-492e-9b11-23e3ff95c0c6",
   "metadata": {},
   "source": [
    "# Solvate the protein in TIP3P water\n",
    "## In the following we will use the MMTSB toolset to solvate the blocked alanine residue in a cubic box of TIP3P water using the convpdb.pl commands noted below.\n",
    "\n",
    "## First we figure out whether we need to add counter ions to neutralize the overall charge."
   ]
  },
  {
   "cell_type": "code",
   "execution_count": null,
   "id": "eb0624d6-fc70-43ae-a6a9-7fc0559123e4",
   "metadata": {
    "scrolled": true,
    "tags": []
   },
   "outputs": [],
   "source": [
    "import numpy as np\n",
    "# find the overall charge so we can add neutralizing ions\n",
    "q = psf.get_charges()\n",
    "Ntot = round((np.sum(q)))\n",
    "if Ntot > 0: ion_type = 'CLA'\n",
    "if Ntot < 0: ion_type = 'SOD'\n",
    "ions = '-ions {}:{}'.format(ion_type,np.abs(Ntot))\n",
    "if np.abs(Ntot) < 1e-2: ions = ''"
   ]
  },
  {
   "cell_type": "code",
   "execution_count": null,
   "id": "59cd695a-d8e1-46fb-8acd-ed379c53ecff",
   "metadata": {
    "tags": []
   },
   "outputs": [],
   "source": [
    "# CHARMM scripting command: system \"convpdb.pl -solvate {ions} -cutoff 10 -cubic -out charmm22 pdb/adp.pdb\n",
    "# | convpdb.pl -segnames -nsel TIP3 > pdb/{}_wt00.pdb\"\n",
    "solvate_command = 'convpdb.pl -solvate -cutoff 10 {} -cubic -out charmm22 pdb/{}_minimized.pdb > pdb/w.pdb;'\\\n",
    "    .format(ions,pdbid)\n",
    "solvate_command +='convpdb.pl -segnames -nsel TIP3 pdb/w.pdb | '\n",
    "solvate_command +=f'sed \"s/WT0[1,2,3,4,5]/WT00/g\" > pdb/{pdbid}_wt00.pdb;'\n",
    "solvate_command +='convpdb.pl -segnames -nsel ion pdb/w.pdb > pdb/ions.pdb'\n",
    "# run the command as a system subprocess\n",
    "os.system(solvate_command)\n",
    "# replace HETATM by ATOM in ions\n",
    "fpdb = open('pdb/ions.pdb','r')\n",
    "opdb = open(f'pdb/{pdbid}_ions.pdb','w')\n",
    "for l in fpdb:\n",
    "    print(l.strip().replace('HETATM','ATOM  '),file=opdb)\n",
    "fpdb.close()\n",
    "opdb.close()\n",
    "# clean-up non-specific files\n",
    "os.system('rm pdb/ions.pdb')"
   ]
  },
  {
   "cell_type": "code",
   "execution_count": null,
   "id": "0f94b349",
   "metadata": {
    "scrolled": false
   },
   "outputs": [],
   "source": [
    "solvated_1 = nv.NGLWidget()\n",
    "solvated_1.add_component(f'pdb/{pdbid}_minimized.pdb')\n",
    "solvated_1.clear_representations()\n",
    "solvated_1.add_representation('cartoon',selection='protein', color_scheme='resname')\n",
    "solvated_1.add_representation('surface',surfaceType='ms',opacity=0.5,selection='protein', color='lightblue')\n",
    "if len(disu.keys())>0:\n",
    "    solvated_1.add_representation('licorice',selection='CYS')\n",
    "solvated_1.add_component(f'pdb/{pdbid}_ions.pdb')\n",
    "solvated_1.clear_representations(component=1)\n",
    "solvated_1.add_representation('spacefill',selection='CLA', color='yellow',component=1)\n",
    "solvated_1.add_representation('spacefill',selection='SOD or POT', color='red',component=1)\n",
    "solvated_1.add_component(f'pdb/{pdbid}_wt00.pdb')\n",
    "solvated_1.clear_representations(component=2)\n",
    "solvated_1.add_representation('licorice',selection='water',opacity=0.4, component=2)\n",
    "solvated_1.center()\n",
    "solvated_1"
   ]
  },
  {
   "cell_type": "markdown",
   "id": "6a0e0190-4abd-4d60-9d3d-292c7fac2cf0",
   "metadata": {},
   "source": [
    "### Generate water segment and minimize the system, protein + solvent + ions, finally save the psf and coordinates\n",
    "### Note that in \"conditioning\" the system I first fix the protein atoms and then minimize the water. I am using the steepest descents algorithm because it works best for large systems and/or when you may have bad contacts.\n",
    "\n",
    "1) **build the water and ion segments**"
   ]
  },
  {
   "cell_type": "code",
   "execution_count": null,
   "id": "c102d659-2dd5-46bd-9e37-0786350bed5d",
   "metadata": {
    "tags": []
   },
   "outputs": [],
   "source": [
    "# Here is an alternative means of reading a sequence\n",
    "# read sequ pdb name pdb/{}_wt00.pdb\n",
    "# get the water segid:\n",
    "water_segment = get_assigned_segid(file=f'pdb/{pdbid}_wt00.pdb')\n",
    "# Let's set the wrnlev to 0 to avoid the large output\n",
    "old_wrnlev = settings.set_warn_level(0)\n",
    "read.sequence_pdb(f'pdb/{pdbid}_wt00.pdb')\n",
    "# Now reset back to default wrnlev\n",
    "settings.set_warn_level(old_wrnlev)\n",
    "# Another example of the generate command\n",
    "# generate wt00 noangle nodihedral\n",
    "gen.new_segment(water_segment, angle=False, dihedral=False)\n",
    "\n",
    "# read coor pdb name pdb/pdbid_wt00.pdb resid\n",
    "read.pdb(f'pdb/{pdbid}_wt00.pdb', resid=True)\n",
    "\n",
    "# Here is an alternative means of reading a sequence\n",
    "# read sequ pdb name pdb/{}_ions.pdb\n",
    "# get ion sequence name\n",
    "ion_segment = get_assigned_segid(file=f'pdb/{pdbid}_ions.pdb'.format(pdbid))\n",
    "read.sequence_pdb(f'pdb/{pdbid}_ions.pdb')\n",
    "\n",
    "# Another example of the generate command\n",
    "# generate wt00 noangle nodihedral\n",
    "gen.new_segment(ion_segment, angle=False, dihedral=False)\n",
    "\n",
    "# read coor pdb name pdb/adp.pdb resid\n",
    "read.pdb(f'pdb/{pdbid}_ions.pdb', resid=True)\n",
    "# get the coor statistics to construct boxlengths\n",
    "# coor stat\n",
    "stats = coor.stat()"
   ]
  },
  {
   "cell_type": "markdown",
   "id": "340c8253-0ea3-47b2-8591-9fc4a6800398",
   "metadata": {},
   "source": [
    "2) **Figure out the boxsize**\n",
    "3) **add periodic boundary conditions**\n",
    "4) **minimize**\n",
    "5) **write psf and final minimized coordinates, ready for simulations**"
   ]
  },
  {
   "cell_type": "code",
   "execution_count": null,
   "id": "e1c4dfe7-6baa-43a5-ad23-61e41c5a8275",
   "metadata": {
    "tags": []
   },
   "outputs": [],
   "source": [
    "# boxsize\n",
    "xsize = stats['xmax'] - stats['xmin']\n",
    "ysize = stats['ymax'] - stats['ymin']\n",
    "zsize = stats['zmax'] - stats['zmin']\n",
    "boxsize = max(xsize, ysize, zsize)\n",
    "\n",
    "# half box size\n",
    "boxhalf = boxsize / 2.0\n",
    "\n",
    "# CHARMM scripting: crystal define cubic @boxsize @boxsize @boxsize 90 90 90\n",
    "crystal.define_cubic(boxsize)\n",
    "# CHARMM scripting: crystal build cutoff @boxhalf noper 0\n",
    "crystal.build(boxhalf)\n",
    "\n",
    "# Turn on image centering - bysegment for protein, by residue for solvent and ions\n",
    "# CHARMM scripting: image byseg xcen 0 ycen 0 zcen 0 select segid SEGID end\n",
    "for segid in segids:\n",
    "    image.setup_segment(0.0, 0.0, 0.0, segid)\n",
    "# CHARMM scripting: image byres xcen 0 ycen 0 zcen 0 select resname tip3 end\n",
    "image.setup_residue(0.0, 0.0, 0.0, 'TIP3')\n",
    "# CHARMM scripting: image byres xcen 0 ycen 0 zcen 0 select resname ion_type end\n",
    "image.setup_residue(0.0, 0.0, 0.0, ion_type)\n",
    "\n",
    "# Now specify nonbonded cutoffs for solvated box\n",
    "cutnb = min(boxhalf,12)\n",
    "cutim = cutnb\n",
    "ctofnb = cutnb - 1.0\n",
    "ctonnb = cutnb - 3.0\n",
    "\n",
    "# Another nbonds example\n",
    "# CHARMM scripting: nbonds cutnb @cutnb cutim @cutim ctofnb @ctofnb ctonnb @ctonnb -\n",
    "#        inbfrq -1 imgfrq -1\n",
    "pycharmm.NonBondedScript(\n",
    "    cutnb=cutnb, cutim=cutim, ctonnb=ctonnb, ctofnb=ctofnb,\n",
    "    eps=1.0,\n",
    "    cdie=True,\n",
    "    atom=True, vatom=True,\n",
    "    fswitch=True, vfswitch=True,\n",
    "    inbfrq=-1, imgfrq=-1).run()\n",
    "\n",
    "# Fix the peptide and minimize the solvent to \"fit\"\n",
    "# CHARMM scripting: cons fix select segid adp end\n",
    "cons_fix.setup(pycharmm.SelectAtoms(seg_id=segids))\n",
    "\n",
    "# Minimize the solvent positions with periodic boundary conditions using steepest descents\n",
    "# CHARMM scripting: mini sd nstep 200 tole 1e-3 tolgrd 1e-3\n",
    "minimize.run_sd(nstep=200, tolenr=1e-3, tolgrd=1e-3)\n",
    "\n",
    "# Turn off fixed atoms\n",
    "# CHARMM scripting: cons fix select none end\n",
    "cons_fix.turn_off()\n",
    "\n",
    "# Write the psf and coordinates for the solvated peptide\n",
    "# write psf card name pdb/adp+wat.psf\n",
    "write.psf_card(f'pdb/{pdbid}+wat.psf')\n",
    "# write coor pdb name pdb/adp+wat_min.pdb\n",
    "write.coor_pdb(f'pdb/{pdbid}+wat_min.pdb')"
   ]
  },
  {
   "cell_type": "markdown",
   "id": "f10e84c4-87a2-43a9-b2a6-dbf4c250ae4c",
   "metadata": {},
   "source": [
    "## Finally, let's visualize the system and see what things look like!"
   ]
  },
  {
   "cell_type": "code",
   "execution_count": null,
   "id": "8906fee5",
   "metadata": {},
   "outputs": [],
   "source": [
    "solvated = nv.NGLWidget()\n",
    "solvated.add_component(f'pdb/{pdbid}_minimized.pdb')\n",
    "solvated.clear_representations()\n",
    "solvated.add_representation('cartoon',selection='protein', color_scheme='resname')\n",
    "solvated.add_representation('surface',surfaceType='ms',opacity=0.5,selection='protein', color='lightblue')\n",
    "if len(disu.keys())>0:\n",
    "    solvated.add_representation('licorice',selection='CYS')\n",
    "solvated.add_component(f'pdb/{pdbid}_ions.pdb')\n",
    "solvated.clear_representations(component=1)\n",
    "solvated.add_representation('spacefill',selection='CLA', color='green',component=1)\n",
    "solvated.add_representation('spacefill',selection='SOD or POT', color='red',component=1)\n",
    "solvated.add_component(f'pdb/{pdbid}_wt00.pdb')\n",
    "solvated.clear_representations(component=2)\n",
    "solvated.add_representation('licorice',selection='water',component=2)\n",
    "solvated.center()\n",
    "solvated"
   ]
  },
  {
   "cell_type": "markdown",
   "id": "7a73a335-a16a-4e52-ae2c-879e83ca22ec",
   "metadata": {},
   "source": [
    "# This is the end of this tutorial example. \n",
    "## You should have learned how to 1) build a multi-segment protein with disulfide bonds; 2) to minimize the system and examine the results of the minimization; 3) to use the MMTSB Toolset to solvate and neutralize the system (with convpdb.pl); 4) to prepare the solvated system for further calculations by \"conditioning\" the solvent after the solvent overlay.\n",
    "## As an exercise, try modifying this tutorial to build your favorite protein. Use the same blocking groups.\n",
    "\n",
    "### Other things to consider are:\n",
    "1) How do we choose protonation state for fixed protonation state models?\n",
    "* use knowledge of pKas of titratable residues in protein of interest\n",
    "* use a tool like PropKa to assign appropriate protonation state for titratable residues\n",
    "2) How do we add a specific ionic strength of excess salt?"
   ]
  }
 ],
 "metadata": {
  "kernelspec": {
   "display_name": "Python 3 (ipykernel)",
   "language": "python",
   "name": "python3"
  },
  "language_info": {
   "codemirror_mode": {
    "name": "ipython",
    "version": 3
   },
   "file_extension": ".py",
   "mimetype": "text/x-python",
   "name": "python",
   "nbconvert_exporter": "python",
   "pygments_lexer": "ipython3",
   "version": "3.8.16"
  }
 },
 "nbformat": 4,
 "nbformat_minor": 5
}

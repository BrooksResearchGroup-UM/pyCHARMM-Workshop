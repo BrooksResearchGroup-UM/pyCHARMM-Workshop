{
 "cells": [
  {
   "cell_type": "markdown",
   "id": "7e12e243",
   "metadata": {},
   "source": [
    "# Compute Absolute Solvation Free Energy for Small Molecules\n",
    "## Preface - add bits to create parallel MPI tasks"
   ]
  },
  {
   "cell_type": "code",
   "execution_count": 1,
   "id": "4977381a",
   "metadata": {},
   "outputs": [
    {
     "name": "stdout",
     "output_type": "stream",
     "text": [
      "Starting 4 engines with <class 'ipyparallel.cluster.launcher.MPIEngineSetLauncher'>\n"
     ]
    },
    {
     "data": {
      "application/vnd.jupyter.widget-view+json": {
       "model_id": "98635c473026425e848cdb80c83d64b1",
       "version_major": 2,
       "version_minor": 0
      },
      "text/plain": [
       "  0%|          | 0/4 [00:00<?, ?engine/s]"
      ]
     },
     "metadata": {},
     "output_type": "display_data"
    },
    {
     "data": {
      "text/plain": [
       "<ipyparallel.client.client.Client at 0x7f92f03e2610>"
      ]
     },
     "execution_count": 1,
     "metadata": {},
     "output_type": "execute_result"
    }
   ],
   "source": [
    "import ipyparallel as ipp\n",
    "# Set up ipcluster MPI engines for n tasks\n",
    "cluster = ipp.Cluster(engines=\"MPI\",n=4)\n",
    "cluster.start_and_connect_sync()"
   ]
  },
  {
   "cell_type": "markdown",
   "id": "e5ced760-164e-4efd-ba10-5dbacd011031",
   "metadata": {},
   "source": [
    "## Using CHARMM/OpenMM and CHARMM/BLaDE as examples\n",
    "## Import needed python/pyCHARMM modules"
   ]
  },
  {
   "cell_type": "code",
   "execution_count": 2,
   "id": "234b7a43-0939-4af1-9f0a-e17fce73fbf7",
   "metadata": {
    "tags": []
   },
   "outputs": [
    {
     "data": {
      "application/vnd.jupyter.widget-view+json": {
       "model_id": "875dbd904fb14723875e0f87fd06f621",
       "version_major": 2,
       "version_minor": 0
      },
      "text/plain": [
       "%px:   0%|          | 0/4 [00:00<?, ?tasks/s]"
      ]
     },
     "metadata": {},
     "output_type": "display_data"
    }
   ],
   "source": [
    "%%px\n",
    "import os\n",
    "import sys\n",
    "import subprocess\n",
    "import shlex\n",
    "import numpy as np\n",
    "import pandas as pd\n",
    "import pickle\n",
    "import argparse\n",
    "from FastMBAR import *\n",
    "\n",
    "########LOAD pyCHARMM LIBRARIES########\n",
    "import pycharmm\n",
    "import pycharmm.generate as gen\n",
    "import pycharmm.ic as ic\n",
    "import pycharmm.coor as coor\n",
    "import pycharmm.energy as energy\n",
    "import pycharmm.dynamics as dyn\n",
    "import pycharmm.nbonds as nbonds\n",
    "import pycharmm.minimize as minimize\n",
    "import pycharmm.crystal as crystal\n",
    "import pycharmm.image as image\n",
    "import pycharmm.psf as psf\n",
    "import pycharmm.read as read\n",
    "import pycharmm.write as write\n",
    "import pycharmm.settings as settings\n",
    "import pycharmm.cons_harm as cons_harm\n",
    "import pycharmm.cons_fix as cons_fix\n",
    "import pycharmm.select as select\n",
    "import pycharmm.shake as shake\n",
    "import pycharmm.scalar as scalar\n",
    "from pycharmm.lib import charmm as libcharmm\n",
    "\n",
    "# MPI library set-up\n",
    "from mpi4py import MPI\n",
    "comm = MPI.COMM_WORLD\n",
    "nproc = comm.Get_size()\n",
    "rank = comm.Get_rank()"
   ]
  },
  {
   "cell_type": "markdown",
   "id": "9360dbe6-4cda-445c-b405-05d321a1a7da",
   "metadata": {},
   "source": [
    "# Set global parameter defaults"
   ]
  },
  {
   "cell_type": "code",
   "execution_count": 3,
   "id": "33fe73ed-89e1-45cf-a412-142ed9053cf4",
   "metadata": {
    "tags": []
   },
   "outputs": [],
   "source": [
    "%%px\n",
    "##########################SETUP GLOBAL PARAMETERS##########################\n",
    "gpus_per_node = 1\n",
    "\n",
    "T = 298         # K\n",
    "k_B = 0.00198   # kcal/mol/K\n",
    "ctofnb = 10\n",
    "cutnb = ctofnb + 2.0\n",
    "cutim = cutnb\n",
    "ctonnb = ctofnb - 2.0\n",
    "\n",
    "lang = False\n",
    "leap = False\n",
    "useblade = False\n",
    "useomm = False\n",
    "platform = 'opencl'"
   ]
  },
  {
   "cell_type": "markdown",
   "id": "d580c5ff-6c6c-4e18-afb6-b7f7d8d4630f",
   "metadata": {},
   "source": [
    "## Add system specific parameters and set-up key variables"
   ]
  },
  {
   "cell_type": "code",
   "execution_count": 4,
   "id": "72ec87d4-adc8-4ce4-ae95-a2f4e8ca1e47",
   "metadata": {
    "tags": []
   },
   "outputs": [],
   "source": [
    "%%px\n",
    "# Input arguments\n",
    "solres = 'mobley_1760914'\n",
    "iteration = 0\n",
    "# If we were running on a system with CUDA-based GPUs we could use blade\n",
    "blade = False\n",
    "# For CPUs or AMD-based GPUs (OpenCL) we choose OpenMM\n",
    "openmm = True\n",
    "vfswitch = False\n",
    "vswitch = True\n",
    "scalecharge = False\n",
    "vacuumonly = False\n",
    "gaff = False\n",
    "\n",
    "if blade:\n",
    "    useblade = 'prmc pref 1 iprs 100 prdv 100'\n",
    "    leap = True\n",
    "elif openmm:\n",
    "    lang = True\n",
    "    useomm = 'gamma 2 prmc pref 1 iprsfrq 100'\n",
    "else:\n",
    "    lang = True  # Pure CPU w/ OpenMM\n",
    "    platform = 'cpu'\n",
    "    \n",
    "# more global variables\n",
    "if vacuumonly:\n",
    "    nequil = 20000  # number of equilibration steps\n",
    "    nprod = 4000000 # 2000000 production dynamics\n",
    "    nsavc = 20000   # 10000 save frequency\n",
    "    environment = ['vacuum']\n",
    "else:\n",
    "    nequil = 1000  # number of equilibration steps\n",
    "    nprod = 5000 # 2000000 production dynamics\n",
    "    nsavc = 100   # 10000 save frequency\n",
    "    environment = ['solvent']"
   ]
  },
  {
   "cell_type": "markdown",
   "id": "b39626cf-6bcd-430d-81ac-e19ad8b278b1",
   "metadata": {},
   "source": [
    "## Distribute work across parallel processors (all work in this example goes to single processor)"
   ]
  },
  {
   "cell_type": "code",
   "execution_count": 5,
   "id": "84ba4e98-bc12-47cc-9157-ffda57b16396",
   "metadata": {
    "tags": []
   },
   "outputs": [],
   "source": [
    "%%px\n",
    "#############################################################################\n",
    "def distributeWork(n):\n",
    "    \"\"\"determine work per node based on nproc and nodes\n",
    "    input:   n <- number of processes being employed in calculation\n",
    "    output:  work[0:n] is a dictionary that contains number of passes\n",
    "             of calculation done by process rank\n",
    "\"\"\"\n",
    "    work = {}     # this dictionary contains the work per process\n",
    "    work[rank] = []\n",
    "    tasks = list(range(n))\n",
    "    while len(tasks) > 0:\n",
    "        if rank < len(tasks): \n",
    "            work[rank].append(tasks[rank])\n",
    "        del tasks[:nproc]\n",
    "    return work\n",
    "############################\n",
    "def Prologue(outfile='logfile'):\n",
    "    \"\"\"This function redirects the output from pycharmm on nodes other\n",
    "    than the root node to separate output files\"\"\"\n",
    "    # TODO: Fix output so stdout from each process goes to CHARMM output files.\n",
    "    # TODO: if rank != 0:\n",
    "    # TODO: sys.stdout = open('{}.log.{}'.format(outfile,rank),'w')\n",
    "    settings.set_verbosity(0)\n",
    "    out_file = pycharmm.CharmmFile(file_name='{}.log.{}'.format(outfile,rank),\n",
    "                                   file_unit=int(rank+20),\n",
    "                                   formatted=True,read_only=False)\n",
    "    pycharmm.lingo.charmm_script('outunit {}'.format(rank+20))\n",
    "    settings.set_warn_level(-5)\n",
    "    settings.set_verbosity(5)\n",
    "    sys.stdout = open('{}.log.{}'.format(outfile,rank),'w')\n",
    "    print('Set variables to print to rank,', rank)\n",
    "    return"
   ]
  },
  {
   "cell_type": "markdown",
   "id": "f1b61dde-6e87-4b72-97fd-abb17d553dd6",
   "metadata": {},
   "source": [
    "## Function to add dummy atom reference to psf as separate segment"
   ]
  },
  {
   "cell_type": "code",
   "execution_count": 6,
   "id": "f28217f1-b378-41a2-9e74-2f76f3a68338",
   "metadata": {
    "tags": []
   },
   "outputs": [],
   "source": [
    "%%px\n",
    "def add_dummy(a=None):\n",
    "    \"\"\"build a dummy atom into the system and place it at the center\n",
    "    of the solute.\n",
    "    input: a <- vector representing geometric center of the solute\"\"\"\n",
    "    \n",
    "    pycharmm.lingo.charmm_script('''\n",
    "read rtf card append\n",
    "* rtf for dummy atom\n",
    "*\n",
    "36  1\n",
    "\n",
    "mass -1 d 1.0\n",
    "\n",
    "resi dum 0.0\n",
    "atom d d 0.0\n",
    "\n",
    "end\n",
    "\n",
    "read param card append flex\n",
    "* param file for dummy atom\n",
    "*\n",
    "\n",
    "atoms\n",
    "mass -1 d 1.0\n",
    "\n",
    "nonbonded\n",
    "\n",
    "d 0.0 -0.0 0.0\n",
    "\n",
    "end\n",
    "\n",
    "read sequ dum 1\n",
    "generate dum\n",
    "\n",
    "    scalar x set {:7.3f} select segid dum end\n",
    "    scalar y set {:7.3f} select segid dum end\n",
    "    scalar z set {:7.3f} select segid dum end\n",
    "    '''.format(a.x,a.y,a.z))\n",
    "    return"
   ]
  },
  {
   "cell_type": "markdown",
   "id": "e60e0870-6a48-4972-8b73-d46bb610070c",
   "metadata": {},
   "source": [
    "## Functions to set block structures for various calculations"
   ]
  },
  {
   "cell_type": "code",
   "execution_count": 7,
   "id": "7cddac8d-60af-4598-bcc1-ce14a4238f16",
   "metadata": {
    "tags": []
   },
   "outputs": [],
   "source": [
    "%%px\n",
    "################################\n",
    "def set_blocks(env,solu,lenv=1.0,lelec=1.0,lvdw=1.0,lelec2=1.0,lvdw2=1.0):\n",
    "    \"\"\"Set-up block definitions and values:\n",
    "       env <= CHARMM define for the environment selection\n",
    "       solu <= CHARMM define for the solute segment to be perturbed\n",
    "       lenv <= lambda scaling for the environment atoms \n",
    "       lelec, lvdw <= lambda scaling for the elec and vdW interactions\n",
    "       lelec2, lvdw2 <= lambda scaling for the intra-solute elec and vdw interactions\"\"\"\n",
    "    pycharmm.lingo.charmm_script('''\n",
    "define solu select resname {} end\n",
    "define env select resname tip3 end\n",
    "block\n",
    "   clear\n",
    "end\n",
    "block 3\n",
    "   call 1 select {} end\n",
    "   call 2 select segid dum end\n",
    "   call 3 select {} end\n",
    "end\n",
    "block\n",
    "   coef 1 1 {:10.5f}\n",
    "   coef 1 2 1.0\n",
    "   coef 1 3 {:10.5f} elec {:10.5f} vdw {:10.5f} \n",
    "   coef 2 2 1.0 \n",
    "   coef 3 3 1.0 elec {:10.5f} vdw {:10.5f}\n",
    "   excl 2 3\n",
    "   somm\n",
    "end '''.format(resname,\n",
    "               env,\n",
    "               solu,\n",
    "               lenv,\n",
    "               lenv,lelec,lvdw,\n",
    "               lelec2,lvdw2)\n",
    ")\n",
    "    return\n",
    "################################\n",
    "def set_blocks_vacuum(env,solu,lenv=1.0,lelec=1.0,lvdw=1.0,lelec2=1.0,lvdw2=1.0):\n",
    "    \"\"\"Set-up block definitions and values:\n",
    "       env <= CHARMM define for the environment selection\n",
    "       solu <= CHARMM define for the solute segment to be perturbed\n",
    "       lenv <= lambda scaling for the environment atoms \n",
    "       lelec, lvdw <= lambda scaling for the elec and vdW interactions\n",
    "       lelec2, lvdw2 <= lambda scaling for the intra-solute elec and vdw interactions\"\"\"\n",
    "    pycharmm.lingo.charmm_script('''\n",
    "define solu select resname {} end\n",
    "block\n",
    "   clear\n",
    "end\n",
    "block 1\n",
    "   call 1 select {} end\n",
    "end\n",
    "block\n",
    "   coef 1 1 1.0 elec {:10.5f} vdw {:10.5f}\n",
    "end '''.format(resname,\n",
    "               solu,\n",
    "                lelec2,lvdw2)\n",
    ")\n",
    "    return\n",
    "\n",
    "################################\n",
    "def set_blocks_msld(env,solu,lmbda=1.0,scalecharge=False,scalefactor=1.0):\n",
    "    \"\"\"Set-up msld block definitions and values:\n",
    "       env <= CHARMM define for the environment selection\n",
    "       solu <= CHARMM define for the solute segment to be perturbed\n",
    "       lmbda <= lambda scaling for set-up of MSLD\n",
    "       scalecharge <= logical specifying charge scaling in effect\n",
    "       scalefactor <= scale factor to acheive separation of charge and vdW scaling \n",
    "                      MSLD\"\"\"\n",
    "    if scalecharge:\n",
    "        pycharmm.lingo.charmm_script('''\n",
    "scalar charge mult {:8.4f} select resname {} end'''.format(scalefactor,resname))\n",
    "    pycharmm.lingo.charmm_script('''\n",
    "define solu select resname {} end\n",
    "define env select resname tip3 end\n",
    "block\n",
    "   clear\n",
    "end\n",
    "block 3\n",
    "   call 1 select {} end\n",
    "   call 2 select {} end\n",
    "   call 3 select segid dum end\n",
    "\n",
    "   qldm theta\n",
    "   lang temp 298.0\n",
    "\n",
    "   ldinitialize 1 1.0 0 1 0 5\n",
    "   ldinitialize 2 {:8.4f} 0 1 0 5\n",
    "   ldinitialize 3 {:8.4f} 0 1 0 5\n",
    "\n",
    "   rmlambda bond angle dihe impr\n",
    "\n",
    "    exclude 2 3\n",
    "    ! elecrostatics and soft core\n",
    "    pmel ex\n",
    "    soft on\n",
    "\n",
    "    msld 0 1 1 ffix\n",
    "    msmatrix\n",
    "    ldbi  0       ! no biasing potential\n",
    "\n",
    "end '''.format(resname,env,solu,\n",
    "               lmbda,1.0-lmbda))\n",
    "    return\n",
    "################################\n",
    "def set_lambda(nelec=10,nvdw=15,nshift=0):\n",
    "    l = np.zeros((nvdw+nshift,2), dtype=float)\n",
    "    l[:,1]=1.0\n",
    "    for i in range(nelec): l[i,0] = 1-np.sin(i*np.pi/(2*(nelec-1)))\n",
    "    for i in range(nvdw): l[i+nshift,1] = 1-np.sin((i)*np.pi/(2*(nvdw-1)))\n",
    "    return l\n",
    "################################\n",
    "def fix_rtfprm(file):\n",
    "    with open(file,'rt') as fin:\n",
    "        with open('tmp','wt') as fout:\n",
    "            for l in fin:\n",
    "                if len(l) > 2:\n",
    "                    if l.split()[0]=='MASS':fout.write(l.replace(l.split()[1],'-1',1))\n",
    "                    else: fout.write(l)\n",
    "                else: fout.write(l)\n",
    "    fin.close()\n",
    "    fout.close()\n",
    "    os.system('mv tmp {}'.format(file))\n",
    "    return"
   ]
  },
  {
   "cell_type": "markdown",
   "id": "f51b9f55-1e88-4fa0-81f7-4f1cd1308c3c",
   "metadata": {},
   "source": [
    "## Utility function to provide FFT grid sizes"
   ]
  },
  {
   "cell_type": "code",
   "execution_count": 8,
   "id": "d510f45b-9a87-4238-808b-4ac1baf91843",
   "metadata": {
    "tags": []
   },
   "outputs": [],
   "source": [
    "%%px\n",
    "################################\n",
    "# Ensure that FFT grid is product of small primes 2, 3, 5\n",
    "def is_factor(n):\n",
    "    if (n % 2 != 0): return False  # favors even number\n",
    "    while n:\n",
    "        flag = False\n",
    "        for x in (2,3,5):\n",
    "            if n % x == 0:\n",
    "               n = n / x\n",
    "               flag = True\n",
    "               break\n",
    "\n",
    "        if flag: continue\n",
    "        break\n",
    "\n",
    "    if n == 1: return True\n",
    "    return False\n",
    "\n",
    "def checkfft(n, margin = 5):\n",
    "    n = int(n) + margin\n",
    "    while 1:\n",
    "        if is_factor(n): break\n",
    "        else: n += 1\n",
    "    return n"
   ]
  },
  {
   "cell_type": "markdown",
   "id": "717edea2-657d-4af1-bb12-325f7ea30440",
   "metadata": {},
   "source": [
    "## Functions to solvate small molecule in water and set-up PBCs with image centering"
   ]
  },
  {
   "cell_type": "code",
   "execution_count": 9,
   "id": "18ccce70-a799-4fae-bada-2183acdc9ed8",
   "metadata": {
    "tags": []
   },
   "outputs": [],
   "source": [
    "%%px\n",
    "################################\n",
    "def setup_solvatedBox(solres='',cutoff=10.0):\n",
    "    \"\"\" This function sets-up the solvated water box around a solute using\n",
    "    a call to the mmtsb tool convpdb.pl and then creates the solvent segment.\n",
    "    The operations carried out are:\n",
    "    1) create a solvent box around the solute solres using a cutoff parameter\n",
    "    2) generate the solvent segment in CHARMM from sequence in pdb created pdb\"\"\"\n",
    "    if rank == 0:\n",
    "        if not os.path.isdir('pdb'): os.system('mkdir pdb')\n",
    "        write.coor_pdb('pdb/{}.pdb'.format(solres))\n",
    "\n",
    "    comm.barrier()\n",
    "    if not os.path.exists('pdb/{}+wat.psf'.format(solres)):\n",
    "        if rank == 0:\n",
    "            # CHARMM scripting command: system \"convpdb.pl -solvate -cutoff 10 -cubic -out charmm22 pdb/adp.pdb\n",
    "            # | convpdb.pl -segnames adp ala -nsel TIP3 > pdb/wt00.pdb\"\n",
    "            solvate_command = 'convpdb.pl -solvate -cutoff {} -cubic -out charmm22 pdb/{}.pdb | '.format(cutoff,solres)\n",
    "            solvate_command +='convpdb.pl -segnames -nsel TIP3 > pdb/wt00.pdb'\n",
    "            # run the command as a system subprocess\n",
    "            os.system(solvate_command)\n",
    "        comm.barrier()\n",
    "        read.sequence_pdb('pdb/wt00.pdb')\n",
    "\n",
    "        gen.new_segment('WT00', angle=False, dihedral=False)\n",
    "\n",
    "        read.pdb('pdb/wt00.pdb', resid=True)\n",
    "\n",
    "        # Find the box dimensions\n",
    "        stats = coor.stat()\n",
    "        xsize = stats['xmax'] - stats['xmin']\n",
    "        ysize = stats['ymax'] - stats['ymin']\n",
    "        zsize = stats['zmax'] - stats['zmin']\n",
    "        boxsize = max(xsize, ysize, zsize)\n",
    "        boxhalf = boxsize / 2.0\n",
    "\n",
    "        # translate coordinates by boxhalf to be consistent with openmm\n",
    "        if openmm: coor.set_positions(coor.get_positions() + boxhalf)\n",
    "\n",
    "        setup_PBC(boxhalf)\n",
    "    \n",
    "        cons_fix.setup(selection=~pycharmm.SelectAtoms(seg_id='WT00'))\n",
    "        minimize.run_sd(nstep=500, tolenr=1e-3, tolgrd=1e-3)\n",
    "        cons_fix.turn_off()\n",
    "\n",
    "        write.psf_card('pdb/{}+wat.psf'.format(solres))\n",
    "        write.coor_pdb('pdb/{}+wat_min.pdb'.format(solres))\n",
    "    else:\n",
    "        psf.delete_atoms(selection=pycharmm.SelectAtoms(select_all=True))\n",
    "        settings.set_bomb_level(-1)\n",
    "        read.psf_card('pdb/{}+wat.psf'.format(solres))\n",
    "        settings.set_bomb_level(0)\n",
    "        read.pdb('pdb/{}+wat_min.pdb'.format(solres),resid=True)\n",
    "        stats = coor.stat()\n",
    "        xsize = stats['xmax'] - stats['xmin']\n",
    "        ysize = stats['ymax'] - stats['ymin']\n",
    "        zsize = stats['zmax'] - stats['zmin']\n",
    "\n",
    "        boxsize = max(xsize, ysize, zsize)\n",
    "        boxhalf = boxsize / 2.0\n",
    "\n",
    "        setup_PBC(boxhalf)\n",
    "    return boxhalf\n",
    "\n",
    "################################\n",
    "def setup_PBC(boxhalf):\n",
    "    \"\"\"input: boxhalf and global variable blade\n",
    "    assumes solute is segid SOLU and DUM and solvent is resname TIP3.\n",
    "    defines the periodic boundary conditions for a cubic volume of boxsize. \n",
    "    Uses: crystal_define_cubic(), crystal.build(), image.setup_residue,\n",
    "    image.setup_segment to construct symmetry operations. \n",
    "\n",
    "    If global variable openmm is true\n",
    "    the image centering is at [boxhalf,boxhalf,boxhalf] otherwise at [0,0,0].\n",
    "    \"\"\"\n",
    "    crystal.define_cubic(boxhalf*2)\n",
    "    crystal.build(boxhalf)\n",
    "\n",
    "    if blade: boxhalf = 0.0 # center at origin for blade\n",
    "    image.setup_segment(boxhalf,boxhalf, boxhalf, 'SOLU')\n",
    "    image.setup_segment(boxhalf,boxhalf, boxhalf, 'DUM')\n",
    "    image.setup_residue(boxhalf, boxhalf, boxhalf, 'TIP3')\n",
    "\n",
    "    return\n",
    "\n",
    "################################\n",
    "def setup_PBC_vacuum(boxhalf):\n",
    "    \"\"\"input: boxhalf and global variable blade\n",
    "    assumes solute is segid SOLU and DUM and solvent is resname TIP3.\n",
    "    defines the periodic boundary conditions for a cubic volume of boxsize. \n",
    "    Uses: crystal_define_cubic(), crystal.build(), image.setup_residue,\n",
    "    image.setup_segment to construct symmetry operations. \n",
    "\n",
    "    If global variable blade is true\n",
    "    the image centering is at [0,0,0] otherwise at [boxhalf,boxhalf,boxhalf].\n",
    "    \"\"\"\n",
    "    if not os.path.exists('cubic.xtl'):\n",
    "        cubic = '''*  CRYSTAL DEFINE CUBIC A=B=C THETA=90\n",
    "*\n",
    " SYMMETRY\n",
    " (X,Y,Z)\n",
    " END\n",
    "\n",
    " IMAGES\n",
    " ! Operation     A     B     C\n",
    "           1    -1    -1    -1\n",
    "           1    -1     0    -1\n",
    "           1    -1     1    -1\n",
    "           1     0    -1    -1\n",
    "           1     0     0    -1\n",
    "           1     0     1    -1\n",
    "           1    -1    -1     0\n",
    "           1    -1     0     0\n",
    "           1    -1     1     0\n",
    "           1     0    -1     0\n",
    "           1     0     1     0\n",
    "           1    -1    -1     1\n",
    "           1    -1     0     1\n",
    "           1    -1     1     1\n",
    "           1     0    -1     1\n",
    "           1     0     0     1\n",
    "           1     0     1     1\n",
    "           1     1     1     1\n",
    "           1     1     0     1\n",
    "           1     1    -1     1\n",
    "           1     1     1     0\n",
    "           1     1     0     0\n",
    "           1     1    -1     0\n",
    "           1     1     1    -1\n",
    "           1     1     0    -1\n",
    "           1     1    -1    -1\n",
    " END\n",
    "'''\n",
    "        fh = open('cubic.xtl','w')\n",
    "        print(cubic,file=fh)\n",
    "        fh.close()\n",
    "    crystal.define_cubic(boxhalf*2)\n",
    "    pycharmm.lingo.charmm_script('''\n",
    "open unit 10 read form name cubic.xtl\n",
    "crystal read card unit 10\n",
    "close unit 10''')\n",
    "\n",
    "    if blade: boxhalf = 0.0 # center at origin for blade\n",
    "    image.setup_segment(boxhalf,boxhalf, boxhalf, psf.get_segid()[0].upper())\n",
    "    #image.setup_segment(boxhalf,boxhalf, boxhalf, psf.get_segid()[-1].upper())\n",
    "    #image.setup_residue(boxhalf, boxhalf, boxhalf, 'TIP3')\n",
    "\n",
    "    return"
   ]
  },
  {
   "cell_type": "markdown",
   "id": "677d59ec-772d-49cf-8a0f-d6ec0fe5ebf1",
   "metadata": {},
   "source": [
    "# Free Energy Estimators - BAR and FastMBAR"
   ]
  },
  {
   "cell_type": "code",
   "execution_count": 10,
   "id": "18a39490-0530-487d-b951-8207f187fe96",
   "metadata": {
    "tags": []
   },
   "outputs": [],
   "source": [
    "%%px\n",
    "################################\n",
    "def get_Bar(M=0,N=0,f=None,kBT=k_B*T):\n",
    "    \"\"\"Use BAR estimator from nearest neighbor windows to calculate free energy changes.\n",
    "    Input: M => dimension of number of states\n",
    "           N => dimension of number of configurations to analyze\n",
    "           f => dataframe containing the energy values\n",
    "    \"\"\"\n",
    "    fe = []\n",
    "    fe.append(1.0)\n",
    "    for i in range(1,M):\n",
    "        i1=(i-1)*N\n",
    "        i2=i*N\n",
    "        i3=(i+1)*N\n",
    "        fe.append(np.mean(np.minimum(np.exp(-(f.loc[i1:i2-1,i]-f.loc[i1:i2-1,i-1])/(kBT)),\n",
    "                                 np.full(N,1.0,dtype=float)))/\n",
    "                  np.mean(np.minimum(np.exp(-(f.loc[i2:i3-1,i-1]-f.loc[i2:i3-1,i])/(kBT)),\n",
    "                                 np.full(N,1.0,dtype=float))))\n",
    "    fe = -kBT*np.log(np.asarray(fe,dtype=float))\n",
    "    for i in range(1,len(fe)): fe[i]+=fe[i-1]\n",
    "    return fe\n",
    "\n",
    "################################\n",
    "# Use frames with MBAR to construct free energies\n",
    "def get_FreeEnergy(frames=None,solres=None,outfile=None,csvfile=None,F_LRC=None):\n",
    "    \"\"\"This function computes the free energy using MBAR and BAR based on procssing\n",
    "    of a dataframe of dimension len(envioment)xlambda.shape[0].\n",
    "    calls functions FastMBAR and get_Bar.\n",
    "    input: frames => pandas dataframe from trajectory analysis\n",
    "           solres => mobley id\n",
    "           outfile => name of output file for free energy values\n",
    "           csvfile => name of csv file where data from runs is collected\n",
    "           F_LRC => value of the long range dispersion correction\n",
    "    \"\"\"\n",
    "    nsets = len(environment)\n",
    "    if not vacuumonly:\n",
    "        N = int(nsets*frames.shape[0]/frames.shape[1])\n",
    "        M = int(frames.shape[1]/nsets)\n",
    "    else:\n",
    "        N = int(frames.shape[0]/frames.shape[1])\n",
    "        M = int(frames.shape[1])\n",
    "\n",
    "    for env in environment:\n",
    "        if env == 'solvent' or vacuumonly:\n",
    "            newframes = frames.loc[:,:M-1]\n",
    "        else:\n",
    "            newframes = frames.loc[:,(nsets-1)*M:nsets*M-1]\n",
    "            newframes.columns=list(range(M))\n",
    "            \n",
    "        # Allocate np arrays for data    \n",
    "        v = np.full(M,N,dtype=float)\n",
    "        u = np.asarray(newframes.T)/(k_B*T)\n",
    "        print(v.shape,v[0],u.shape)\n",
    "        print('Calling FastMBAR')\n",
    "        mbar = FastMBAR(energy=u, num_conf=v, cuda=False, verbose=False, bootstrap=False)\n",
    "        if env == 'solvent': F_solv = mbar.F*k_B*T\n",
    "        elif env == 'vacuum': F_vac = mbar.F*k_B*T\n",
    "        print(mbar.F*k_B*T)\n",
    "        F = get_Bar(M=M,N=N,f=newframes,kBT=k_B*T)\n",
    "        print('get_Bar:',F)\n",
    "        if env == 'solvent': FB_solv = F\n",
    "        elif env == 'vacuum': FB_vac = F\n",
    "    fo = open(outfile,'w')\n",
    "    for i in range(F.shape[0]):\n",
    "        if not vacuumonly and len(environment)>1:\n",
    "            print('{} {:7.3f} {:7.3f} {:7.3f} {:7.3f} {:7.3f} {:7.3f}'\n",
    "                  .format(i, F_vac[i],F_solv[i],F_vac[i]-F_solv[i],\n",
    "                          FB_vac[i],FB_solv[i],FB_vac[i]-FB_solv[i]),file=fo)\n",
    "        elif not vacuumonly and len(environment) == 1:\n",
    "            print('{} {:7.3f} {:7.3f}'\n",
    "                  .format(i, F_solv[i],FB_solv[i]),file=fo)\n",
    "        else:\n",
    "            print('{} {:7.3f} {:7.3f}'.format(i,F_vac[i],FB_vac[i]),file=fo)\n",
    "                  \n",
    "    fo.close()\n",
    "    if not os.path.isfile(csvfile):\n",
    "        fo = open(csvfile,'a')\n",
    "        if not vacuumonly and len(environment)>1:\n",
    "            print('ID,Vac MBAR,Solv MBAR,dG MBAR,vac BAR,Solv BAR, dG BAR, LRC',file=fo)\n",
    "        elif len(environment) == 1:\n",
    "            print('ID,{} MBAR, {} BAR, LRC'.format(environment[0],environment[0]),file=fo)\n",
    "    else: fo = open(csvfile,'a')\n",
    "    if not vacuumonly and len(environment)>1:\n",
    "        print('{}, {:7.3f}, {:7.3f}, {:7.3f}, {:7.3f}, {:7.3f}, {:7.3f}, {:7.3f}'\n",
    "              .format(solres,F_vac[-1],F_solv[-1],F_vac[-1]-F_solv[-1],\n",
    "                      FB_vac[-1],FB_solv[-1],FB_vac[-1]-FB_solv[-1],F_LRC),file=fo)\n",
    "    elif not vacuumonly and len(environment)==1:\n",
    "        print('{}, {:7.3f}, {:7.3f}, {:7.3f}'\n",
    "              .format(solres,F_solv[-1],FB_solv[-1], F_LRC),file=fo)\n",
    "    elif vacuumonly:\n",
    "        print('{}, {:7.3f}, {:7.3f}'\n",
    "              .format(solres,F_vac[-1],FB_vac[-1]),file=fo)\n",
    "    fo.close()\n",
    "    return\n",
    "\n",
    "################################\n",
    "def LRC_solute(ctofnb=None):\n",
    "    \"\"\"This function computes the long-range dispersion correction for the annilation of the\n",
    "    ligand in solute.\n",
    "    input: ctofnb <- cutoff for nonbonded interactions\n",
    "    scalar.get_effect() => solute eps value\n",
    "    scalar.get_radius() => solute rmin/2 value\n",
    "    Dispersion coefficient C_iO => -eps_iO*rmin_iO^6\n",
    "    eps_iO = sqrt(eps_ii*eps_OO) => vdW epsilon for atom i in solute and water oxygen O\n",
    "    rmin_iO = rmin_ii/2 epsrmin_OO/2 => vdW rmin for atom i in solute and water oxygen O\n",
    "    TIP3P Oxygen\"\"\"\n",
    "    wateps = -.1521  # TIP3P emin  (kcal/mol)\n",
    "    watrad = 1.7682  # TIP3P rmin/2 (A)\n",
    "    watdens = 0.03222 # density of water => 1g/cc in molecules/A^3\n",
    "    F_LR = -np.sum((8/3)*np.pi*watdens*np.sqrt(np.asarray(scalar.get_effect(),\n",
    "                                                          dtype=float)*wateps)*\\\n",
    "                   np.power((np.asarray(scalar.get_radius(),\n",
    "                                        dtype=float)+watrad),6)/ctofnb**3)\n",
    "    print('Long-range dispersion correction to free energy: {:6.2f} kcal/mol'.format(F_LR))\n",
    "    return F_LR"
   ]
  },
  {
   "cell_type": "markdown",
   "id": "41296f46-5924-4073-875c-600676483475",
   "metadata": {},
   "source": [
    "# Set-up the system psf, solvate it and have a look."
   ]
  },
  {
   "cell_type": "code",
   "execution_count": 11,
   "id": "b1423229-8a9c-439f-b563-9b6975614139",
   "metadata": {
    "tags": []
   },
   "outputs": [
    {
     "data": {
      "text/plain": [
       "[stdout:0]  AXIS OF ROTATION IS  0.661580 -0.695146  0.281219  ANGLE IS   96.61\n",
       "\n"
      ]
     },
     "metadata": {},
     "output_type": "display_data"
    },
    {
     "data": {
      "text/plain": [
       "[stdout:1]  AXIS OF ROTATION IS  0.661580 -0.695146  0.281219  ANGLE IS   96.61\n",
       "\n"
      ]
     },
     "metadata": {},
     "output_type": "display_data"
    },
    {
     "data": {
      "text/plain": [
       "[stdout:2]  AXIS OF ROTATION IS  0.661580 -0.695146  0.281219  ANGLE IS   96.61\n",
       "\n"
      ]
     },
     "metadata": {},
     "output_type": "display_data"
    },
    {
     "data": {
      "text/plain": [
       "[stdout:3]  AXIS OF ROTATION IS  0.661580 -0.695146  0.281219  ANGLE IS   96.61\n",
       "\n"
      ]
     },
     "metadata": {},
     "output_type": "display_data"
    },
    {
     "data": {
      "text/plain": [
       "\u001b[0;31mOut[0:10]: \u001b[0m<function Intracomm.barrier>"
      ]
     },
     "metadata": {
      "after": null,
      "completed": null,
      "data": {},
      "engine_id": 0,
      "engine_uuid": "9a1a03e9-e8dd3d451b3176903dc25295",
      "error": null,
      "execute_input": "# Scripting starts here\n# Loop over sets of lambda values for fixed lambda sampling\nif scalecharge or openmm:\n    #lambda_values = set_lambda(nelec=10,nvdw=15)                     # w/ openmm or scalecharge\n    # In this example script we use a smaller number of windows (8 total)\n    lambda_values = set_lambda(nelec=5,nvdw=8)                     # w/ openmm or scalecharge\nelse:\n    if not vacuumonly: lambda_values = set_lambda(nelec=15,nvdw=15)  # w/ blade and not scalecharge\n    else: lambda_values = set_lambda(nelec=8,nvdw=8)\n\n# Distribute work across nproc\nwork = distributeWork(lambda_values.shape[0])\nif rank == 0:\n    if gaff:\n        if not os.path.isfile('{}.psf'.format(solres)):\n            os.system('cp ../../charmm/{}.* ./'.format(solres))\n    else:\n        if not os.path.isfile('freesolv/{}.str'.format(solres)):\n            print(\"Can't find file to do calculations on freesolv/{}.str\".format(solres))\n            exit()\n            #os.system('cp ../../freesolv_stream/{}.str ./'.format(solres))\n            #os.system('cp ../../charmm/{}.crd ./'.format(solres))\n    if not os.path.isdir('output'): os.system('mkdir output')\n    if not os.path.isdir('pdb'): os.system('mkdir pdb')\n    if not os.path.isdir('res'): os.system('mkdir res')\n    if not os.path.isdir('dcd'): os.system('mkdir dcd')\n    if not os.path.isdir('pdbdyn'): os.system('mkdir pdbdyn')\n    if not os.path.isdir('results'): os.system('mkdir results')\n    if not os.path.isdir('frames'): os.system('mkdir frames')\n    if gaff:\n        for i in ['rtf','prm']: fix_rtfprm('{}.{}'.format(solres,i))\ncomm.barrier()\nif nproc > 1: Prologue('output/logfile_{}'.format(solres))\nsettings.set_bomb_level(-2)\nread.rtf('../toppar/top_all36_cgenff.rtf')\nread.prm('../toppar/par_all36_cgenff.prm', flex=True)\nif gaff:\n    read.rtf('{}.rtf'.format(solres),append=True)\n    read.prm('{}.prm'.format(solres), flex=True, append=True)\nelse:\n    read.stream('freesolv/{}.str'.format(solres))\nread.stream('../toppar/toppar_water_ions.str')\nsettings.set_bomb_level(0)\n\nif gaff:\n    settings.set_bomb_level(-2)\n    read.psf_card('{}.psf'.format(solres))\n    pycharmm.lingo.charmm_script('scalar charge add {:7.4g}'\\\n                                 .format(-np.mean(np.asarray(psf.get_charges()))))\n    pycharmm.lingo.charmm_script('scalar charge stat')\n    read.coor_card('{}.crd'.format(solres))\n    settings.set_bomb_level(0)\nelse:\n    settings.set_bomb_level(-2)\n    read.sequence_string('SOLU')\n    gen.new_segment(seg_name='SOLU')\n    settings.set_bomb_level(0)\n    pycharmm.lingo.charmm_script('read coor ignore name freesolv/{}.crd'.format(solres))\n    pycharmm.lingo.charmm_script('coor shake')  # If any lp atoms present\ncoor.orient(by_rms=False,by_mass=False,by_noro=False)\nresname = psf.get_res()[0].lower() # Assumes first residue is solute residue\nsegid = psf.get_segid()[0].upper()\n\nmy_nbonds = pycharmm.NonBondedScript(\n    cutnb=12.0, ctonnb=10.0, ctofnb=11.0,\n    eps=1.0,\n    cdie=True,\n    atom=True, vatom=True,\n    switch=True, vfswitch=vfswitch,vswitch=vswitch,\n    noEwald=True)\n\nF_LRC = 0.0\nif vswitch and not vacuumonly:\n    F_LRC = LRC_solute(ctofnb=ctofnb)  # Calculate long-range correction\nif not vacuumonly: add_dummy((coor.get_positions()).mean())\n\nmy_nbonds.run()\nprint(rank, 'minimizing')\nminimize.run_abnr(nstep=1000, tolenr=1e-3, tolgrd=1e-3)\nenergy.show()\nif vacuumonly: setup_PBC_vacuum(20.0)\nenergy.show()\nif not vacuumonly:\n    boxhalf = setup_solvatedBox(solres=solres)\n    # determine fft grid size\n    fft = checkfft(n=np.ceil(boxhalf)*2,margin=0)\n    nb_wPME = pycharmm.NonBondedScript(cutnb=cutnb, cutim=cutim,\n                                       ctonnb=ctonnb, ctofnb=ctofnb,\n                                       eps=1.0,\n                                       cdie=True,\n                                       atom=True, vatom=True,\n                                       switch=True, vfswitch=vfswitch, vswitch=vswitch,\n                                       inbfrq=-1, imgfrq=-1,\n                                       ewald=True,pmewald=True,kappa=0.32,\n                                       fftx=fft,ffty=fft,fftz=fft,order=4)\n    nb_wPME.run()\n    select.store_selection('ENV',pycharmm.SelectAtoms(seg_id='WT00'))\nselect.store_selection('SOLU',pycharmm.SelectAtoms(seg_id=segid))\nif scalecharge: pycharmm.lingo.charmm_script('scalar charge store 1')\ncomm.barrier\n",
      "execute_result": {
       "data": {
        "text/plain": "<function Intracomm.barrier>"
       },
       "execution_count": 10,
       "metadata": {}
      },
      "follow": null,
      "msg_id": null,
      "outputs": [],
      "received": null,
      "started": null,
      "status": null,
      "stderr": "",
      "stdout": " AXIS OF ROTATION IS  0.661580 -0.695146  0.281219  ANGLE IS   96.61\n\n",
      "submitted": "2023-01-06T21:20:24.596069Z"
     },
     "output_type": "display_data"
    },
    {
     "data": {
      "text/plain": [
       "\u001b[0;31mOut[1:10]: \u001b[0m<function Intracomm.barrier>"
      ]
     },
     "metadata": {
      "after": null,
      "completed": null,
      "data": {},
      "engine_id": 1,
      "engine_uuid": "4ec56887-163c2cb5369ca09ce0cb62d9",
      "error": null,
      "execute_input": "# Scripting starts here\n# Loop over sets of lambda values for fixed lambda sampling\nif scalecharge or openmm:\n    #lambda_values = set_lambda(nelec=10,nvdw=15)                     # w/ openmm or scalecharge\n    # In this example script we use a smaller number of windows (8 total)\n    lambda_values = set_lambda(nelec=5,nvdw=8)                     # w/ openmm or scalecharge\nelse:\n    if not vacuumonly: lambda_values = set_lambda(nelec=15,nvdw=15)  # w/ blade and not scalecharge\n    else: lambda_values = set_lambda(nelec=8,nvdw=8)\n\n# Distribute work across nproc\nwork = distributeWork(lambda_values.shape[0])\nif rank == 0:\n    if gaff:\n        if not os.path.isfile('{}.psf'.format(solres)):\n            os.system('cp ../../charmm/{}.* ./'.format(solres))\n    else:\n        if not os.path.isfile('freesolv/{}.str'.format(solres)):\n            print(\"Can't find file to do calculations on freesolv/{}.str\".format(solres))\n            exit()\n            #os.system('cp ../../freesolv_stream/{}.str ./'.format(solres))\n            #os.system('cp ../../charmm/{}.crd ./'.format(solres))\n    if not os.path.isdir('output'): os.system('mkdir output')\n    if not os.path.isdir('pdb'): os.system('mkdir pdb')\n    if not os.path.isdir('res'): os.system('mkdir res')\n    if not os.path.isdir('dcd'): os.system('mkdir dcd')\n    if not os.path.isdir('pdbdyn'): os.system('mkdir pdbdyn')\n    if not os.path.isdir('results'): os.system('mkdir results')\n    if not os.path.isdir('frames'): os.system('mkdir frames')\n    if gaff:\n        for i in ['rtf','prm']: fix_rtfprm('{}.{}'.format(solres,i))\ncomm.barrier()\nif nproc > 1: Prologue('output/logfile_{}'.format(solres))\nsettings.set_bomb_level(-2)\nread.rtf('../toppar/top_all36_cgenff.rtf')\nread.prm('../toppar/par_all36_cgenff.prm', flex=True)\nif gaff:\n    read.rtf('{}.rtf'.format(solres),append=True)\n    read.prm('{}.prm'.format(solres), flex=True, append=True)\nelse:\n    read.stream('freesolv/{}.str'.format(solres))\nread.stream('../toppar/toppar_water_ions.str')\nsettings.set_bomb_level(0)\n\nif gaff:\n    settings.set_bomb_level(-2)\n    read.psf_card('{}.psf'.format(solres))\n    pycharmm.lingo.charmm_script('scalar charge add {:7.4g}'\\\n                                 .format(-np.mean(np.asarray(psf.get_charges()))))\n    pycharmm.lingo.charmm_script('scalar charge stat')\n    read.coor_card('{}.crd'.format(solres))\n    settings.set_bomb_level(0)\nelse:\n    settings.set_bomb_level(-2)\n    read.sequence_string('SOLU')\n    gen.new_segment(seg_name='SOLU')\n    settings.set_bomb_level(0)\n    pycharmm.lingo.charmm_script('read coor ignore name freesolv/{}.crd'.format(solres))\n    pycharmm.lingo.charmm_script('coor shake')  # If any lp atoms present\ncoor.orient(by_rms=False,by_mass=False,by_noro=False)\nresname = psf.get_res()[0].lower() # Assumes first residue is solute residue\nsegid = psf.get_segid()[0].upper()\n\nmy_nbonds = pycharmm.NonBondedScript(\n    cutnb=12.0, ctonnb=10.0, ctofnb=11.0,\n    eps=1.0,\n    cdie=True,\n    atom=True, vatom=True,\n    switch=True, vfswitch=vfswitch,vswitch=vswitch,\n    noEwald=True)\n\nF_LRC = 0.0\nif vswitch and not vacuumonly:\n    F_LRC = LRC_solute(ctofnb=ctofnb)  # Calculate long-range correction\nif not vacuumonly: add_dummy((coor.get_positions()).mean())\n\nmy_nbonds.run()\nprint(rank, 'minimizing')\nminimize.run_abnr(nstep=1000, tolenr=1e-3, tolgrd=1e-3)\nenergy.show()\nif vacuumonly: setup_PBC_vacuum(20.0)\nenergy.show()\nif not vacuumonly:\n    boxhalf = setup_solvatedBox(solres=solres)\n    # determine fft grid size\n    fft = checkfft(n=np.ceil(boxhalf)*2,margin=0)\n    nb_wPME = pycharmm.NonBondedScript(cutnb=cutnb, cutim=cutim,\n                                       ctonnb=ctonnb, ctofnb=ctofnb,\n                                       eps=1.0,\n                                       cdie=True,\n                                       atom=True, vatom=True,\n                                       switch=True, vfswitch=vfswitch, vswitch=vswitch,\n                                       inbfrq=-1, imgfrq=-1,\n                                       ewald=True,pmewald=True,kappa=0.32,\n                                       fftx=fft,ffty=fft,fftz=fft,order=4)\n    nb_wPME.run()\n    select.store_selection('ENV',pycharmm.SelectAtoms(seg_id='WT00'))\nselect.store_selection('SOLU',pycharmm.SelectAtoms(seg_id=segid))\nif scalecharge: pycharmm.lingo.charmm_script('scalar charge store 1')\ncomm.barrier\n",
      "execute_result": {
       "data": {
        "text/plain": "<function Intracomm.barrier>"
       },
       "execution_count": 10,
       "metadata": {}
      },
      "follow": null,
      "msg_id": null,
      "outputs": [],
      "received": null,
      "started": null,
      "status": null,
      "stderr": "",
      "stdout": " AXIS OF ROTATION IS  0.661580 -0.695146  0.281219  ANGLE IS   96.61\n\n",
      "submitted": "2023-01-06T21:20:24.596200Z"
     },
     "output_type": "display_data"
    },
    {
     "data": {
      "text/plain": [
       "\u001b[0;31mOut[2:10]: \u001b[0m<function Intracomm.barrier>"
      ]
     },
     "metadata": {
      "after": null,
      "completed": null,
      "data": {},
      "engine_id": 2,
      "engine_uuid": "f886ace8-09915ed3a1370a49ca44d5e1",
      "error": null,
      "execute_input": "# Scripting starts here\n# Loop over sets of lambda values for fixed lambda sampling\nif scalecharge or openmm:\n    #lambda_values = set_lambda(nelec=10,nvdw=15)                     # w/ openmm or scalecharge\n    # In this example script we use a smaller number of windows (8 total)\n    lambda_values = set_lambda(nelec=5,nvdw=8)                     # w/ openmm or scalecharge\nelse:\n    if not vacuumonly: lambda_values = set_lambda(nelec=15,nvdw=15)  # w/ blade and not scalecharge\n    else: lambda_values = set_lambda(nelec=8,nvdw=8)\n\n# Distribute work across nproc\nwork = distributeWork(lambda_values.shape[0])\nif rank == 0:\n    if gaff:\n        if not os.path.isfile('{}.psf'.format(solres)):\n            os.system('cp ../../charmm/{}.* ./'.format(solres))\n    else:\n        if not os.path.isfile('freesolv/{}.str'.format(solres)):\n            print(\"Can't find file to do calculations on freesolv/{}.str\".format(solres))\n            exit()\n            #os.system('cp ../../freesolv_stream/{}.str ./'.format(solres))\n            #os.system('cp ../../charmm/{}.crd ./'.format(solres))\n    if not os.path.isdir('output'): os.system('mkdir output')\n    if not os.path.isdir('pdb'): os.system('mkdir pdb')\n    if not os.path.isdir('res'): os.system('mkdir res')\n    if not os.path.isdir('dcd'): os.system('mkdir dcd')\n    if not os.path.isdir('pdbdyn'): os.system('mkdir pdbdyn')\n    if not os.path.isdir('results'): os.system('mkdir results')\n    if not os.path.isdir('frames'): os.system('mkdir frames')\n    if gaff:\n        for i in ['rtf','prm']: fix_rtfprm('{}.{}'.format(solres,i))\ncomm.barrier()\nif nproc > 1: Prologue('output/logfile_{}'.format(solres))\nsettings.set_bomb_level(-2)\nread.rtf('../toppar/top_all36_cgenff.rtf')\nread.prm('../toppar/par_all36_cgenff.prm', flex=True)\nif gaff:\n    read.rtf('{}.rtf'.format(solres),append=True)\n    read.prm('{}.prm'.format(solres), flex=True, append=True)\nelse:\n    read.stream('freesolv/{}.str'.format(solres))\nread.stream('../toppar/toppar_water_ions.str')\nsettings.set_bomb_level(0)\n\nif gaff:\n    settings.set_bomb_level(-2)\n    read.psf_card('{}.psf'.format(solres))\n    pycharmm.lingo.charmm_script('scalar charge add {:7.4g}'\\\n                                 .format(-np.mean(np.asarray(psf.get_charges()))))\n    pycharmm.lingo.charmm_script('scalar charge stat')\n    read.coor_card('{}.crd'.format(solres))\n    settings.set_bomb_level(0)\nelse:\n    settings.set_bomb_level(-2)\n    read.sequence_string('SOLU')\n    gen.new_segment(seg_name='SOLU')\n    settings.set_bomb_level(0)\n    pycharmm.lingo.charmm_script('read coor ignore name freesolv/{}.crd'.format(solres))\n    pycharmm.lingo.charmm_script('coor shake')  # If any lp atoms present\ncoor.orient(by_rms=False,by_mass=False,by_noro=False)\nresname = psf.get_res()[0].lower() # Assumes first residue is solute residue\nsegid = psf.get_segid()[0].upper()\n\nmy_nbonds = pycharmm.NonBondedScript(\n    cutnb=12.0, ctonnb=10.0, ctofnb=11.0,\n    eps=1.0,\n    cdie=True,\n    atom=True, vatom=True,\n    switch=True, vfswitch=vfswitch,vswitch=vswitch,\n    noEwald=True)\n\nF_LRC = 0.0\nif vswitch and not vacuumonly:\n    F_LRC = LRC_solute(ctofnb=ctofnb)  # Calculate long-range correction\nif not vacuumonly: add_dummy((coor.get_positions()).mean())\n\nmy_nbonds.run()\nprint(rank, 'minimizing')\nminimize.run_abnr(nstep=1000, tolenr=1e-3, tolgrd=1e-3)\nenergy.show()\nif vacuumonly: setup_PBC_vacuum(20.0)\nenergy.show()\nif not vacuumonly:\n    boxhalf = setup_solvatedBox(solres=solres)\n    # determine fft grid size\n    fft = checkfft(n=np.ceil(boxhalf)*2,margin=0)\n    nb_wPME = pycharmm.NonBondedScript(cutnb=cutnb, cutim=cutim,\n                                       ctonnb=ctonnb, ctofnb=ctofnb,\n                                       eps=1.0,\n                                       cdie=True,\n                                       atom=True, vatom=True,\n                                       switch=True, vfswitch=vfswitch, vswitch=vswitch,\n                                       inbfrq=-1, imgfrq=-1,\n                                       ewald=True,pmewald=True,kappa=0.32,\n                                       fftx=fft,ffty=fft,fftz=fft,order=4)\n    nb_wPME.run()\n    select.store_selection('ENV',pycharmm.SelectAtoms(seg_id='WT00'))\nselect.store_selection('SOLU',pycharmm.SelectAtoms(seg_id=segid))\nif scalecharge: pycharmm.lingo.charmm_script('scalar charge store 1')\ncomm.barrier\n",
      "execute_result": {
       "data": {
        "text/plain": "<function Intracomm.barrier>"
       },
       "execution_count": 10,
       "metadata": {}
      },
      "follow": null,
      "msg_id": null,
      "outputs": [],
      "received": null,
      "started": null,
      "status": null,
      "stderr": "",
      "stdout": " AXIS OF ROTATION IS  0.661580 -0.695146  0.281219  ANGLE IS   96.61\n\n",
      "submitted": "2023-01-06T21:20:24.596393Z"
     },
     "output_type": "display_data"
    },
    {
     "data": {
      "text/plain": [
       "\u001b[0;31mOut[3:10]: \u001b[0m<function Intracomm.barrier>"
      ]
     },
     "metadata": {
      "after": null,
      "completed": null,
      "data": {},
      "engine_id": 3,
      "engine_uuid": "6b44b0de-51538ad515e7fcc3645925ce",
      "error": null,
      "execute_input": "# Scripting starts here\n# Loop over sets of lambda values for fixed lambda sampling\nif scalecharge or openmm:\n    #lambda_values = set_lambda(nelec=10,nvdw=15)                     # w/ openmm or scalecharge\n    # In this example script we use a smaller number of windows (8 total)\n    lambda_values = set_lambda(nelec=5,nvdw=8)                     # w/ openmm or scalecharge\nelse:\n    if not vacuumonly: lambda_values = set_lambda(nelec=15,nvdw=15)  # w/ blade and not scalecharge\n    else: lambda_values = set_lambda(nelec=8,nvdw=8)\n\n# Distribute work across nproc\nwork = distributeWork(lambda_values.shape[0])\nif rank == 0:\n    if gaff:\n        if not os.path.isfile('{}.psf'.format(solres)):\n            os.system('cp ../../charmm/{}.* ./'.format(solres))\n    else:\n        if not os.path.isfile('freesolv/{}.str'.format(solres)):\n            print(\"Can't find file to do calculations on freesolv/{}.str\".format(solres))\n            exit()\n            #os.system('cp ../../freesolv_stream/{}.str ./'.format(solres))\n            #os.system('cp ../../charmm/{}.crd ./'.format(solres))\n    if not os.path.isdir('output'): os.system('mkdir output')\n    if not os.path.isdir('pdb'): os.system('mkdir pdb')\n    if not os.path.isdir('res'): os.system('mkdir res')\n    if not os.path.isdir('dcd'): os.system('mkdir dcd')\n    if not os.path.isdir('pdbdyn'): os.system('mkdir pdbdyn')\n    if not os.path.isdir('results'): os.system('mkdir results')\n    if not os.path.isdir('frames'): os.system('mkdir frames')\n    if gaff:\n        for i in ['rtf','prm']: fix_rtfprm('{}.{}'.format(solres,i))\ncomm.barrier()\nif nproc > 1: Prologue('output/logfile_{}'.format(solres))\nsettings.set_bomb_level(-2)\nread.rtf('../toppar/top_all36_cgenff.rtf')\nread.prm('../toppar/par_all36_cgenff.prm', flex=True)\nif gaff:\n    read.rtf('{}.rtf'.format(solres),append=True)\n    read.prm('{}.prm'.format(solres), flex=True, append=True)\nelse:\n    read.stream('freesolv/{}.str'.format(solres))\nread.stream('../toppar/toppar_water_ions.str')\nsettings.set_bomb_level(0)\n\nif gaff:\n    settings.set_bomb_level(-2)\n    read.psf_card('{}.psf'.format(solres))\n    pycharmm.lingo.charmm_script('scalar charge add {:7.4g}'\\\n                                 .format(-np.mean(np.asarray(psf.get_charges()))))\n    pycharmm.lingo.charmm_script('scalar charge stat')\n    read.coor_card('{}.crd'.format(solres))\n    settings.set_bomb_level(0)\nelse:\n    settings.set_bomb_level(-2)\n    read.sequence_string('SOLU')\n    gen.new_segment(seg_name='SOLU')\n    settings.set_bomb_level(0)\n    pycharmm.lingo.charmm_script('read coor ignore name freesolv/{}.crd'.format(solres))\n    pycharmm.lingo.charmm_script('coor shake')  # If any lp atoms present\ncoor.orient(by_rms=False,by_mass=False,by_noro=False)\nresname = psf.get_res()[0].lower() # Assumes first residue is solute residue\nsegid = psf.get_segid()[0].upper()\n\nmy_nbonds = pycharmm.NonBondedScript(\n    cutnb=12.0, ctonnb=10.0, ctofnb=11.0,\n    eps=1.0,\n    cdie=True,\n    atom=True, vatom=True,\n    switch=True, vfswitch=vfswitch,vswitch=vswitch,\n    noEwald=True)\n\nF_LRC = 0.0\nif vswitch and not vacuumonly:\n    F_LRC = LRC_solute(ctofnb=ctofnb)  # Calculate long-range correction\nif not vacuumonly: add_dummy((coor.get_positions()).mean())\n\nmy_nbonds.run()\nprint(rank, 'minimizing')\nminimize.run_abnr(nstep=1000, tolenr=1e-3, tolgrd=1e-3)\nenergy.show()\nif vacuumonly: setup_PBC_vacuum(20.0)\nenergy.show()\nif not vacuumonly:\n    boxhalf = setup_solvatedBox(solres=solres)\n    # determine fft grid size\n    fft = checkfft(n=np.ceil(boxhalf)*2,margin=0)\n    nb_wPME = pycharmm.NonBondedScript(cutnb=cutnb, cutim=cutim,\n                                       ctonnb=ctonnb, ctofnb=ctofnb,\n                                       eps=1.0,\n                                       cdie=True,\n                                       atom=True, vatom=True,\n                                       switch=True, vfswitch=vfswitch, vswitch=vswitch,\n                                       inbfrq=-1, imgfrq=-1,\n                                       ewald=True,pmewald=True,kappa=0.32,\n                                       fftx=fft,ffty=fft,fftz=fft,order=4)\n    nb_wPME.run()\n    select.store_selection('ENV',pycharmm.SelectAtoms(seg_id='WT00'))\nselect.store_selection('SOLU',pycharmm.SelectAtoms(seg_id=segid))\nif scalecharge: pycharmm.lingo.charmm_script('scalar charge store 1')\ncomm.barrier\n",
      "execute_result": {
       "data": {
        "text/plain": "<function Intracomm.barrier>"
       },
       "execution_count": 10,
       "metadata": {}
      },
      "follow": null,
      "msg_id": null,
      "outputs": [],
      "received": null,
      "started": null,
      "status": null,
      "stderr": "",
      "stdout": " AXIS OF ROTATION IS  0.661580 -0.695146  0.281219  ANGLE IS   96.61\n\n",
      "submitted": "2023-01-06T21:20:24.596500Z"
     },
     "output_type": "display_data"
    }
   ],
   "source": [
    "%%px\n",
    "# Scripting starts here\n",
    "# Loop over sets of lambda values for fixed lambda sampling\n",
    "if scalecharge or openmm:\n",
    "    #lambda_values = set_lambda(nelec=10,nvdw=15)                     # w/ openmm or scalecharge\n",
    "    # In this example script we use a smaller number of windows (8 total)\n",
    "    lambda_values = set_lambda(nelec=5,nvdw=8)                     # w/ openmm or scalecharge\n",
    "else:\n",
    "    if not vacuumonly: lambda_values = set_lambda(nelec=15,nvdw=15)  # w/ blade and not scalecharge\n",
    "    else: lambda_values = set_lambda(nelec=8,nvdw=8)\n",
    "\n",
    "# Distribute work across nproc\n",
    "work = distributeWork(lambda_values.shape[0])\n",
    "if rank == 0:\n",
    "    if gaff:\n",
    "        if not os.path.isfile('{}.psf'.format(solres)):\n",
    "            os.system('cp ../../charmm/{}.* ./'.format(solres))\n",
    "    else:\n",
    "        if not os.path.isfile('freesolv/{}.str'.format(solres)):\n",
    "            print(\"Can't find file to do calculations on freesolv/{}.str\".format(solres))\n",
    "            exit()\n",
    "            #os.system('cp ../../freesolv_stream/{}.str ./'.format(solres))\n",
    "            #os.system('cp ../../charmm/{}.crd ./'.format(solres))\n",
    "    if not os.path.isdir('output'): os.system('mkdir output')\n",
    "    if not os.path.isdir('pdb'): os.system('mkdir pdb')\n",
    "    if not os.path.isdir('res'): os.system('mkdir res')\n",
    "    if not os.path.isdir('dcd'): os.system('mkdir dcd')\n",
    "    if not os.path.isdir('pdbdyn'): os.system('mkdir pdbdyn')\n",
    "    if not os.path.isdir('results'): os.system('mkdir results')\n",
    "    if not os.path.isdir('frames'): os.system('mkdir frames')\n",
    "    if gaff:\n",
    "        for i in ['rtf','prm']: fix_rtfprm('{}.{}'.format(solres,i))\n",
    "comm.barrier()\n",
    "if nproc > 1: Prologue('output/logfile_{}'.format(solres))\n",
    "settings.set_bomb_level(-2)\n",
    "read.rtf('../toppar/top_all36_cgenff.rtf')\n",
    "read.prm('../toppar/par_all36_cgenff.prm', flex=True)\n",
    "if gaff:\n",
    "    read.rtf('{}.rtf'.format(solres),append=True)\n",
    "    read.prm('{}.prm'.format(solres), flex=True, append=True)\n",
    "else:\n",
    "    read.stream('freesolv/{}.str'.format(solres))\n",
    "read.stream('../toppar/toppar_water_ions.str')\n",
    "settings.set_bomb_level(0)\n",
    "\n",
    "if gaff:\n",
    "    settings.set_bomb_level(-2)\n",
    "    read.psf_card('{}.psf'.format(solres))\n",
    "    pycharmm.lingo.charmm_script('scalar charge add {:7.4g}'\\\n",
    "                                 .format(-np.mean(np.asarray(psf.get_charges()))))\n",
    "    pycharmm.lingo.charmm_script('scalar charge stat')\n",
    "    read.coor_card('{}.crd'.format(solres))\n",
    "    settings.set_bomb_level(0)\n",
    "else:\n",
    "    settings.set_bomb_level(-2)\n",
    "    read.sequence_string('SOLU')\n",
    "    gen.new_segment(seg_name='SOLU')\n",
    "    settings.set_bomb_level(0)\n",
    "    pycharmm.lingo.charmm_script('read coor ignore name freesolv/{}.crd'.format(solres))\n",
    "    pycharmm.lingo.charmm_script('coor shake')  # If any lp atoms present\n",
    "coor.orient(by_rms=False,by_mass=False,by_noro=False)\n",
    "resname = psf.get_res()[0].lower() # Assumes first residue is solute residue\n",
    "segid = psf.get_segid()[0].upper()\n",
    "\n",
    "my_nbonds = pycharmm.NonBondedScript(\n",
    "    cutnb=12.0, ctonnb=10.0, ctofnb=11.0,\n",
    "    eps=1.0,\n",
    "    cdie=True,\n",
    "    atom=True, vatom=True,\n",
    "    switch=True, vfswitch=vfswitch,vswitch=vswitch,\n",
    "    noEwald=True)\n",
    "\n",
    "F_LRC = 0.0\n",
    "if vswitch and not vacuumonly:\n",
    "    F_LRC = LRC_solute(ctofnb=ctofnb)  # Calculate long-range correction\n",
    "if not vacuumonly: add_dummy((coor.get_positions()).mean())\n",
    "\n",
    "my_nbonds.run()\n",
    "print(rank, 'minimizing')\n",
    "minimize.run_abnr(nstep=1000, tolenr=1e-3, tolgrd=1e-3)\n",
    "energy.show()\n",
    "if vacuumonly: setup_PBC_vacuum(20.0)\n",
    "energy.show()\n",
    "if not vacuumonly:\n",
    "    boxhalf = setup_solvatedBox(solres=solres)\n",
    "    # determine fft grid size\n",
    "    fft = checkfft(n=np.ceil(boxhalf)*2,margin=0)\n",
    "    nb_wPME = pycharmm.NonBondedScript(cutnb=cutnb, cutim=cutim,\n",
    "                                       ctonnb=ctonnb, ctofnb=ctofnb,\n",
    "                                       eps=1.0,\n",
    "                                       cdie=True,\n",
    "                                       atom=True, vatom=True,\n",
    "                                       switch=True, vfswitch=vfswitch, vswitch=vswitch,\n",
    "                                       inbfrq=-1, imgfrq=-1,\n",
    "                                       ewald=True,pmewald=True,kappa=0.32,\n",
    "                                       fftx=fft,ffty=fft,fftz=fft,order=4)\n",
    "    nb_wPME.run()\n",
    "    select.store_selection('ENV',pycharmm.SelectAtoms(seg_id='WT00'))\n",
    "select.store_selection('SOLU',pycharmm.SelectAtoms(seg_id=segid))\n",
    "if scalecharge: pycharmm.lingo.charmm_script('scalar charge store 1')\n",
    "comm.barrier"
   ]
  },
  {
   "cell_type": "markdown",
   "id": "b69ea603-5d07-4099-bf8b-f5f7bf3ad4c2",
   "metadata": {},
   "source": [
    "# At this point it is important to look at your solvated molecule and make sure it looks correct. To do this in a terminal run >pymol -R & and set the usepymol variable to True. Note the http:localhost:9123 should correspond to the port that is indicated by the \"pymol -R\" command above."
   ]
  },
  {
   "cell_type": "code",
   "execution_count": 12,
   "id": "13081312",
   "metadata": {},
   "outputs": [],
   "source": [
    "%%px\n",
    "if rank == 0:\n",
    "    # if you can run pymol in your setup issue the command above in the terminal and set the usepymol logical\n",
    "    # here:\n",
    "    usepymol = False\n",
    "    if usepymol:\n",
    "        import xmlrpc.client as xmlrpclib\n",
    "        cmd = xmlrpclib.ServerProxy('http://localhost:9123')\n",
    "        cmd.reinitialize()\n",
    "    cmd.load('pdb/{}+wat_min.pdb'.format(solres))\n",
    "    cmd.show_as('spheres','resn SOLU')"
   ]
  },
  {
   "cell_type": "markdown",
   "id": "86cf50fd-0ad1-43b3-bfc8-1c1a4763d539",
   "metadata": {},
   "source": [
    "# Loop over lambda windows and sample in each window"
   ]
  },
  {
   "cell_type": "code",
   "execution_count": 13,
   "id": "4f5e7c16-51c9-498c-aabf-f368a8732966",
   "metadata": {
    "tags": []
   },
   "outputs": [
    {
     "data": {
      "application/vnd.jupyter.widget-view+json": {
       "model_id": "d5a17c194be8401980b332e4c0f5421e",
       "version_major": 2,
       "version_minor": 0
      },
      "text/plain": [
       "%px:   0%|          | 0/4 [00:00<?, ?tasks/s]"
      ]
     },
     "metadata": {},
     "output_type": "display_data"
    },
    {
     "data": {
      "text/plain": [
       "[stderr:2] /var/folders/3c/k8xjtmsx06x7nyr27pzhzj6m007w54/T/ipykernel_3995/610209268.py:162: FutureWarning: In a future version, `df.iloc[:, i] = newvals` will attempt to set the values inplace instead of always setting a new array. To retain the old behavior, use either `df[df.columns[i]] = newvals` or, if columns are non-unique, `df.isetitem(i, newvals)`\n",
       "  frames.loc[:,j+inc]=np.asarray(this_frame,dtype=float)\n",
       "/var/folders/3c/k8xjtmsx06x7nyr27pzhzj6m007w54/T/ipykernel_3995/610209268.py:162: FutureWarning: In a future version, `df.iloc[:, i] = newvals` will attempt to set the values inplace instead of always setting a new array. To retain the old behavior, use either `df[df.columns[i]] = newvals` or, if columns are non-unique, `df.isetitem(i, newvals)`\n",
       "  frames.loc[:,j+inc]=np.asarray(this_frame,dtype=float)\n"
      ]
     },
     "metadata": {},
     "output_type": "display_data"
    },
    {
     "data": {
      "text/plain": [
       "[stderr:1] /var/folders/3c/k8xjtmsx06x7nyr27pzhzj6m007w54/T/ipykernel_3994/610209268.py:162: FutureWarning: In a future version, `df.iloc[:, i] = newvals` will attempt to set the values inplace instead of always setting a new array. To retain the old behavior, use either `df[df.columns[i]] = newvals` or, if columns are non-unique, `df.isetitem(i, newvals)`\n",
       "  frames.loc[:,j+inc]=np.asarray(this_frame,dtype=float)\n",
       "/var/folders/3c/k8xjtmsx06x7nyr27pzhzj6m007w54/T/ipykernel_3994/610209268.py:162: FutureWarning: In a future version, `df.iloc[:, i] = newvals` will attempt to set the values inplace instead of always setting a new array. To retain the old behavior, use either `df[df.columns[i]] = newvals` or, if columns are non-unique, `df.isetitem(i, newvals)`\n",
       "  frames.loc[:,j+inc]=np.asarray(this_frame,dtype=float)\n"
      ]
     },
     "metadata": {},
     "output_type": "display_data"
    },
    {
     "data": {
      "text/plain": [
       "[stderr:0] /var/folders/3c/k8xjtmsx06x7nyr27pzhzj6m007w54/T/ipykernel_3993/610209268.py:162: FutureWarning: In a future version, `df.iloc[:, i] = newvals` will attempt to set the values inplace instead of always setting a new array. To retain the old behavior, use either `df[df.columns[i]] = newvals` or, if columns are non-unique, `df.isetitem(i, newvals)`\n",
       "  frames.loc[:,j+inc]=np.asarray(this_frame,dtype=float)\n",
       "/var/folders/3c/k8xjtmsx06x7nyr27pzhzj6m007w54/T/ipykernel_3993/610209268.py:162: FutureWarning: In a future version, `df.iloc[:, i] = newvals` will attempt to set the values inplace instead of always setting a new array. To retain the old behavior, use either `df[df.columns[i]] = newvals` or, if columns are non-unique, `df.isetitem(i, newvals)`\n",
       "  frames.loc[:,j+inc]=np.asarray(this_frame,dtype=float)\n"
      ]
     },
     "metadata": {},
     "output_type": "display_data"
    },
    {
     "data": {
      "text/plain": [
       "[stderr:3] /var/folders/3c/k8xjtmsx06x7nyr27pzhzj6m007w54/T/ipykernel_3996/610209268.py:162: FutureWarning: In a future version, `df.iloc[:, i] = newvals` will attempt to set the values inplace instead of always setting a new array. To retain the old behavior, use either `df[df.columns[i]] = newvals` or, if columns are non-unique, `df.isetitem(i, newvals)`\n",
       "  frames.loc[:,j+inc]=np.asarray(this_frame,dtype=float)\n",
       "/var/folders/3c/k8xjtmsx06x7nyr27pzhzj6m007w54/T/ipykernel_3996/610209268.py:162: FutureWarning: In a future version, `df.iloc[:, i] = newvals` will attempt to set the values inplace instead of always setting a new array. To retain the old behavior, use either `df[df.columns[i]] = newvals` or, if columns are non-unique, `df.isetitem(i, newvals)`\n",
       "  frames.loc[:,j+inc]=np.asarray(this_frame,dtype=float)\n"
      ]
     },
     "metadata": {},
     "output_type": "display_data"
    }
   ],
   "source": [
    "%%px\n",
    "for i in work[rank]:\n",
    "\n",
    "    print('Generating window for lambda_elec={} and lambda_vdW={}'\n",
    "          .format(lambda_values[i,0],lambda_values[i,1]))\n",
    "    # Make a dataframe to store energy values\n",
    "    frames = pd.DataFrame(columns=range(lambda_values.shape[0]))\n",
    "    if scalecharge:\n",
    "        pycharmm.lingo.charmm_script('scalar charge recall 1')\n",
    "        if lambda_values[i,1] > 0: scalefactor=lambda_values[i,0]/lambda_values[i,1]\n",
    "        else: scalefactor=lambda_values[i,0]\n",
    "        set_blocks_msld(env='ENV',solu='SOLU',\n",
    "                        lmbda=lambda_values[i,1],\n",
    "                        scalecharge=scalecharge,\n",
    "                        scalefactor=scalefactor)\n",
    "    else:\n",
    "        if blade:\n",
    "            set_blocks_msld(env='ENV',solu='SOLU',\n",
    "                            lmbda=lambda_values[i,1])\n",
    "        else:\n",
    "            if not vacuumonly:\n",
    "                set_blocks(env='ENV',solu='SOLU',\n",
    "                           lelec=lambda_values[i,0], lvdw=lambda_values[i,1],\n",
    "                           lelec2=lambda_values[i,0], lvdw2=lambda_values[i,1])\n",
    "            else:\n",
    "                set_blocks_vacuum(env='ENV',solu='SOLU',\n",
    "                           lelec=lambda_values[i,0], lvdw=lambda_values[i,1],\n",
    "                           lelec2=lambda_values[i,0], lvdw2=lambda_values[i,1])\n",
    "#########################DYNAMICS########################\n",
    "    # Setup and run dynamics at this set of lambda values\n",
    "    shake.on(bonh=True, fast=True, tol=1e-7)\n",
    "    if openmm:\n",
    "        pycharmm.lingo.charmm_script('omm on')\n",
    "        #pycharmm.lingo.charmm_script('omm on platform {} deviceid {}'.\n",
    "        #                             format(platform,rank%gpus_per_node))\n",
    "    elif blade:\n",
    "        pycharmm.lingo.charmm_script('energy blade')\n",
    "    if vacuumonly: imgfrq = 0\n",
    "    else: imgfrq = -1\n",
    "    dyn.set_fbetas(np.full((psf.get_natom()),1.0,dtype=float))\n",
    "   \n",
    "    res_file = pycharmm.CharmmFile(file_name='res/{}_{}.res'.format(solres,i), file_unit=2,\n",
    "                                   formatted=True,read_only=False)\n",
    "    lam_file = pycharmm.CharmmFile(file_name='res/{}_{}.lam'.format(solres,i), file_unit=3,\n",
    "                                   formatted=False,read_only=False)\n",
    "    my_dyn = pycharmm.DynamicsScript(leap=leap, lang=lang, start=True,\n",
    "                                     nstep=nequil, timest=0.002,\n",
    "                                     firstt=298.0, finalt=298.0, tbath=298.0,\n",
    "                                     tstruc=298.0,\n",
    "                                     teminc=0.0, twindh=0.0, twindl=0.0,\n",
    "                                     iunwri=res_file.file_unit,\n",
    "                                     iunlam=lam_file.file_unit,\n",
    "                                     inbfrq=-1, imgfrq=imgfrq,\n",
    "                                     iasors=0, iasvel=1, ichecw=0, iscale=0,\n",
    "                                     iscvel=0,\n",
    "                                     echeck=-1.0, nsavc=0, nsavv=0, nsavl=0, ntrfrq=0,\n",
    "                                     isvfrq=nsavc,\n",
    "                                     iprfrq=2*nsavc, nprint=nsavc, ihtfrq=0, ieqfrq=0,\n",
    "                                     ilbfrq=0,ihbfrq=0,\n",
    "                                     blade=useblade,omm=useomm)\n",
    "    my_dyn.run()\n",
    "\n",
    "    res_file.close()\n",
    "    lam_file.close()\n",
    "    res_file = pycharmm.CharmmFile(file_name='res/{}_{}.res'.format(solres,i), file_unit=2,\n",
    "                                   formatted=True,read_only=False)\n",
    "    lam_file = pycharmm.CharmmFile(file_name='res/{}_{}.lam'.format(solres,i), file_unit=3,\n",
    "                                   formatted=False,read_only=False)\n",
    "    dcd_file = pycharmm.CharmmFile(file_name='dcd/{}_{}.dcd'.format(solres,i), file_unit=1,\n",
    "                                   formatted=False,read_only=False)\n",
    "\n",
    "    pycharmm.DynamicsScript(leap=leap, lang=lang, restart=True, nstep=nprod, timest=0.002,\n",
    "                            firstt=298.0, finalt=298.0, tbath=298.0,\n",
    "                            tstruc=298.0,\n",
    "                            teminc=0.0, twindh=0.0, twindl=0.0,\n",
    "                            iunwri=res_file.file_unit,\n",
    "                            iunrea=res_file.file_unit,\n",
    "                            iunlam=lam_file.file_unit,\n",
    "                            inbfrq=-1, imgfrq=imgfrq,\n",
    "                            iuncrd=dcd_file.file_unit,\n",
    "                            iasors=0, iasvel=1, ichecw=0, iscale=0, iscvel=0,\n",
    "                            echeck=-1.0, nsavc=nsavc, nsavv=0, nsavl=0,\n",
    "                            ntrfrq=0, isvfrq=nsavc,\n",
    "                            iprfrq=5*nsavc, nprint=nsavc, ihtfrq=0, ieqfrq=0,\n",
    "                            ilbfrq=0, ihbfrq=0,\n",
    "                            blade=useblade, omm=useomm).run()\n",
    "    res_file.close()\n",
    "    lam_file.close()\n",
    "    dcd_file.close()\n",
    "    write.coor_pdb('pdbdyn/{}+wat_{}.pdb'.format(solres,i))\n",
    "    if openmm: pycharmm.lingo.charmm_script('omm clear')\n",
    "    if blade: pycharmm.lingo.charmm_script('blade off')\n",
    "#########################ANALYSIS########################\n",
    "    for j in range(lambda_values.shape[0]):\n",
    "        for env in environment:\n",
    "            if scalecharge:\n",
    "                pycharmm.lingo.charmm_script('scalar charge recall 1')\n",
    "                if lambda_values[j,1] > 0: scalefactor=lambda_values[j,0]/lambda_values[j,1]\n",
    "                else: scalefactor=lambda_values[j,0]\n",
    "            # set lambda to loop through all values\n",
    "            if env == 'solvent':\n",
    "                if blade:\n",
    "                    if scalecharge:\n",
    "                        set_blocks_msld(env='ENV',solu='SOLU',\n",
    "                                        lmbda=lambda_values[j,1],\n",
    "                                        scalecharge=scalecharge,\n",
    "                                        scalefactor=scalefactor)\n",
    "                    else:\n",
    "                        set_blocks_msld(env='ENV',solu='SOLU',\n",
    "                                        lmbda=lambda_values[j,1])\n",
    "                else:\n",
    "                    if not vacuumonly:\n",
    "                        set_blocks(env='ENV',solu='SOLU',\n",
    "                                   lelec=lambda_values[j,0], lvdw=lambda_values[j,1],\n",
    "                                   lelec2=lambda_values[j,0], lvdw2=lambda_values[j,1])\n",
    "                    else:\n",
    "                        set_blocks_vacuum(env='ENV',solu='SOLU',\n",
    "                                          lelec=lambda_values[j,0], lvdw=lambda_values[j,1],\n",
    "                                          lelec2=lambda_values[j,0], lvdw2=lambda_values[j,1])\n",
    "                nb_wPME.run()\n",
    "            elif env == 'vacuum' and not vacuumonly:\n",
    "                set_blocks(env='ENV',solu='SOLU',\n",
    "                           lenv=0.0, lelec=0.0, lvdw=0.0,\n",
    "                           lelec2=lambda_values[j,0], lvdw2=lambda_values[j,1])\n",
    "                my_nbonds.run()\n",
    "            elif env == 'vacuum' and vacuumonly:\n",
    "                set_blocks_vacuum(env='ENV',solu='SOLU',\n",
    "                           lenv=0.0, lelec=lambda_values[j,0], lvdw=lambda_values[j,1],\n",
    "                           lelec2=lambda_values[j,0], lvdw2=lambda_values[j,1])\n",
    "                my_nbonds.run()\n",
    "                nbonds.set_inbfrq(0)\n",
    "                nbonds.set_imgfrq(0)\n",
    "            # open file for current i-loop\n",
    "            print('Analyzing {} for lambda_elec={} and lambda_vdW={}'\n",
    "                  .format(env,lambda_values[j,0],lambda_values[j,1]))\n",
    "            dcd_file = pycharmm.CharmmFile(file_name='dcd/{}_{}.dcd'.\n",
    "                                           format(solres,i), file_unit=1,\n",
    "                                           formatted=False,read_only=True)\n",
    "            pycharmm.lingo.charmm_script('traj query unit 1')\n",
    "            nfiles = pycharmm.lingo.get_energy_value('NFILE')\n",
    "            pycharmm.lingo.charmm_script('traj firstu 1 nunit 1')\n",
    "            if env == 'solvent':\n",
    "                if openmm:\n",
    "                    pycharmm.lingo.charmm_script('omm on')\n",
    "                    #pycharmm.lingo.charmm_script('omm on platform {} deviceid {}'.\n",
    "                    #                             format(platform,rank%gpus_per_node))\n",
    "\n",
    "                elif blade:\n",
    "                    pycharmm.lingo.charmm_script('blade on')\n",
    "            this_frame = []\n",
    "            for frame in range(nfiles):\n",
    "                pycharmm.lingo.charmm_script('traj read')\n",
    "                energy.show()\n",
    "                this_frame.append(energy.get_total())\n",
    "            dcd_file.close()\n",
    "            settings.set_verbosity(5)\n",
    "            if env == 'solvent':\n",
    "                if blade: pycharmm.charmm_script('blade off')\n",
    "                elif openmm: pycharmm.charmm_script('omm clear')\n",
    "            inc = 0\n",
    "            if env == 'vacuum' and not vacuumonly and len(environment)>1:\n",
    "                inc = lambda_values.shape[0]\n",
    "            frames.loc[:,j+inc]=np.asarray(this_frame,dtype=float)\n",
    "    if not vacuumonly: out = open('frames/frames_{}_{}.pkl'.format(solres,i),'wb')\n",
    "    if vacuumonly: out = open('frames/frames_{}_{}_vac.pkl'.format(solres,i),'wb')\n",
    "    pickle.dump(frames,out)\n",
    "    out.close()\n",
    "comm.barrier()"
   ]
  },
  {
   "cell_type": "markdown",
   "id": "1d72f194-6429-442d-8dc8-269b9f56e6c6",
   "metadata": {},
   "source": [
    "## Process data from trajectories to get free energies"
   ]
  },
  {
   "cell_type": "code",
   "execution_count": 14,
   "id": "c3736250-303d-4785-a110-bb3d2776b109",
   "metadata": {
    "tags": []
   },
   "outputs": [
    {
     "data": {
      "text/plain": [
       "[stderr:0] /var/folders/3c/k8xjtmsx06x7nyr27pzhzj6m007w54/T/ipykernel_3993/948693602.py:7: FutureWarning: The frame.append method is deprecated and will be removed from pandas in a future version. Use pandas.concat instead.\n",
       "  frames = frames.append(pickle.load(input),ignore_index=True)\n"
      ]
     },
     "metadata": {},
     "output_type": "display_data"
    }
   ],
   "source": [
    "%%px\n",
    "#########################DATA PROCESSING############################\n",
    "if rank == 0:\n",
    "    frames = pd.DataFrame(columns=range(len(environment)*lambda_values.shape[0]))\n",
    "    for i in range(lambda_values.shape[0]):\n",
    "        if not vacuumonly: input = open('frames/frames_{}_{}.pkl'.format(solres,i),'rb')\n",
    "        else: input = open('frames/frames_{}_{}_vac.pkl'.format(solres,i),'rb')\n",
    "        frames = frames.append(pickle.load(input),ignore_index=True)\n",
    "        input.close()\n",
    "    if not vacuumonly: out = open('frames/frames_{}_combined.pkl'\n",
    "                                  .format(solres),'wb')\n",
    "    else: out = open('frames/frames_{}_combined-vacuumonly.pkl'\n",
    "                     .format(solres),'wb')\n",
    "    pickle.dump(frames,out)\n",
    "    out.close()\n",
    "comm.barrier()"
   ]
  },
  {
   "cell_type": "code",
   "execution_count": 15,
   "id": "ab1a7ccb-ff24-4c37-bb59-443df5396520",
   "metadata": {
    "tags": []
   },
   "outputs": [
    {
     "ename": "AlreadyDisplayedError",
     "evalue": "4 errors",
     "output_type": "error",
     "traceback": [
      "4 errors"
     ]
    },
    {
     "name": "stdout",
     "output_type": "stream",
     "text": [
      "engine set stopped 1673040002: {'exit_code': 0, 'pid': 3981, 'identifier': 'ipengine-1673040000-mbbh-1673040002-2481'}\n"
     ]
    }
   ],
   "source": [
    "%%px\n",
    "if rank == 0:\n",
    "    if not vacuumonly: frames_in = open('frames/frames_{}_combined.pkl'\n",
    "                                  .format(solres),'rb')\n",
    "    else: frames_in = open('frames/frames_{}_combined-vacuumonly.pkl'\n",
    "                     .format(solres),'rb')\n",
    "    frames = pickle.load(frames_in)\n",
    "    frames_in.close()\n",
    "    print(frames.info)\n",
    "    if not vacuumonly: get_FreeEnergy(frames=frames,solres=solres,\n",
    "                                      outfile='results/FE_{}.txt'.format(solres),\n",
    "                                      csvfile='results/FE_{}.csv'.\n",
    "                                      format(iteration),F_LRC=F_LRC)\n",
    "    else: get_FreeEnergy(frames=frames,solres=solres,\n",
    "                         outfile='results/FE_{}_vac.txt'.format(solres),\n",
    "                         csvfile='results/FE_{}_vac.csv'.format(iteration),\n",
    "                         F_LRC=F_LRC)\n",
    "\n",
    "comm.barrier()\n",
    "pycharmm.lingo.charmm_script('stop')"
   ]
  }
 ],
 "metadata": {
  "kernelspec": {
   "display_name": "Python 3 (ipykernel)",
   "language": "python",
   "name": "python3"
  },
  "language_info": {
   "codemirror_mode": {
    "name": "ipython",
    "version": 3
   },
   "file_extension": ".py",
   "mimetype": "text/x-python",
   "name": "python",
   "nbconvert_exporter": "python",
   "pygments_lexer": "ipython3",
   "version": "3.8.13"
  }
 },
 "nbformat": 4,
 "nbformat_minor": 5
}

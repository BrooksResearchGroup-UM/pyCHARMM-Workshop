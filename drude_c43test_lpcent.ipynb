{
 "cells": [
  {
   "cell_type": "markdown",
   "id": "8086dcc0-c923-460f-9804-6f932c3ff2d1",
   "metadata": {},
   "source": [
    "# Drude Oscillator Example\n",
    "## from c43test/lpcent.inp"
   ]
  },
  {
   "cell_type": "code",
   "execution_count": null,
   "id": "c9feca60-5cc7-433f-907e-c8638d2c4c7f",
   "metadata": {},
   "outputs": [],
   "source": [
    "# The purpose of this script is to illustrate the use of some Drude oscillator\n",
    "# functionality in pyCHARMM. This is a redo of the test case c43test/lpcent.inp\n",
    "#  copyright C.L. Brooks III, June 20, 2022\n",
    "\n",
    "# These are general python modules needed for this  tutorial\n",
    "import os\n",
    "import sys\n",
    "\n",
    "# These are a subset of the pycharmm modules that were installed when\n",
    "# pycharmm was installed in your python environment\n",
    "import pycharmm\n",
    "import pycharmm.generate as gen\n",
    "import pycharmm.ic as ic\n",
    "import pycharmm.coor as coor\n",
    "import pycharmm.energy as energy\n",
    "import pycharmm.dynamics as dyn\n",
    "import pycharmm.nbonds as nbonds\n",
    "import pycharmm.minimize as minimize\n",
    "import pycharmm.crystal as crystal\n",
    "import pycharmm.image as image\n",
    "import pycharmm.psf as psf\n",
    "import pycharmm.read as read\n",
    "import pycharmm.write as write\n",
    "import pycharmm.settings as settings\n",
    "import pycharmm.cons_harm as cons_harm\n",
    "import pycharmm.cons_fix as cons_fix\n",
    "import pycharmm.select as select\n",
    "import pycharmm.shake as shake\n",
    "\n",
    "from pycharmm.lib import charmm as libcharmm\n"
   ]
  },
  {
   "cell_type": "code",
   "execution_count": null,
   "id": "6437b874-0daa-4e6e-995d-f0e11c6ded38",
   "metadata": {},
   "outputs": [],
   "source": [
    "# stream in the drude rtf/parametter files using the pycharmm.lingo module\n",
    "# equivalent to the CHARMM scripting command: stream toppar/toppar_drude.str\n",
    "pycharmm.lingo.charmm_script('stream toppar/toppar_drude.str')"
   ]
  },
  {
   "cell_type": "code",
   "execution_count": null,
   "id": "87f05b44-70dd-4346-b3e4-7a8f293c20d9",
   "metadata": {},
   "outputs": [],
   "source": [
    "import numpy as np\n",
    "read.sequence_string('BENX')\n",
    "\n",
    "# equivalent to the CHARMM scripting command: generate ADP first ACE last CT3 setup\n",
    "gen.new_segment(seg_name='BENX', \n",
    "                setup_ic=True, warn=True,\n",
    "                drude=True, mass=0.4, angle=True, dihedral=True)\n",
    "lpbx = pycharmm.SelectAtoms(atom_type='LPBX')\n",
    "lpbx_present = np.sum(np.array(list(lpbx))) > 0\n",
    "print('testcase result: {} -- reading'.format(lpbx_present))"
   ]
  },
  {
   "cell_type": "code",
   "execution_count": null,
   "id": "7388ddec-d496-4fdf-9cba-ee65f483c6c4",
   "metadata": {},
   "outputs": [],
   "source": [
    "coor.show()\n",
    "ic.prm_fill(replace_all=True)\n",
    "ic.seed(res1=1, atom1='CD1', res2=1, atom2='CE1', res3=1, atom3='CZ')\n",
    "ic.build()\n",
    "pycharmm.lingo.charmm_script('coor sdrude')\n",
    "pycharmm.lingo.charmm_script('coor shake')\n",
    "coor.show()"
   ]
  },
  {
   "cell_type": "code",
   "execution_count": null,
   "id": "bcc0e041-c825-4770-9e2a-68455c2e6f78",
   "metadata": {},
   "outputs": [],
   "source": [
    "write.coor_pdb('pdb/lpcent.pdb')\n",
    "write.psf_card('pdb/lpcent.psf')\n",
    "psf.delete_atoms(pycharmm.SelectAtoms().all_atoms())"
   ]
  },
  {
   "cell_type": "code",
   "execution_count": null,
   "id": "e387287c-330e-42b2-9ae9-f661f81f678d",
   "metadata": {},
   "outputs": [],
   "source": [
    "read.psf_card('pdb/lpcent.psf')\n",
    "read.pdb('pdb/lpcent.pdb')\n",
    "lpbx = pycharmm.SelectAtoms(atom_type='LPBX')\n",
    "lpbx_present = np.sum(np.array(list(lpbx))) > 0\n",
    "print('testcase result: {} -- writing'.format(lpbx_present))"
   ]
  }
 ],
 "metadata": {
  "kernelspec": {
   "display_name": "Python 3 (ipykernel)",
   "language": "python",
   "name": "python3"
  },
  "language_info": {
   "codemirror_mode": {
    "name": "ipython",
    "version": 3
   },
   "file_extension": ".py",
   "mimetype": "text/x-python",
   "name": "python",
   "nbconvert_exporter": "python",
   "pygments_lexer": "ipython3",
   "version": "3.8.10"
  }
 },
 "nbformat": 4,
 "nbformat_minor": 5
}
